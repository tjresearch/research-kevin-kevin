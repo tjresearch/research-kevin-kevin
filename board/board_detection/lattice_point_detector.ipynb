{
 "cells": [
  {
   "cell_type": "code",
   "execution_count": 1,
   "metadata": {
    "pycharm": {
     "is_executing": false,
     "name": "#%%\n"
    }
   },
   "outputs": [],
   "source": [
    "import tensorflow as tf\n",
    "import os\n",
    "import cv2\n",
    "import numpy as np\n",
    "from tensorflow.keras import optimizers, layers, models\n",
    "from matplotlib import pyplot as plt"
   ]
  },
  {
   "cell_type": "markdown",
   "metadata": {},
   "source": [
    "## Data Prep"
   ]
  },
  {
   "cell_type": "code",
   "execution_count": 3,
   "metadata": {},
   "outputs": [],
   "source": [
    "image_dir = \"images/lattice_points\"\n",
    "train_files = [[], []]\n",
    "\n",
    "for file in os.listdir(os.path.join(image_dir, \"no\")):\n",
    "    train_files[0].append(os.path.join(image_dir, \"no\", file))\n",
    "\n",
    "for file in os.listdir(os.path.join(image_dir, \"yes\")):\n",
    "    train_files[1].append(os.path.join(image_dir, \"yes\", file))"
   ]
  },
  {
   "cell_type": "code",
   "execution_count": 4,
   "metadata": {},
   "outputs": [],
   "source": [
    "train_images = []\n",
    "train_labels = []\n",
    "\n",
    "for i in range(2):\n",
    "    for file in train_files[i]:\n",
    "        img = cv2.imread(file, cv2.IMREAD_GRAYSCALE)\n",
    "        \n",
    "        img = cv2.threshold(img, 0, 255, cv2.THRESH_OTSU)[1]\n",
    "        img = cv2.Canny(img, 0, 255)\n",
    "        \n",
    "        img = img.astype(np.float32) / 255.0\n",
    "        \n",
    "        train_images.append(img)\n",
    "        \n",
    "        label = [0, 0]\n",
    "        label[i] = 1\n",
    "        train_labels.append(label)\n",
    "\n",
    "train_images = np.array(train_images)[..., np.newaxis]\n",
    "train_labels = np.array(train_labels)"
   ]
  },
  {
   "cell_type": "code",
   "execution_count": 5,
   "metadata": {},
   "outputs": [
    {
     "name": "stdout",
     "output_type": "stream",
     "text": [
      "(56, 21, 21, 1) (56, 2)\n",
      "1.0\n",
      "[1 0]\n"
     ]
    }
   ],
   "source": [
    "print(train_images.shape, train_labels.shape)\n",
    "print(train_images.max())\n",
    "print(train_labels[0])"
   ]
  },
  {
   "cell_type": "code",
   "execution_count": 6,
   "metadata": {},
   "outputs": [
    {
     "data": {
      "text/plain": [
       "<matplotlib.image.AxesImage at 0x15e17e630>"
      ]
     },
     "execution_count": 6,
     "metadata": {},
     "output_type": "execute_result"
    },
    {
     "data": {
      "image/png": "[encoded data removed]",
      "text/plain": [
       "<Figure size 432x288 with 1 Axes>"
      ]
     },
     "metadata": {
      "needs_background": "light"
     },
     "output_type": "display_data"
    }
   ],
   "source": [
    "plt.figure()\n",
    "plt.imshow(train_images[0][:, :, 0], cmap=\"gray\")"
   ]
  },
  {
   "cell_type": "code",
   "execution_count": 7,
   "metadata": {},
   "outputs": [],
   "source": [
    "datagen = tf.keras.preprocessing.image.ImageDataGenerator(\n",
    "    rotation_range=180,\n",
    "    horizontal_flip=True,\n",
    "    vertical_flip=True)"
   ]
  },
  {
   "cell_type": "markdown",
   "metadata": {},
   "source": [
    "## Initialize Network"
   ]
  },
  {
   "cell_type": "code",
   "execution_count": 8,
   "metadata": {
    "pycharm": {
     "is_executing": true
    }
   },
   "outputs": [],
   "source": [
    "model = models.Sequential()\n",
    "model.add(layers.Dense(441, input_shape=(21, 21, 1)))\n",
    "\n",
    "for i in range(2):\n",
    "    for j in [3, 2, 1]:\n",
    "        model.add(layers.Conv2D(16, j, activation=\"elu\"))\n",
    "    model.add(layers.MaxPooling2D(pool_size=(2, 2)))\n",
    "    model.add(layers.BatchNormalization())\n",
    "    \n",
    "model.add(layers.Dense(128, activation=\"elu\"))\n",
    "model.add(layers.Dropout(0.5))\n",
    "model.add(layers.Flatten())\n",
    "\n",
    "model.add(layers.Dense(2, activation=\"softmax\"))\n",
    "model.compile(optimizers.RMSprop(lr=1e-3), loss=\"categorical_crossentropy\", metrics=[\"categorical_accuracy\"])"
   ]
  },
  {
   "cell_type": "code",
   "execution_count": 9,
   "metadata": {
    "pycharm": {
     "is_executing": true
    }
   },
   "outputs": [
    {
     "name": "stdout",
     "output_type": "stream",
     "text": [
      "Model: \"sequential\"\n",
      "_________________________________________________________________\n",
      "Layer (type)                 Output Shape              Param #   \n",
      "=================================================================\n",
      "dense (Dense)                (None, 21, 21, 441)       882       \n",
      "_________________________________________________________________\n",
      "conv2d (Conv2D)              (None, 19, 19, 16)        63520     \n",
      "_________________________________________________________________\n",
      "conv2d_1 (Conv2D)            (None, 18, 18, 16)        1040      \n",
      "_________________________________________________________________\n",
      "conv2d_2 (Conv2D)            (None, 18, 18, 16)        272       \n",
      "_________________________________________________________________\n",
      "max_pooling2d (MaxPooling2D) (None, 9, 9, 16)          0         \n",
      "_________________________________________________________________\n",
      "batch_normalization (BatchNo (None, 9, 9, 16)          64        \n",
      "_________________________________________________________________\n",
      "conv2d_3 (Conv2D)            (None, 7, 7, 16)          2320      \n",
      "_________________________________________________________________\n",
      "conv2d_4 (Conv2D)            (None, 6, 6, 16)          1040      \n",
      "_________________________________________________________________\n",
      "conv2d_5 (Conv2D)            (None, 6, 6, 16)          272       \n",
      "_________________________________________________________________\n",
      "max_pooling2d_1 (MaxPooling2 (None, 3, 3, 16)          0         \n",
      "_________________________________________________________________\n",
      "batch_normalization_1 (Batch (None, 3, 3, 16)          64        \n",
      "_________________________________________________________________\n",
      "dense_1 (Dense)              (None, 3, 3, 128)         2176      \n",
      "_________________________________________________________________\n",
      "dropout (Dropout)            (None, 3, 3, 128)         0         \n",
      "_________________________________________________________________\n",
      "flatten (Flatten)            (None, 1152)              0         \n",
      "_________________________________________________________________\n",
      "dense_2 (Dense)              (None, 2)                 2306      \n",
      "=================================================================\n",
      "Total params: 73,956\n",
      "Trainable params: 73,892\n",
      "Non-trainable params: 64\n",
      "_________________________________________________________________\n"
     ]
    }
   ],
   "source": [
    "model.summary()"
   ]
  },
  {
   "cell_type": "code",
   "execution_count": 10,
   "metadata": {},
   "outputs": [],
   "source": [
    "def generate_data(train_images, train_labels, batch_size):\n",
    "    gen = datagen.flow(train_images, train_labels, batch_size=batch_size)\n",
    "    while True:\n",
    "        x, y = gen.next()\n",
    "        yield x, y"
   ]
  },
  {
   "cell_type": "code",
   "execution_count": 12,
   "metadata": {},
   "outputs": [
    {
     "name": "stdout",
     "output_type": "stream",
     "text": [
      "Epoch 1/100\n",
      "1/1 [==============================] - 0s 298ms/step - loss: 0.2111 - categorical_accuracy: 0.9464\n",
      "Epoch 2/100\n",
      "1/1 [==============================] - 0s 275ms/step - loss: 0.1699 - categorical_accuracy: 0.9643\n",
      "Epoch 3/100\n",
      "1/1 [==============================] - 0s 256ms/step - loss: 0.1063 - categorical_accuracy: 0.9464\n",
      "Epoch 4/100\n",
      "1/1 [==============================] - 0s 262ms/step - loss: 0.0695 - categorical_accuracy: 0.9821\n",
      "Epoch 5/100\n",
      "1/1 [==============================] - 0s 286ms/step - loss: 0.2080 - categorical_accuracy: 0.9107\n",
      "Epoch 6/100\n",
      "1/1 [==============================] - 0s 265ms/step - loss: 0.1893 - categorical_accuracy: 0.9107\n",
      "Epoch 7/100\n",
      "1/1 [==============================] - 0s 261ms/step - loss: 0.0818 - categorical_accuracy: 0.9821\n",
      "Epoch 8/100\n",
      "1/1 [==============================] - 0s 279ms/step - loss: 0.1288 - categorical_accuracy: 0.9643\n",
      "Epoch 9/100\n",
      "1/1 [==============================] - 0s 271ms/step - loss: 0.1391 - categorical_accuracy: 0.9643\n",
      "Epoch 10/100\n",
      "1/1 [==============================] - 0s 290ms/step - loss: 0.1094 - categorical_accuracy: 0.9643\n",
      "Epoch 11/100\n",
      "1/1 [==============================] - 0s 260ms/step - loss: 0.1021 - categorical_accuracy: 0.9464\n",
      "Epoch 12/100\n",
      "1/1 [==============================] - 0s 259ms/step - loss: 0.1458 - categorical_accuracy: 0.9643\n",
      "Epoch 13/100\n",
      "1/1 [==============================] - 0s 262ms/step - loss: 0.2082 - categorical_accuracy: 0.9643\n",
      "Epoch 14/100\n",
      "1/1 [==============================] - 0s 275ms/step - loss: 0.0930 - categorical_accuracy: 0.9643\n",
      "Epoch 15/100\n",
      "1/1 [==============================] - 0s 276ms/step - loss: 0.0855 - categorical_accuracy: 0.9643\n",
      "Epoch 16/100\n",
      "1/1 [==============================] - 0s 259ms/step - loss: 0.1136 - categorical_accuracy: 0.9643\n",
      "Epoch 17/100\n",
      "1/1 [==============================] - 0s 258ms/step - loss: 0.1124 - categorical_accuracy: 0.9821\n",
      "Epoch 18/100\n",
      "1/1 [==============================] - 0s 261ms/step - loss: 0.1360 - categorical_accuracy: 0.9464\n",
      "Epoch 19/100\n",
      "1/1 [==============================] - 0s 264ms/step - loss: 0.0412 - categorical_accuracy: 1.0000\n",
      "Epoch 20/100\n",
      "1/1 [==============================] - 0s 257ms/step - loss: 0.1565 - categorical_accuracy: 0.9286\n",
      "Epoch 21/100\n",
      "1/1 [==============================] - 0s 258ms/step - loss: 0.0821 - categorical_accuracy: 0.9643\n",
      "Epoch 22/100\n",
      "1/1 [==============================] - 0s 265ms/step - loss: 0.0706 - categorical_accuracy: 0.9821\n",
      "Epoch 23/100\n",
      "1/1 [==============================] - 0s 274ms/step - loss: 0.0571 - categorical_accuracy: 0.9821\n",
      "Epoch 24/100\n",
      "1/1 [==============================] - 0s 266ms/step - loss: 0.1260 - categorical_accuracy: 0.9286\n",
      "Epoch 25/100\n",
      "1/1 [==============================] - 0s 250ms/step - loss: 0.1265 - categorical_accuracy: 0.9464\n",
      "Epoch 26/100\n",
      "1/1 [==============================] - 0s 259ms/step - loss: 0.0978 - categorical_accuracy: 0.9286\n",
      "Epoch 27/100\n",
      "1/1 [==============================] - 0s 264ms/step - loss: 0.1087 - categorical_accuracy: 0.9643\n",
      "Epoch 28/100\n",
      "1/1 [==============================] - 0s 256ms/step - loss: 0.0872 - categorical_accuracy: 0.9821\n",
      "Epoch 29/100\n",
      "1/1 [==============================] - 0s 264ms/step - loss: 0.1121 - categorical_accuracy: 0.9286\n",
      "Epoch 30/100\n",
      "1/1 [==============================] - 0s 262ms/step - loss: 0.0373 - categorical_accuracy: 1.0000\n",
      "Epoch 31/100\n",
      "1/1 [==============================] - 0s 271ms/step - loss: 0.0605 - categorical_accuracy: 0.9821\n",
      "Epoch 32/100\n",
      "1/1 [==============================] - 0s 265ms/step - loss: 0.1495 - categorical_accuracy: 0.9107\n",
      "Epoch 33/100\n",
      "1/1 [==============================] - 0s 269ms/step - loss: 0.0717 - categorical_accuracy: 0.9643\n",
      "Epoch 34/100\n",
      "1/1 [==============================] - 0s 259ms/step - loss: 0.1518 - categorical_accuracy: 0.9286\n",
      "Epoch 35/100\n",
      "1/1 [==============================] - 0s 268ms/step - loss: 0.0695 - categorical_accuracy: 0.9821\n",
      "Epoch 36/100\n",
      "1/1 [==============================] - 0s 245ms/step - loss: 0.1335 - categorical_accuracy: 0.9464\n",
      "Epoch 37/100\n",
      "1/1 [==============================] - 0s 243ms/step - loss: 0.0472 - categorical_accuracy: 1.0000\n",
      "Epoch 38/100\n",
      "1/1 [==============================] - 0s 264ms/step - loss: 0.1194 - categorical_accuracy: 0.9643\n",
      "Epoch 39/100\n",
      "1/1 [==============================] - 0s 256ms/step - loss: 0.1930 - categorical_accuracy: 0.9286\n",
      "Epoch 40/100\n",
      "1/1 [==============================] - 0s 264ms/step - loss: 0.0810 - categorical_accuracy: 0.9643\n",
      "Epoch 41/100\n",
      "1/1 [==============================] - 0s 259ms/step - loss: 0.0995 - categorical_accuracy: 0.9643\n",
      "Epoch 42/100\n",
      "1/1 [==============================] - 0s 264ms/step - loss: 0.0960 - categorical_accuracy: 0.9286\n",
      "Epoch 43/100\n",
      "1/1 [==============================] - 0s 258ms/step - loss: 0.0866 - categorical_accuracy: 0.9821\n",
      "Epoch 44/100\n",
      "1/1 [==============================] - 0s 266ms/step - loss: 0.1638 - categorical_accuracy: 0.9464\n",
      "Epoch 45/100\n",
      "1/1 [==============================] - 0s 257ms/step - loss: 0.1422 - categorical_accuracy: 0.9286\n",
      "Epoch 46/100\n",
      "1/1 [==============================] - 0s 280ms/step - loss: 0.0697 - categorical_accuracy: 0.9821\n",
      "Epoch 47/100\n",
      "1/1 [==============================] - 0s 268ms/step - loss: 0.1189 - categorical_accuracy: 0.9464\n",
      "Epoch 48/100\n",
      "1/1 [==============================] - 0s 262ms/step - loss: 0.1052 - categorical_accuracy: 0.9643\n",
      "Epoch 49/100\n",
      "1/1 [==============================] - 0s 249ms/step - loss: 0.1163 - categorical_accuracy: 0.9643\n",
      "Epoch 50/100\n",
      "1/1 [==============================] - 0s 255ms/step - loss: 0.1082 - categorical_accuracy: 0.9643\n",
      "Epoch 51/100\n",
      "1/1 [==============================] - 0s 264ms/step - loss: 0.1136 - categorical_accuracy: 0.9643\n",
      "Epoch 52/100\n",
      "1/1 [==============================] - 0s 258ms/step - loss: 0.1283 - categorical_accuracy: 0.9107\n",
      "Epoch 53/100\n",
      "1/1 [==============================] - 0s 270ms/step - loss: 0.1792 - categorical_accuracy: 0.9464\n",
      "Epoch 54/100\n",
      "1/1 [==============================] - 0s 263ms/step - loss: 0.0470 - categorical_accuracy: 1.0000\n",
      "Epoch 55/100\n",
      "1/1 [==============================] - 0s 258ms/step - loss: 0.0343 - categorical_accuracy: 1.0000\n",
      "Epoch 56/100\n",
      "1/1 [==============================] - 0s 266ms/step - loss: 0.0395 - categorical_accuracy: 1.0000\n",
      "Epoch 57/100\n",
      "1/1 [==============================] - 0s 262ms/step - loss: 0.1255 - categorical_accuracy: 0.9107\n",
      "Epoch 58/100\n",
      "1/1 [==============================] - 0s 275ms/step - loss: 0.0624 - categorical_accuracy: 0.9643\n",
      "Epoch 59/100\n",
      "1/1 [==============================] - 0s 283ms/step - loss: 0.0576 - categorical_accuracy: 1.0000\n",
      "Epoch 60/100\n",
      "1/1 [==============================] - 0s 268ms/step - loss: 0.0703 - categorical_accuracy: 0.9643\n",
      "Epoch 61/100\n",
      "1/1 [==============================] - 0s 262ms/step - loss: 0.0822 - categorical_accuracy: 0.9643\n",
      "Epoch 62/100\n",
      "1/1 [==============================] - 0s 249ms/step - loss: 0.1145 - categorical_accuracy: 0.9643\n",
      "Epoch 63/100\n",
      "1/1 [==============================] - 0s 269ms/step - loss: 0.0764 - categorical_accuracy: 0.9821\n",
      "Epoch 64/100\n",
      "1/1 [==============================] - 0s 259ms/step - loss: 0.0592 - categorical_accuracy: 0.9643\n",
      "Epoch 65/100\n",
      "1/1 [==============================] - 0s 287ms/step - loss: 0.1078 - categorical_accuracy: 0.9643\n",
      "Epoch 66/100\n",
      "1/1 [==============================] - 0s 271ms/step - loss: 0.1205 - categorical_accuracy: 0.9464\n",
      "Epoch 67/100\n",
      "1/1 [==============================] - 0s 298ms/step - loss: 0.0517 - categorical_accuracy: 0.9821\n",
      "Epoch 68/100\n",
      "1/1 [==============================] - 0s 309ms/step - loss: 0.0825 - categorical_accuracy: 0.9464\n",
      "Epoch 69/100\n",
      "1/1 [==============================] - 0s 331ms/step - loss: 0.0890 - categorical_accuracy: 0.9821\n",
      "Epoch 70/100\n",
      "1/1 [==============================] - 0s 287ms/step - loss: 0.0612 - categorical_accuracy: 0.9821\n",
      "Epoch 71/100\n",
      "1/1 [==============================] - 0s 270ms/step - loss: 0.0446 - categorical_accuracy: 0.9821\n",
      "Epoch 72/100\n",
      "1/1 [==============================] - 0s 312ms/step - loss: 0.0378 - categorical_accuracy: 1.0000\n",
      "Epoch 73/100\n",
      "1/1 [==============================] - 0s 323ms/step - loss: 0.0551 - categorical_accuracy: 0.9821\n",
      "Epoch 74/100\n",
      "1/1 [==============================] - 0s 308ms/step - loss: 0.0594 - categorical_accuracy: 1.0000\n"
     ]
    },
    {
     "name": "stdout",
     "output_type": "stream",
     "text": [
      "Epoch 75/100\n",
      "1/1 [==============================] - 0s 398ms/step - loss: 0.0540 - categorical_accuracy: 0.9643\n",
      "Epoch 76/100\n",
      "1/1 [==============================] - 0s 381ms/step - loss: 0.0513 - categorical_accuracy: 0.9821\n",
      "Epoch 77/100\n",
      "1/1 [==============================] - 0s 300ms/step - loss: 0.0777 - categorical_accuracy: 0.9643\n",
      "Epoch 78/100\n",
      "1/1 [==============================] - 0s 291ms/step - loss: 0.1284 - categorical_accuracy: 0.9464\n",
      "Epoch 79/100\n",
      "1/1 [==============================] - 0s 315ms/step - loss: 0.0688 - categorical_accuracy: 0.9643\n",
      "Epoch 80/100\n",
      "1/1 [==============================] - 0s 315ms/step - loss: 0.0929 - categorical_accuracy: 0.9643\n",
      "Epoch 81/100\n",
      "1/1 [==============================] - 0s 283ms/step - loss: 0.0630 - categorical_accuracy: 0.9643\n",
      "Epoch 82/100\n",
      "1/1 [==============================] - 0s 270ms/step - loss: 0.0869 - categorical_accuracy: 0.9643\n",
      "Epoch 83/100\n",
      "1/1 [==============================] - 0s 264ms/step - loss: 0.0300 - categorical_accuracy: 1.0000\n",
      "Epoch 84/100\n",
      "1/1 [==============================] - 0s 264ms/step - loss: 0.0584 - categorical_accuracy: 0.9821\n",
      "Epoch 85/100\n",
      "1/1 [==============================] - 0s 297ms/step - loss: 0.0880 - categorical_accuracy: 0.9643\n",
      "Epoch 86/100\n",
      "1/1 [==============================] - 0s 270ms/step - loss: 0.0949 - categorical_accuracy: 0.9643\n",
      "Epoch 87/100\n",
      "1/1 [==============================] - 0s 268ms/step - loss: 0.0980 - categorical_accuracy: 0.9643\n",
      "Epoch 88/100\n",
      "1/1 [==============================] - 0s 261ms/step - loss: 0.0630 - categorical_accuracy: 0.9821\n",
      "Epoch 89/100\n",
      "1/1 [==============================] - 0s 262ms/step - loss: 0.0587 - categorical_accuracy: 0.9821\n",
      "Epoch 90/100\n",
      "1/1 [==============================] - 0s 247ms/step - loss: 0.0374 - categorical_accuracy: 1.0000\n",
      "Epoch 91/100\n",
      "1/1 [==============================] - 0s 271ms/step - loss: 0.0810 - categorical_accuracy: 0.9821\n",
      "Epoch 92/100\n",
      "1/1 [==============================] - 0s 256ms/step - loss: 0.0283 - categorical_accuracy: 1.0000\n",
      "Epoch 93/100\n",
      "1/1 [==============================] - 0s 263ms/step - loss: 0.0749 - categorical_accuracy: 0.9643\n",
      "Epoch 94/100\n",
      "1/1 [==============================] - 0s 274ms/step - loss: 0.0587 - categorical_accuracy: 0.9643\n",
      "Epoch 95/100\n",
      "1/1 [==============================] - 0s 261ms/step - loss: 0.0893 - categorical_accuracy: 0.9464\n",
      "Epoch 96/100\n",
      "1/1 [==============================] - 0s 262ms/step - loss: 0.0436 - categorical_accuracy: 0.9821\n",
      "Epoch 97/100\n",
      "1/1 [==============================] - 0s 258ms/step - loss: 0.0753 - categorical_accuracy: 0.9821\n",
      "Epoch 98/100\n",
      "1/1 [==============================] - 0s 263ms/step - loss: 0.0248 - categorical_accuracy: 1.0000\n",
      "Epoch 99/100\n",
      "1/1 [==============================] - 0s 249ms/step - loss: 0.0511 - categorical_accuracy: 0.9821\n",
      "Epoch 100/100\n",
      "1/1 [==============================] - 0s 272ms/step - loss: 0.0678 - categorical_accuracy: 0.9821\n"
     ]
    }
   ],
   "source": [
    "batch_size = train_images.shape[0]\n",
    "epochs = 100\n",
    "\n",
    "history = model.fit_generator(generate_data(train_images, train_labels, batch_size=batch_size),\n",
    "                              steps_per_epoch=train_images.shape[0] / batch_size,\n",
    "                              epochs=epochs)"
   ]
  },
  {
   "cell_type": "code",
   "execution_count": null,
   "metadata": {},
   "outputs": [],
   "source": []
  }
 ],
 "metadata": {
  "kernelspec": {
   "display_name": "Python 3",
   "language": "python",
   "name": "python3"
  },
  "language_info": {
   "codemirror_mode": {
    "name": "ipython",
    "version": 3
   },
   "file_extension": ".py",
   "mimetype": "text/x-python",
   "name": "python",
   "nbconvert_exporter": "python",
   "pygments_lexer": "ipython3",
   "version": "3.6.0"
  },
  "pycharm": {
   "stem_cell": {
    "cell_type": "raw",
    "metadata": {
     "collapsed": false
    },
    "source": []
   }
  }
 },
 "nbformat": 4,
 "nbformat_minor": 1
}