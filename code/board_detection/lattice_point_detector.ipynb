{
 "cells": [
  {
   "cell_type": "code",
   "execution_count": 4,
   "metadata": {
    "pycharm": {
     "is_executing": true,
     "name": "#%%\n"
    }
   },
   "outputs": [],
   "source": [
    "import tensorflow as tf\n",
    "import os\n",
    "import cv2\n",
    "import random\n",
    "import numpy as np\n",
    "from tensorflow.keras import optimizers, layers, models\n",
    "from matplotlib import pyplot as plt"
   ]
  },
  {
   "cell_type": "markdown",
   "metadata": {},
   "source": [
    "## Data Prep"
   ]
  },
  {
   "cell_type": "code",
   "execution_count": 13,
   "metadata": {
    "pycharm": {
     "is_executing": true
    }
   },
   "outputs": [],
   "source": [
    "image_dir = \"images/lattice_points\"\n",
    "train_files = [[], []]\n",
    "\n",
    "for file in os.listdir(os.path.join(image_dir, \"no\")):\n",
    "    if file.endswith(\".jpg\"):\n",
    "        train_files[0].append(os.path.join(image_dir, \"no\", file))\n",
    "\n",
    "for file in os.listdir(os.path.join(image_dir, \"yes\")):\n",
    "    if file.endswith(\".jpg\"):\n",
    "        train_files[1].append(os.path.join(image_dir, \"yes\", file))"
   ]
  },
  {
   "cell_type": "code",
   "execution_count": 14,
   "metadata": {
    "pycharm": {
     "is_executing": true
    }
   },
   "outputs": [],
   "source": [
    "all_images = []\n",
    "all_labels = []\n",
    "\n",
    "for i in range(2):\n",
    "    for file in train_files[i]:\n",
    "        img = cv2.imread(file, cv2.IMREAD_GRAYSCALE)\n",
    "        \n",
    "        img = cv2.threshold(img, 0, 255, cv2.THRESH_OTSU)[1]\n",
    "        img = cv2.Canny(img, 0, 255)\n",
    "        \n",
    "        img = img.astype(np.float32) / 255.0\n",
    "        \n",
    "        all_images.append(img)\n",
    "        \n",
    "        label = [0, 0]\n",
    "        label[i] = 1\n",
    "        all_labels.append(label)\n",
    "\n",
    "all_images = np.array(all_images)[..., np.newaxis]\n",
    "all_labels = np.array(all_labels)"
   ]
  },
  {
   "cell_type": "code",
   "execution_count": 15,
   "metadata": {
    "pycharm": {
     "is_executing": true
    }
   },
   "outputs": [
    {
     "name": "stdout",
     "output_type": "stream",
     "text": [
      "(261, 21, 21, 1) (261, 2)\n",
      "1.0\n",
      "[1 0]\n"
     ]
    }
   ],
   "source": [
    "print(all_images.shape, all_labels.shape)\n",
    "print(all_images.max())\n",
    "print(all_labels[0])"
   ]
  },
  {
   "cell_type": "code",
   "execution_count": 16,
   "metadata": {
    "pycharm": {
     "is_executing": true
    }
   },
   "outputs": [
    {
     "data": {
      "text/plain": [
       "<matplotlib.image.AxesImage at 0x147f07518>"
      ]
     },
     "execution_count": 16,
     "metadata": {},
     "output_type": "execute_result"
    },
    {
     "data": {
      "image/png": "[encoded data removed]",
      "text/plain": [
       "<Figure size 432x288 with 1 Axes>"
      ]
     },
     "metadata": {
      "needs_background": "light"
     },
     "output_type": "display_data"
    }
   ],
   "source": [
    "plt.figure()\n",
    "plt.imshow(all_images[0][:, :, 0], cmap=\"gray\")"
   ]
  },
  {
   "cell_type": "code",
   "execution_count": 18,
   "metadata": {
    "pycharm": {
     "is_executing": true
    }
   },
   "outputs": [],
   "source": [
    "train_images = []\n",
    "train_labels = []\n",
    "valid_images = []\n",
    "valid_labels = []\n",
    "\n",
    "train_indices = random.sample(range(len(all_images)), int(len(all_images) * 0.8))\n",
    "\n",
    "for i in range(len(all_images)):\n",
    "    if i in train_indices:\n",
    "        train_images.append(all_images[i])\n",
    "        train_labels.append(all_labels[i])\n",
    "    else:\n",
    "        valid_images.append(all_images[i])\n",
    "        valid_labels.append(all_labels[i])\n",
    "\n",
    "train_images = np.array(train_images)\n",
    "train_labels = np.array(train_labels)\n",
    "valid_images = np.array(valid_images)\n",
    "valid_labels = np.array(valid_labels)"
   ]
  },
  {
   "cell_type": "code",
   "execution_count": 27,
   "metadata": {
    "pycharm": {
     "is_executing": true
    }
   },
   "outputs": [],
   "source": [
    "datagen = tf.keras.preprocessing.image.ImageDataGenerator(\n",
    "    rotation_range=180,\n",
    "    horizontal_flip=True,\n",
    "    vertical_flip=True,\n",
    "    width_shift_range=4,\n",
    "    height_shift_range=4)"
   ]
  },
  {
   "cell_type": "markdown",
   "metadata": {},
   "source": [
    "## Initialize Network"
   ]
  },
  {
   "cell_type": "code",
   "execution_count": 20,
   "metadata": {
    "pycharm": {
     "is_executing": true
    }
   },
   "outputs": [
    {
     "name": "stderr",
     "output_type": "stream",
     "text": [
      "WARNING: Logging before flag parsing goes to stderr.\n",
      "W0111 13:41:56.233658 4488478144 deprecation.py:506] From /Users/kevin/Library/Python/3.7/lib/python/site-packages/tensorflow/python/ops/init_ops.py:1251: calling VarianceScaling.__init__ (from tensorflow.python.ops.init_ops) with dtype is deprecated and will be removed in a future version.\n",
      "Instructions for updating:\n",
      "Call initializer instance with the dtype argument instead of passing it to the constructor\n"
     ]
    }
   ],
   "source": [
    "model = models.Sequential()\n",
    "model.add(layers.Dense(441, input_shape=(21, 21, 1)))\n",
    "\n",
    "for i in range(2):\n",
    "    for j in [3, 2, 1]:\n",
    "        model.add(layers.Conv2D(16, j, activation=\"elu\"))\n",
    "    model.add(layers.MaxPooling2D(pool_size=(2, 2)))\n",
    "    model.add(layers.BatchNormalization())\n",
    "    \n",
    "model.add(layers.Dense(128, activation=\"elu\"))\n",
    "model.add(layers.Dropout(0.5))\n",
    "model.add(layers.Flatten())\n",
    "\n",
    "model.add(layers.Dense(2, activation=\"softmax\"))\n",
    "model.compile(optimizers.RMSprop(lr=1e-3), loss=\"categorical_crossentropy\", metrics=[\"categorical_accuracy\"])"
   ]
  },
  {
   "cell_type": "code",
   "execution_count": 21,
   "metadata": {
    "pycharm": {
     "is_executing": true
    }
   },
   "outputs": [
    {
     "name": "stdout",
     "output_type": "stream",
     "text": [
      "Model: \"sequential\"\n",
      "_________________________________________________________________\n",
      "Layer (type)                 Output Shape              Param #   \n",
      "=================================================================\n",
      "dense (Dense)                (None, 21, 21, 441)       882       \n",
      "_________________________________________________________________\n",
      "conv2d (Conv2D)              (None, 19, 19, 16)        63520     \n",
      "_________________________________________________________________\n",
      "conv2d_1 (Conv2D)            (None, 18, 18, 16)        1040      \n",
      "_________________________________________________________________\n",
      "conv2d_2 (Conv2D)            (None, 18, 18, 16)        272       \n",
      "_________________________________________________________________\n",
      "max_pooling2d (MaxPooling2D) (None, 9, 9, 16)          0         \n",
      "_________________________________________________________________\n",
      "batch_normalization (BatchNo (None, 9, 9, 16)          64        \n",
      "_________________________________________________________________\n",
      "conv2d_3 (Conv2D)            (None, 7, 7, 16)          2320      \n",
      "_________________________________________________________________\n",
      "conv2d_4 (Conv2D)            (None, 6, 6, 16)          1040      \n",
      "_________________________________________________________________\n",
      "conv2d_5 (Conv2D)            (None, 6, 6, 16)          272       \n",
      "_________________________________________________________________\n",
      "max_pooling2d_1 (MaxPooling2 (None, 3, 3, 16)          0         \n",
      "_________________________________________________________________\n",
      "batch_normalization_1 (Batch (None, 3, 3, 16)          64        \n",
      "_________________________________________________________________\n",
      "dense_1 (Dense)              (None, 3, 3, 128)         2176      \n",
      "_________________________________________________________________\n",
      "dropout (Dropout)            (None, 3, 3, 128)         0         \n",
      "_________________________________________________________________\n",
      "flatten (Flatten)            (None, 1152)              0         \n",
      "_________________________________________________________________\n",
      "dense_2 (Dense)              (None, 2)                 2306      \n",
      "=================================================================\n",
      "Total params: 73,956\n",
      "Trainable params: 73,892\n",
      "Non-trainable params: 64\n",
      "_________________________________________________________________\n"
     ]
    }
   ],
   "source": [
    "model.summary()"
   ]
  },
  {
   "cell_type": "code",
   "execution_count": 22,
   "metadata": {
    "pycharm": {
     "is_executing": true
    }
   },
   "outputs": [],
   "source": [
    "def generate_data(train_images, train_labels, batch_size):\n",
    "    gen = datagen.flow(train_images, train_labels, batch_size=batch_size)\n",
    "    while True:\n",
    "        x, y = gen.next()\n",
    "        yield x, y"
   ]
  },
  {
   "cell_type": "code",
   "execution_count": 28,
   "metadata": {
    "pycharm": {
     "is_executing": true
    }
   },
   "outputs": [
    {
     "name": "stdout",
     "output_type": "stream",
     "text": [
      "Epoch 1/100\n",
      "1/1 [==============================] - 1s 825ms/step - loss: 0.3179 - categorical_accuracy: 0.8750 - val_loss: 0.2612 - val_categorical_accuracy: 0.9245\n",
      "Epoch 2/100\n",
      "1/1 [==============================] - 1s 687ms/step - loss: 0.3406 - categorical_accuracy: 0.8894 - val_loss: 0.2405 - val_categorical_accuracy: 0.9434\n",
      "Epoch 3/100\n",
      "1/1 [==============================] - 1s 657ms/step - loss: 0.2424 - categorical_accuracy: 0.8846 - val_loss: 0.2229 - val_categorical_accuracy: 0.9434\n",
      "Epoch 4/100\n",
      "1/1 [==============================] - 1s 653ms/step - loss: 0.2746 - categorical_accuracy: 0.8702 - val_loss: 0.2094 - val_categorical_accuracy: 0.9245\n",
      "Epoch 5/100\n",
      "1/1 [==============================] - 1s 647ms/step - loss: 0.3317 - categorical_accuracy: 0.8894 - val_loss: 0.2282 - val_categorical_accuracy: 0.9057\n",
      "Epoch 6/100\n",
      "1/1 [==============================] - 1s 651ms/step - loss: 0.2609 - categorical_accuracy: 0.8798 - val_loss: 0.2231 - val_categorical_accuracy: 0.9245\n",
      "Epoch 7/100\n",
      "1/1 [==============================] - 1s 655ms/step - loss: 0.2945 - categorical_accuracy: 0.8894 - val_loss: 0.1998 - val_categorical_accuracy: 0.9434\n",
      "Epoch 8/100\n",
      "1/1 [==============================] - 1s 649ms/step - loss: 0.2828 - categorical_accuracy: 0.8846 - val_loss: 0.2921 - val_categorical_accuracy: 0.9057\n",
      "Epoch 9/100\n",
      "1/1 [==============================] - 1s 685ms/step - loss: 0.3357 - categorical_accuracy: 0.8654 - val_loss: 0.2118 - val_categorical_accuracy: 0.9434\n",
      "Epoch 10/100\n",
      "1/1 [==============================] - 1s 692ms/step - loss: 0.2981 - categorical_accuracy: 0.8942 - val_loss: 0.2111 - val_categorical_accuracy: 0.9623\n",
      "Epoch 11/100\n",
      "1/1 [==============================] - 1s 712ms/step - loss: 0.2365 - categorical_accuracy: 0.9135 - val_loss: 0.1754 - val_categorical_accuracy: 0.9811\n",
      "Epoch 12/100\n",
      "1/1 [==============================] - 1s 682ms/step - loss: 0.3317 - categorical_accuracy: 0.8702 - val_loss: 0.1649 - val_categorical_accuracy: 0.9623\n",
      "Epoch 13/100\n",
      "1/1 [==============================] - 1s 663ms/step - loss: 0.2793 - categorical_accuracy: 0.8894 - val_loss: 0.1613 - val_categorical_accuracy: 0.9811\n",
      "Epoch 14/100\n",
      "1/1 [==============================] - 1s 670ms/step - loss: 0.2553 - categorical_accuracy: 0.9038 - val_loss: 0.1681 - val_categorical_accuracy: 0.9245\n",
      "Epoch 15/100\n",
      "1/1 [==============================] - 1s 660ms/step - loss: 0.3082 - categorical_accuracy: 0.8846 - val_loss: 0.1945 - val_categorical_accuracy: 0.9623\n",
      "Epoch 16/100\n",
      "1/1 [==============================] - 1s 661ms/step - loss: 0.2813 - categorical_accuracy: 0.8798 - val_loss: 0.1464 - val_categorical_accuracy: 0.9623\n",
      "Epoch 17/100\n",
      "1/1 [==============================] - 1s 677ms/step - loss: 0.2414 - categorical_accuracy: 0.8750 - val_loss: 0.2181 - val_categorical_accuracy: 0.9434\n",
      "Epoch 18/100\n",
      "1/1 [==============================] - 1s 657ms/step - loss: 0.2378 - categorical_accuracy: 0.9135 - val_loss: 0.2152 - val_categorical_accuracy: 0.9245\n",
      "Epoch 19/100\n",
      "1/1 [==============================] - 1s 671ms/step - loss: 0.2605 - categorical_accuracy: 0.8798 - val_loss: 0.2572 - val_categorical_accuracy: 0.9245\n",
      "Epoch 20/100\n",
      "1/1 [==============================] - 1s 665ms/step - loss: 0.2623 - categorical_accuracy: 0.8750 - val_loss: 0.4945 - val_categorical_accuracy: 0.7170\n",
      "Epoch 21/100\n",
      "1/1 [==============================] - 1s 666ms/step - loss: 0.3251 - categorical_accuracy: 0.8510 - val_loss: 0.6309 - val_categorical_accuracy: 0.6226\n",
      "Epoch 22/100\n",
      "1/1 [==============================] - 1s 674ms/step - loss: 0.2794 - categorical_accuracy: 0.8798 - val_loss: 0.4506 - val_categorical_accuracy: 0.7547\n",
      "Epoch 23/100\n",
      "1/1 [==============================] - 1s 668ms/step - loss: 0.2165 - categorical_accuracy: 0.8990 - val_loss: 0.1844 - val_categorical_accuracy: 0.9623\n",
      "Epoch 24/100\n",
      "1/1 [==============================] - 1s 658ms/step - loss: 0.2866 - categorical_accuracy: 0.8798 - val_loss: 0.2428 - val_categorical_accuracy: 0.9057\n",
      "Epoch 25/100\n",
      "1/1 [==============================] - 1s 667ms/step - loss: 0.2651 - categorical_accuracy: 0.8702 - val_loss: 0.3091 - val_categorical_accuracy: 0.8491\n",
      "Epoch 26/100\n",
      "1/1 [==============================] - 1s 661ms/step - loss: 0.2653 - categorical_accuracy: 0.9135 - val_loss: 0.4829 - val_categorical_accuracy: 0.7547\n",
      "Epoch 27/100\n",
      "1/1 [==============================] - 1s 676ms/step - loss: 0.1986 - categorical_accuracy: 0.9135 - val_loss: 0.4933 - val_categorical_accuracy: 0.7358\n",
      "Epoch 28/100\n",
      "1/1 [==============================] - 1s 659ms/step - loss: 0.2766 - categorical_accuracy: 0.8750 - val_loss: 0.4645 - val_categorical_accuracy: 0.7925\n",
      "Epoch 29/100\n",
      "1/1 [==============================] - 1s 667ms/step - loss: 0.2225 - categorical_accuracy: 0.9279 - val_loss: 0.5713 - val_categorical_accuracy: 0.6792\n",
      "Epoch 30/100\n",
      "1/1 [==============================] - 1s 660ms/step - loss: 0.3019 - categorical_accuracy: 0.8798 - val_loss: 0.3259 - val_categorical_accuracy: 0.8868\n",
      "Epoch 31/100\n",
      "1/1 [==============================] - 1s 672ms/step - loss: 0.2512 - categorical_accuracy: 0.8942 - val_loss: 0.2987 - val_categorical_accuracy: 0.9057\n",
      "Epoch 32/100\n",
      "1/1 [==============================] - 1s 706ms/step - loss: 0.2635 - categorical_accuracy: 0.8798 - val_loss: 0.4452 - val_categorical_accuracy: 0.7547\n",
      "Epoch 33/100\n",
      "1/1 [==============================] - 1s 664ms/step - loss: 0.2339 - categorical_accuracy: 0.8942 - val_loss: 0.5503 - val_categorical_accuracy: 0.6981\n",
      "Epoch 34/100\n",
      "1/1 [==============================] - 1s 675ms/step - loss: 0.2400 - categorical_accuracy: 0.8846 - val_loss: 0.5903 - val_categorical_accuracy: 0.6415\n",
      "Epoch 35/100\n",
      "1/1 [==============================] - 1s 666ms/step - loss: 0.2239 - categorical_accuracy: 0.9087 - val_loss: 0.4806 - val_categorical_accuracy: 0.6981\n",
      "Epoch 36/100\n",
      "1/1 [==============================] - 1s 664ms/step - loss: 0.2615 - categorical_accuracy: 0.9038 - val_loss: 0.2736 - val_categorical_accuracy: 0.9057\n",
      "Epoch 37/100\n",
      "1/1 [==============================] - 1s 706ms/step - loss: 0.2216 - categorical_accuracy: 0.8894 - val_loss: 0.2797 - val_categorical_accuracy: 0.8868\n",
      "Epoch 38/100\n",
      "1/1 [==============================] - 1s 665ms/step - loss: 0.2363 - categorical_accuracy: 0.8942 - val_loss: 0.2236 - val_categorical_accuracy: 0.9245\n",
      "Epoch 39/100\n",
      "1/1 [==============================] - 1s 661ms/step - loss: 0.2272 - categorical_accuracy: 0.8894 - val_loss: 0.3143 - val_categorical_accuracy: 0.9057\n",
      "Epoch 40/100\n",
      "1/1 [==============================] - 1s 664ms/step - loss: 0.2254 - categorical_accuracy: 0.8846 - val_loss: 0.2589 - val_categorical_accuracy: 0.9245\n",
      "Epoch 41/100\n",
      "1/1 [==============================] - 1s 669ms/step - loss: 0.2542 - categorical_accuracy: 0.8942 - val_loss: 0.4251 - val_categorical_accuracy: 0.7358\n",
      "Epoch 42/100\n",
      "1/1 [==============================] - 1s 672ms/step - loss: 0.2792 - categorical_accuracy: 0.8750 - val_loss: 0.1604 - val_categorical_accuracy: 0.9811\n",
      "Epoch 43/100\n",
      "1/1 [==============================] - 1s 669ms/step - loss: 0.2755 - categorical_accuracy: 0.8894 - val_loss: 0.1450 - val_categorical_accuracy: 0.9811\n",
      "Epoch 44/100\n",
      "1/1 [==============================] - 1s 679ms/step - loss: 0.2039 - categorical_accuracy: 0.9231 - val_loss: 0.1675 - val_categorical_accuracy: 0.9623\n",
      "Epoch 45/100\n",
      "1/1 [==============================] - 1s 662ms/step - loss: 0.3213 - categorical_accuracy: 0.8894 - val_loss: 0.1947 - val_categorical_accuracy: 0.9623\n",
      "Epoch 46/100\n",
      "1/1 [==============================] - 1s 671ms/step - loss: 0.2273 - categorical_accuracy: 0.8990 - val_loss: 0.1671 - val_categorical_accuracy: 0.9623\n",
      "Epoch 47/100\n",
      "1/1 [==============================] - 1s 668ms/step - loss: 0.2502 - categorical_accuracy: 0.8846 - val_loss: 0.1942 - val_categorical_accuracy: 0.9434\n",
      "Epoch 48/100\n",
      "1/1 [==============================] - 1s 669ms/step - loss: 0.2893 - categorical_accuracy: 0.8606 - val_loss: 0.1604 - val_categorical_accuracy: 0.9434\n",
      "Epoch 49/100\n",
      "1/1 [==============================] - 1s 670ms/step - loss: 0.2274 - categorical_accuracy: 0.9038 - val_loss: 0.1419 - val_categorical_accuracy: 0.9434\n",
      "Epoch 50/100\n",
      "1/1 [==============================] - 1s 677ms/step - loss: 0.2776 - categorical_accuracy: 0.9038 - val_loss: 0.1555 - val_categorical_accuracy: 0.9434\n"
     ]
    },
    {
     "name": "stdout",
     "output_type": "stream",
     "text": [
      "Epoch 51/100\n",
      "1/1 [==============================] - 1s 725ms/step - loss: 0.2620 - categorical_accuracy: 0.8894 - val_loss: 0.1719 - val_categorical_accuracy: 0.9434\n",
      "Epoch 52/100\n",
      "1/1 [==============================] - 1s 712ms/step - loss: 0.2621 - categorical_accuracy: 0.8942 - val_loss: 0.1680 - val_categorical_accuracy: 0.9434\n",
      "Epoch 53/100\n",
      "1/1 [==============================] - 1s 810ms/step - loss: 0.2698 - categorical_accuracy: 0.9038 - val_loss: 0.1562 - val_categorical_accuracy: 0.9434\n",
      "Epoch 54/100\n",
      "1/1 [==============================] - 1s 752ms/step - loss: 0.2358 - categorical_accuracy: 0.9038 - val_loss: 0.1677 - val_categorical_accuracy: 0.9434\n",
      "Epoch 55/100\n",
      "1/1 [==============================] - 1s 825ms/step - loss: 0.2673 - categorical_accuracy: 0.8846 - val_loss: 0.1805 - val_categorical_accuracy: 0.9434\n",
      "Epoch 56/100\n",
      "1/1 [==============================] - 1s 668ms/step - loss: 0.2094 - categorical_accuracy: 0.9183 - val_loss: 0.1792 - val_categorical_accuracy: 0.9245\n",
      "Epoch 57/100\n",
      "1/1 [==============================] - 1s 674ms/step - loss: 0.1908 - categorical_accuracy: 0.9183 - val_loss: 0.1192 - val_categorical_accuracy: 0.9434\n",
      "Epoch 58/100\n",
      "1/1 [==============================] - 1s 671ms/step - loss: 0.2625 - categorical_accuracy: 0.8798 - val_loss: 0.1410 - val_categorical_accuracy: 0.9623\n",
      "Epoch 59/100\n",
      "1/1 [==============================] - 1s 746ms/step - loss: 0.3009 - categorical_accuracy: 0.8846 - val_loss: 0.1249 - val_categorical_accuracy: 0.9434\n",
      "Epoch 60/100\n",
      "1/1 [==============================] - 1s 660ms/step - loss: 0.2124 - categorical_accuracy: 0.9038 - val_loss: 0.1029 - val_categorical_accuracy: 0.9623\n",
      "Epoch 61/100\n",
      "1/1 [==============================] - 1s 729ms/step - loss: 0.2892 - categorical_accuracy: 0.9038 - val_loss: 0.1443 - val_categorical_accuracy: 0.9623\n",
      "Epoch 62/100\n",
      "1/1 [==============================] - 1s 696ms/step - loss: 0.2404 - categorical_accuracy: 0.8990 - val_loss: 0.1471 - val_categorical_accuracy: 0.9623\n",
      "Epoch 63/100\n",
      "1/1 [==============================] - 1s 681ms/step - loss: 0.2206 - categorical_accuracy: 0.8894 - val_loss: 0.1089 - val_categorical_accuracy: 0.9623\n",
      "Epoch 64/100\n",
      "1/1 [==============================] - 1s 664ms/step - loss: 0.2775 - categorical_accuracy: 0.8894 - val_loss: 0.1233 - val_categorical_accuracy: 0.9623\n",
      "Epoch 65/100\n",
      "1/1 [==============================] - 1s 663ms/step - loss: 0.2463 - categorical_accuracy: 0.9038 - val_loss: 0.1347 - val_categorical_accuracy: 0.9623\n",
      "Epoch 66/100\n",
      "1/1 [==============================] - 1s 709ms/step - loss: 0.2430 - categorical_accuracy: 0.8990 - val_loss: 0.1384 - val_categorical_accuracy: 0.9434\n",
      "Epoch 67/100\n",
      "1/1 [==============================] - 1s 658ms/step - loss: 0.2681 - categorical_accuracy: 0.8798 - val_loss: 0.1446 - val_categorical_accuracy: 0.9434\n",
      "Epoch 68/100\n",
      "1/1 [==============================] - 1s 663ms/step - loss: 0.2214 - categorical_accuracy: 0.8942 - val_loss: 0.1409 - val_categorical_accuracy: 0.9434\n",
      "Epoch 69/100\n",
      "1/1 [==============================] - 1s 664ms/step - loss: 0.2514 - categorical_accuracy: 0.9087 - val_loss: 0.1978 - val_categorical_accuracy: 0.9434\n",
      "Epoch 70/100\n",
      "1/1 [==============================] - 1s 662ms/step - loss: 0.2757 - categorical_accuracy: 0.8942 - val_loss: 0.2658 - val_categorical_accuracy: 0.9245\n",
      "Epoch 71/100\n",
      "1/1 [==============================] - 1s 688ms/step - loss: 0.2546 - categorical_accuracy: 0.9038 - val_loss: 0.1192 - val_categorical_accuracy: 0.9434\n",
      "Epoch 72/100\n",
      "1/1 [==============================] - 1s 689ms/step - loss: 0.2444 - categorical_accuracy: 0.8990 - val_loss: 0.1341 - val_categorical_accuracy: 0.9623\n",
      "Epoch 73/100\n",
      "1/1 [==============================] - 1s 663ms/step - loss: 0.2159 - categorical_accuracy: 0.9087 - val_loss: 0.1264 - val_categorical_accuracy: 0.9245\n",
      "Epoch 74/100\n",
      "1/1 [==============================] - 1s 656ms/step - loss: 0.2240 - categorical_accuracy: 0.9038 - val_loss: 0.1623 - val_categorical_accuracy: 0.9434\n",
      "Epoch 75/100\n",
      "1/1 [==============================] - 1s 653ms/step - loss: 0.2357 - categorical_accuracy: 0.8990 - val_loss: 0.1635 - val_categorical_accuracy: 0.9434\n",
      "Epoch 76/100\n",
      "1/1 [==============================] - 1s 662ms/step - loss: 0.2416 - categorical_accuracy: 0.8942 - val_loss: 0.1519 - val_categorical_accuracy: 0.9434\n",
      "Epoch 77/100\n",
      "1/1 [==============================] - 1s 664ms/step - loss: 0.2679 - categorical_accuracy: 0.8942 - val_loss: 0.1599 - val_categorical_accuracy: 0.9434\n",
      "Epoch 78/100\n",
      "1/1 [==============================] - 1s 662ms/step - loss: 0.2480 - categorical_accuracy: 0.8846 - val_loss: 0.1426 - val_categorical_accuracy: 0.9245\n",
      "Epoch 79/100\n",
      "1/1 [==============================] - 1s 662ms/step - loss: 0.2420 - categorical_accuracy: 0.9038 - val_loss: 0.1294 - val_categorical_accuracy: 0.9434\n",
      "Epoch 80/100\n",
      "1/1 [==============================] - 1s 662ms/step - loss: 0.2531 - categorical_accuracy: 0.9087 - val_loss: 0.1830 - val_categorical_accuracy: 0.9623\n",
      "Epoch 81/100\n",
      "1/1 [==============================] - 1s 662ms/step - loss: 0.2293 - categorical_accuracy: 0.9087 - val_loss: 0.1192 - val_categorical_accuracy: 0.9434\n",
      "Epoch 82/100\n",
      "1/1 [==============================] - 1s 669ms/step - loss: 0.2120 - categorical_accuracy: 0.8990 - val_loss: 0.1145 - val_categorical_accuracy: 0.9434\n",
      "Epoch 83/100\n",
      "1/1 [==============================] - 1s 656ms/step - loss: 0.2561 - categorical_accuracy: 0.8894 - val_loss: 0.1374 - val_categorical_accuracy: 0.9434\n",
      "Epoch 84/100\n",
      "1/1 [==============================] - 1s 679ms/step - loss: 0.2073 - categorical_accuracy: 0.9183 - val_loss: 0.1338 - val_categorical_accuracy: 0.9623\n",
      "Epoch 85/100\n",
      "1/1 [==============================] - 1s 654ms/step - loss: 0.2278 - categorical_accuracy: 0.8942 - val_loss: 0.1000 - val_categorical_accuracy: 0.9623\n",
      "Epoch 86/100\n",
      "1/1 [==============================] - 1s 665ms/step - loss: 0.2363 - categorical_accuracy: 0.9183 - val_loss: 0.1372 - val_categorical_accuracy: 0.9434\n",
      "Epoch 87/100\n",
      "1/1 [==============================] - 1s 678ms/step - loss: 0.2018 - categorical_accuracy: 0.9087 - val_loss: 0.1269 - val_categorical_accuracy: 0.9623\n",
      "Epoch 88/100\n",
      "1/1 [==============================] - 1s 682ms/step - loss: 0.2219 - categorical_accuracy: 0.8990 - val_loss: 0.1319 - val_categorical_accuracy: 0.9434\n",
      "Epoch 89/100\n",
      "1/1 [==============================] - 1s 687ms/step - loss: 0.2451 - categorical_accuracy: 0.9087 - val_loss: 0.1181 - val_categorical_accuracy: 0.9623\n",
      "Epoch 90/100\n",
      "1/1 [==============================] - 1s 662ms/step - loss: 0.1925 - categorical_accuracy: 0.9087 - val_loss: 0.0918 - val_categorical_accuracy: 0.9623\n",
      "Epoch 91/100\n",
      "1/1 [==============================] - 1s 720ms/step - loss: 0.1808 - categorical_accuracy: 0.9135 - val_loss: 0.1052 - val_categorical_accuracy: 0.9623\n",
      "Epoch 92/100\n",
      "1/1 [==============================] - 1s 675ms/step - loss: 0.2526 - categorical_accuracy: 0.9087 - val_loss: 0.1223 - val_categorical_accuracy: 0.9623\n",
      "Epoch 93/100\n",
      "1/1 [==============================] - 1s 668ms/step - loss: 0.2612 - categorical_accuracy: 0.8846 - val_loss: 0.1075 - val_categorical_accuracy: 0.9623\n",
      "Epoch 94/100\n",
      "1/1 [==============================] - 1s 659ms/step - loss: 0.2537 - categorical_accuracy: 0.8846 - val_loss: 0.1209 - val_categorical_accuracy: 0.9623\n",
      "Epoch 95/100\n",
      "1/1 [==============================] - 1s 659ms/step - loss: 0.2423 - categorical_accuracy: 0.8942 - val_loss: 0.1030 - val_categorical_accuracy: 0.9623\n",
      "Epoch 96/100\n",
      "1/1 [==============================] - 1s 668ms/step - loss: 0.2035 - categorical_accuracy: 0.9087 - val_loss: 0.0943 - val_categorical_accuracy: 0.9623\n",
      "Epoch 97/100\n",
      "1/1 [==============================] - 1s 661ms/step - loss: 0.3042 - categorical_accuracy: 0.8798 - val_loss: 0.1762 - val_categorical_accuracy: 0.9623\n",
      "Epoch 98/100\n",
      "1/1 [==============================] - 1s 658ms/step - loss: 0.2154 - categorical_accuracy: 0.9135 - val_loss: 0.1071 - val_categorical_accuracy: 0.9434\n",
      "Epoch 99/100\n",
      "1/1 [==============================] - 1s 659ms/step - loss: 0.2144 - categorical_accuracy: 0.9087 - val_loss: 0.0913 - val_categorical_accuracy: 0.9623\n",
      "Epoch 100/100\n",
      "1/1 [==============================] - 1s 654ms/step - loss: 0.2769 - categorical_accuracy: 0.8798 - val_loss: 0.1091 - val_categorical_accuracy: 0.9623\n"
     ]
    }
   ],
   "source": [
    "batch_size = train_images.shape[0]\n",
    "epochs = 100\n",
    "\n",
    "history = model.fit_generator(generate_data(train_images, train_labels, batch_size=batch_size),\n",
    "                              steps_per_epoch=train_images.shape[0] / batch_size,\n",
    "                              epochs=epochs, validation_data = (valid_images, valid_labels))"
   ]
  },
  {
   "cell_type": "code",
   "execution_count": 29,
   "metadata": {
    "pycharm": {
     "is_executing": true
    }
   },
   "outputs": [],
   "source": [
    "model_json = model.to_json()\n",
    "with open(\"lattice_points_model.json\", \"w\") as json_file:\n",
    "    json_file.write(model_json)\n",
    "model.save_weights(\"lattice_points_model.h5\")"
   ]
  },
  {
   "cell_type": "code",
   "execution_count": null,
   "metadata": {
    "pycharm": {
     "is_executing": true
    }
   },
   "outputs": [],
   "source": []
  }
 ],
 "metadata": {
  "kernelspec": {
   "display_name": "Python 3",
   "language": "python",
   "name": "python3"
  },
  "language_info": {
   "codemirror_mode": {
    "name": "ipython",
    "version": 3
   },
   "file_extension": ".py",
   "mimetype": "text/x-python",
   "name": "python",
   "nbconvert_exporter": "python",
   "pygments_lexer": "ipython3",
   "version": "3.7.0"
  },
  "pycharm": {
   "stem_cell": {
    "cell_type": "raw",
    "metadata": {
     "collapsed": false
    },
    "source": []
   }
  }
 },
 "nbformat": 4,
 "nbformat_minor": 1
}
