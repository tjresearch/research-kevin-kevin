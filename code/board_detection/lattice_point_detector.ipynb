{
 "cells": [
  {
   "cell_type": "code",
   "execution_count": 1,
   "metadata": {
    "pycharm": {
     "is_executing": false,
     "name": "#%%\n"
    }
   },
   "outputs": [],
   "source": [
    "import tensorflow as tf\n",
    "import os\n",
    "import cv2\n",
    "import random\n",
    "import numpy as np\n",
    "from tensorflow.keras import optimizers, layers, models\n",
    "from matplotlib import pyplot as plt"
   ]
  },
  {
   "cell_type": "markdown",
   "metadata": {},
   "source": [
    "## Data Prep"
   ]
  },
  {
   "cell_type": "code",
   "execution_count": 117,
   "metadata": {
    "pycharm": {
     "is_executing": false
    }
   },
   "outputs": [],
   "source": [
    "image_dir = \"images/lattice_points\"\n",
    "train_files = [[], []]\n",
    "\n",
    "for file in os.listdir(os.path.join(image_dir, \"no\")):\n",
    "    if file.endswith(\".jpg\"):\n",
    "        train_files[0].append(os.path.join(image_dir, \"no\", file))\n",
    "\n",
    "for file in os.listdir(os.path.join(image_dir, \"yes\")):\n",
    "    if file.endswith(\".jpg\"):\n",
    "        train_files[1].append(os.path.join(image_dir, \"yes\", file))"
   ]
  },
  {
   "cell_type": "code",
   "execution_count": 118,
   "metadata": {
    "pycharm": {
     "is_executing": false
    }
   },
   "outputs": [],
   "source": [
    "all_images = []\n",
    "all_labels = []\n",
    "\n",
    "for i in range(2):\n",
    "    for file in train_files[i]:\n",
    "        img = cv2.imread(file, cv2.IMREAD_GRAYSCALE)\n",
    "        \n",
    "        img = cv2.threshold(img, 0, 255, cv2.THRESH_OTSU)[1]\n",
    "        img = cv2.Canny(img, 0, 255)\n",
    "        \n",
    "        img = img.astype(np.float32) / 255.0\n",
    "        \n",
    "        all_images.append(img)\n",
    "        \n",
    "        label = [0, 0]\n",
    "        label[i] = 1\n",
    "        all_labels.append(label)\n",
    "\n",
    "all_images = np.array(all_images)[..., np.newaxis]\n",
    "all_labels = np.array(all_labels)"
   ]
  },
  {
   "cell_type": "code",
   "execution_count": 119,
   "metadata": {
    "pycharm": {
     "is_executing": false
    }
   },
   "outputs": [
    {
     "name": "stdout",
     "output_type": "stream",
     "text": [
      "(848, 21, 21, 1) (848, 2)\n",
      "1.0\n",
      "[1 0]\n"
     ]
    }
   ],
   "source": [
    "print(all_images.shape, all_labels.shape)\n",
    "print(all_images.max())\n",
    "print(all_labels[0])"
   ]
  },
  {
   "cell_type": "code",
   "execution_count": 120,
   "metadata": {
    "pycharm": {
     "is_executing": false
    }
   },
   "outputs": [
    {
     "name": "stdout",
     "output_type": "stream",
     "text": [
      "[0 1]\n"
     ]
    },
    {
     "data": {
      "image/png": "[encoded data removed]",
      "text/plain": [
       "<Figure size 432x288 with 1 Axes>"
      ]
     },
     "metadata": {
      "needs_background": "light"
     },
     "output_type": "display_data"
    }
   ],
   "source": [
    "plt.figure()\n",
    "plt.imshow(all_images[-1][:, :, 0], cmap=\"gray\")\n",
    "print(all_labels[-1])"
   ]
  },
  {
   "cell_type": "code",
   "execution_count": 121,
   "metadata": {
    "pycharm": {
     "is_executing": false
    }
   },
   "outputs": [],
   "source": [
    "train_images = []\n",
    "train_labels = []\n",
    "valid_images = []\n",
    "valid_labels = []\n",
    "\n",
    "train_indices = random.sample(range(len(all_images)), int(len(all_images) * 0.8))\n",
    "\n",
    "for i in range(len(all_images)):\n",
    "    if i in train_indices:\n",
    "        train_images.append(all_images[i])\n",
    "        train_labels.append(all_labels[i])\n",
    "    else:\n",
    "        valid_images.append(all_images[i])\n",
    "        valid_labels.append(all_labels[i])\n",
    "\n",
    "train_images = np.array(train_images)\n",
    "train_labels = np.array(train_labels)\n",
    "valid_images = np.array(valid_images)\n",
    "valid_labels = np.array(valid_labels)"
   ]
  },
  {
   "cell_type": "code",
   "execution_count": 122,
   "metadata": {
    "pycharm": {
     "is_executing": false
    }
   },
   "outputs": [],
   "source": [
    "datagen = tf.keras.preprocessing.image.ImageDataGenerator(\n",
    "    rotation_range=180,\n",
    "    horizontal_flip=True,\n",
    "    vertical_flip=True,\n",
    "    width_shift_range=4,\n",
    "    height_shift_range=4)"
   ]
  },
  {
   "cell_type": "markdown",
   "metadata": {},
   "source": [
    "## Initialize Network"
   ]
  },
  {
   "cell_type": "code",
   "execution_count": 102,
   "metadata": {
    "pycharm": {
     "is_executing": false
    }
   },
   "outputs": [],
   "source": [
    "model = models.Sequential()\n",
    "model.add(layers.Dense(441, input_shape=(21, 21, 1)))\n",
    "\n",
    "for i in range(2):\n",
    "    for j in [3, 2, 1]:\n",
    "        model.add(layers.Conv2D(16, j, activation=\"elu\"))\n",
    "    model.add(layers.MaxPooling2D(pool_size=(2, 2)))\n",
    "    model.add(layers.BatchNormalization())\n",
    "    \n",
    "model.add(layers.Dense(128, activation=\"elu\"))\n",
    "model.add(layers.Dropout(0.5))\n",
    "model.add(layers.Flatten())\n",
    "\n",
    "model.add(layers.Dense(2, activation=\"softmax\"))\n",
    "model.compile(optimizers.RMSprop(lr=1e-3), loss=\"categorical_crossentropy\", metrics=[\"categorical_accuracy\"])"
   ]
  },
  {
   "cell_type": "code",
   "execution_count": 103,
   "metadata": {
    "pycharm": {
     "is_executing": false
    }
   },
   "outputs": [
    {
     "name": "stdout",
     "output_type": "stream",
     "text": [
      "Model: \"sequential_4\"\n",
      "_________________________________________________________________\n",
      "Layer (type)                 Output Shape              Param #   \n",
      "=================================================================\n",
      "dense_12 (Dense)             (None, 21, 21, 441)       882       \n",
      "_________________________________________________________________\n",
      "conv2d_24 (Conv2D)           (None, 19, 19, 16)        63520     \n",
      "_________________________________________________________________\n",
      "conv2d_25 (Conv2D)           (None, 18, 18, 16)        1040      \n",
      "_________________________________________________________________\n",
      "conv2d_26 (Conv2D)           (None, 18, 18, 16)        272       \n",
      "_________________________________________________________________\n",
      "max_pooling2d_8 (MaxPooling2 (None, 9, 9, 16)          0         \n",
      "_________________________________________________________________\n",
      "batch_normalization_6 (Batch (None, 9, 9, 16)          64        \n",
      "_________________________________________________________________\n",
      "conv2d_27 (Conv2D)           (None, 7, 7, 16)          2320      \n",
      "_________________________________________________________________\n",
      "conv2d_28 (Conv2D)           (None, 6, 6, 16)          1040      \n",
      "_________________________________________________________________\n",
      "conv2d_29 (Conv2D)           (None, 6, 6, 16)          272       \n",
      "_________________________________________________________________\n",
      "max_pooling2d_9 (MaxPooling2 (None, 3, 3, 16)          0         \n",
      "_________________________________________________________________\n",
      "batch_normalization_7 (Batch (None, 3, 3, 16)          64        \n",
      "_________________________________________________________________\n",
      "dense_13 (Dense)             (None, 3, 3, 128)         2176      \n",
      "_________________________________________________________________\n",
      "dropout_4 (Dropout)          (None, 3, 3, 128)         0         \n",
      "_________________________________________________________________\n",
      "flatten_4 (Flatten)          (None, 1152)              0         \n",
      "_________________________________________________________________\n",
      "dense_14 (Dense)             (None, 2)                 2306      \n",
      "=================================================================\n",
      "Total params: 73,956\n",
      "Trainable params: 73,892\n",
      "Non-trainable params: 64\n",
      "_________________________________________________________________\n"
     ]
    }
   ],
   "source": [
    "model.summary()"
   ]
  },
  {
   "cell_type": "code",
   "execution_count": 104,
   "metadata": {
    "pycharm": {
     "is_executing": false
    }
   },
   "outputs": [],
   "source": [
    "def generate_data(train_images, train_labels, batch_size):\n",
    "    gen = datagen.flow(train_images, train_labels, batch_size=batch_size)\n",
    "    while True:\n",
    "        x, y = gen.next()\n",
    "        yield x, y"
   ]
  },
  {
   "cell_type": "code",
   "execution_count": 123,
   "metadata": {
    "pycharm": {
     "is_executing": false
    }
   },
   "outputs": [
    {
     "name": "stderr",
     "output_type": "stream",
     "text": [
      "W0204 09:37:33.665968 4370562496 data_adapter.py:1091] sample_weight modes were coerced from\n",
      "  ...\n",
      "    to  \n",
      "  ['...']\n"
     ]
    },
    {
     "name": "stdout",
     "output_type": "stream",
     "text": [
      "Train for 1.0 steps, validate on 170 samples\n",
      "Epoch 1/200\n",
      "1/1 [==============================] - 2s 2s/step - loss: 0.0910 - categorical_accuracy: 0.9661 - val_loss: 0.1330 - val_categorical_accuracy: 0.9588\n",
      "Epoch 2/200\n",
      "1/1 [==============================] - 2s 2s/step - loss: 0.0872 - categorical_accuracy: 0.9720 - val_loss: 0.1277 - val_categorical_accuracy: 0.9647\n",
      "Epoch 3/200\n",
      "1/1 [==============================] - 2s 2s/step - loss: 0.1082 - categorical_accuracy: 0.9661 - val_loss: 0.1551 - val_categorical_accuracy: 0.9588\n",
      "Epoch 4/200\n",
      "1/1 [==============================] - 3s 3s/step - loss: 0.0925 - categorical_accuracy: 0.9690 - val_loss: 0.1676 - val_categorical_accuracy: 0.9588\n",
      "Epoch 5/200\n",
      "1/1 [==============================] - 2s 2s/step - loss: 0.1118 - categorical_accuracy: 0.9631 - val_loss: 0.1480 - val_categorical_accuracy: 0.9647\n",
      "Epoch 6/200\n",
      "1/1 [==============================] - 2s 2s/step - loss: 0.1160 - categorical_accuracy: 0.9558 - val_loss: 0.1723 - val_categorical_accuracy: 0.9588\n",
      "Epoch 7/200\n",
      "1/1 [==============================] - 2s 2s/step - loss: 0.1199 - categorical_accuracy: 0.9676 - val_loss: 0.1798 - val_categorical_accuracy: 0.9588\n",
      "Epoch 8/200\n",
      "1/1 [==============================] - 2s 2s/step - loss: 0.0879 - categorical_accuracy: 0.9646 - val_loss: 0.1633 - val_categorical_accuracy: 0.9588\n",
      "Epoch 9/200\n",
      "1/1 [==============================] - 2s 2s/step - loss: 0.1113 - categorical_accuracy: 0.9587 - val_loss: 0.1395 - val_categorical_accuracy: 0.9588\n",
      "Epoch 10/200\n",
      "1/1 [==============================] - 2s 2s/step - loss: 0.0915 - categorical_accuracy: 0.9720 - val_loss: 0.1395 - val_categorical_accuracy: 0.9706\n",
      "Epoch 11/200\n",
      "1/1 [==============================] - 3s 3s/step - loss: 0.0978 - categorical_accuracy: 0.9661 - val_loss: 0.1265 - val_categorical_accuracy: 0.9706\n",
      "Epoch 12/200\n",
      "1/1 [==============================] - 3s 3s/step - loss: 0.0899 - categorical_accuracy: 0.9661 - val_loss: 0.1049 - val_categorical_accuracy: 0.9765\n",
      "Epoch 13/200\n",
      "1/1 [==============================] - 2s 2s/step - loss: 0.0927 - categorical_accuracy: 0.9705 - val_loss: 0.1076 - val_categorical_accuracy: 0.9765\n",
      "Epoch 14/200\n",
      "1/1 [==============================] - 2s 2s/step - loss: 0.1032 - categorical_accuracy: 0.9602 - val_loss: 0.1009 - val_categorical_accuracy: 0.9765\n",
      "Epoch 15/200\n",
      "1/1 [==============================] - 2s 2s/step - loss: 0.0968 - categorical_accuracy: 0.9690 - val_loss: 0.1030 - val_categorical_accuracy: 0.9647\n",
      "Epoch 16/200\n",
      "1/1 [==============================] - 2s 2s/step - loss: 0.1166 - categorical_accuracy: 0.9617 - val_loss: 0.1223 - val_categorical_accuracy: 0.9765\n",
      "Epoch 17/200\n",
      "1/1 [==============================] - 2s 2s/step - loss: 0.0937 - categorical_accuracy: 0.9661 - val_loss: 0.1317 - val_categorical_accuracy: 0.9647\n",
      "Epoch 18/200\n",
      "1/1 [==============================] - 2s 2s/step - loss: 0.0896 - categorical_accuracy: 0.9720 - val_loss: 0.1201 - val_categorical_accuracy: 0.9765\n",
      "Epoch 19/200\n",
      "1/1 [==============================] - 2s 2s/step - loss: 0.0893 - categorical_accuracy: 0.9661 - val_loss: 0.1119 - val_categorical_accuracy: 0.9765\n",
      "Epoch 20/200\n",
      "1/1 [==============================] - 3s 3s/step - loss: 0.0914 - categorical_accuracy: 0.9617 - val_loss: 0.1397 - val_categorical_accuracy: 0.9588\n",
      "Epoch 21/200\n",
      "1/1 [==============================] - 2s 2s/step - loss: 0.0741 - categorical_accuracy: 0.9749 - val_loss: 0.1338 - val_categorical_accuracy: 0.9529\n",
      "Epoch 22/200\n",
      "1/1 [==============================] - 2s 2s/step - loss: 0.1005 - categorical_accuracy: 0.9602 - val_loss: 0.1309 - val_categorical_accuracy: 0.9706\n",
      "Epoch 23/200\n",
      "1/1 [==============================] - 2s 2s/step - loss: 0.1125 - categorical_accuracy: 0.9587 - val_loss: 0.1370 - val_categorical_accuracy: 0.9706\n",
      "Epoch 24/200\n",
      "1/1 [==============================] - 2s 2s/step - loss: 0.1003 - categorical_accuracy: 0.9646 - val_loss: 0.1575 - val_categorical_accuracy: 0.9706\n",
      "Epoch 25/200\n",
      "1/1 [==============================] - 3s 3s/step - loss: 0.0890 - categorical_accuracy: 0.9646 - val_loss: 0.1406 - val_categorical_accuracy: 0.9706\n",
      "Epoch 26/200\n",
      "1/1 [==============================] - 2s 2s/step - loss: 0.1016 - categorical_accuracy: 0.9705 - val_loss: 0.1434 - val_categorical_accuracy: 0.9647\n",
      "Epoch 27/200\n",
      "1/1 [==============================] - 2s 2s/step - loss: 0.0921 - categorical_accuracy: 0.9749 - val_loss: 0.1500 - val_categorical_accuracy: 0.9588\n",
      "Epoch 28/200\n",
      "1/1 [==============================] - 2s 2s/step - loss: 0.0867 - categorical_accuracy: 0.9646 - val_loss: 0.1521 - val_categorical_accuracy: 0.9647\n",
      "Epoch 29/200\n",
      "1/1 [==============================] - 2s 2s/step - loss: 0.0903 - categorical_accuracy: 0.9676 - val_loss: 0.1450 - val_categorical_accuracy: 0.9765\n",
      "Epoch 30/200\n",
      "1/1 [==============================] - 2s 2s/step - loss: 0.0945 - categorical_accuracy: 0.9602 - val_loss: 0.1301 - val_categorical_accuracy: 0.9765\n",
      "Epoch 31/200\n",
      "1/1 [==============================] - 2s 2s/step - loss: 0.1335 - categorical_accuracy: 0.9528 - val_loss: 0.1197 - val_categorical_accuracy: 0.9647\n",
      "Epoch 32/200\n",
      "1/1 [==============================] - 2s 2s/step - loss: 0.0801 - categorical_accuracy: 0.9661 - val_loss: 0.1261 - val_categorical_accuracy: 0.9647\n",
      "Epoch 33/200\n",
      "1/1 [==============================] - 2s 2s/step - loss: 0.0807 - categorical_accuracy: 0.9720 - val_loss: 0.1386 - val_categorical_accuracy: 0.9706\n",
      "Epoch 34/200\n",
      "1/1 [==============================] - 2s 2s/step - loss: 0.0974 - categorical_accuracy: 0.9676 - val_loss: 0.1430 - val_categorical_accuracy: 0.9588\n",
      "Epoch 35/200\n",
      "1/1 [==============================] - 2s 2s/step - loss: 0.1190 - categorical_accuracy: 0.9617 - val_loss: 0.1355 - val_categorical_accuracy: 0.9647\n",
      "Epoch 36/200\n",
      "1/1 [==============================] - 2s 2s/step - loss: 0.1005 - categorical_accuracy: 0.9602 - val_loss: 0.1147 - val_categorical_accuracy: 0.9824\n",
      "Epoch 37/200\n",
      "1/1 [==============================] - 2s 2s/step - loss: 0.0766 - categorical_accuracy: 0.9735 - val_loss: 0.1208 - val_categorical_accuracy: 0.9765\n",
      "Epoch 38/200\n",
      "1/1 [==============================] - 2s 2s/step - loss: 0.0876 - categorical_accuracy: 0.9720 - val_loss: 0.1212 - val_categorical_accuracy: 0.9765\n",
      "Epoch 39/200\n",
      "1/1 [==============================] - 2s 2s/step - loss: 0.0998 - categorical_accuracy: 0.9646 - val_loss: 0.1150 - val_categorical_accuracy: 0.9706\n",
      "Epoch 40/200\n",
      "1/1 [==============================] - 2s 2s/step - loss: 0.0943 - categorical_accuracy: 0.9587 - val_loss: 0.1420 - val_categorical_accuracy: 0.9647\n",
      "Epoch 41/200\n",
      "1/1 [==============================] - 2s 2s/step - loss: 0.0790 - categorical_accuracy: 0.9720 - val_loss: 0.1446 - val_categorical_accuracy: 0.9706\n",
      "Epoch 42/200\n",
      "1/1 [==============================] - 2s 2s/step - loss: 0.1210 - categorical_accuracy: 0.9587 - val_loss: 0.1299 - val_categorical_accuracy: 0.9706\n",
      "Epoch 43/200\n",
      "1/1 [==============================] - 2s 2s/step - loss: 0.0903 - categorical_accuracy: 0.9690 - val_loss: 0.1234 - val_categorical_accuracy: 0.9765\n",
      "Epoch 44/200\n",
      "1/1 [==============================] - 2s 2s/step - loss: 0.1118 - categorical_accuracy: 0.9587 - val_loss: 0.1129 - val_categorical_accuracy: 0.9765\n",
      "Epoch 45/200\n",
      "1/1 [==============================] - 2s 2s/step - loss: 0.1015 - categorical_accuracy: 0.9661 - val_loss: 0.1148 - val_categorical_accuracy: 0.9824\n",
      "Epoch 46/200\n",
      "1/1 [==============================] - 2s 2s/step - loss: 0.1204 - categorical_accuracy: 0.9631 - val_loss: 0.1391 - val_categorical_accuracy: 0.9647\n",
      "Epoch 47/200\n",
      "1/1 [==============================] - 2s 2s/step - loss: 0.0833 - categorical_accuracy: 0.9749 - val_loss: 0.1318 - val_categorical_accuracy: 0.9824\n",
      "Epoch 48/200\n",
      "1/1 [==============================] - 2s 2s/step - loss: 0.1036 - categorical_accuracy: 0.9572 - val_loss: 0.1338 - val_categorical_accuracy: 0.9706\n",
      "Epoch 49/200\n",
      "1/1 [==============================] - 2s 2s/step - loss: 0.0932 - categorical_accuracy: 0.9631 - val_loss: 0.1218 - val_categorical_accuracy: 0.9824\n",
      "Epoch 50/200\n",
      "1/1 [==============================] - 2s 2s/step - loss: 0.0921 - categorical_accuracy: 0.9720 - val_loss: 0.1233 - val_categorical_accuracy: 0.9824\n",
      "Epoch 51/200\n"
     ]
    },
    {
     "name": "stdout",
     "output_type": "stream",
     "text": [
      "1/1 [==============================] - 2s 2s/step - loss: 0.0869 - categorical_accuracy: 0.9720 - val_loss: 0.1441 - val_categorical_accuracy: 0.9765\n",
      "Epoch 52/200\n",
      "1/1 [==============================] - 2s 2s/step - loss: 0.0731 - categorical_accuracy: 0.9749 - val_loss: 0.1279 - val_categorical_accuracy: 0.9706\n",
      "Epoch 53/200\n",
      "1/1 [==============================] - 2s 2s/step - loss: 0.0928 - categorical_accuracy: 0.9646 - val_loss: 0.1174 - val_categorical_accuracy: 0.9765\n",
      "Epoch 54/200\n",
      "1/1 [==============================] - 2s 2s/step - loss: 0.1096 - categorical_accuracy: 0.9676 - val_loss: 0.1214 - val_categorical_accuracy: 0.9824\n",
      "Epoch 55/200\n",
      "1/1 [==============================] - 2s 2s/step - loss: 0.0932 - categorical_accuracy: 0.9735 - val_loss: 0.1390 - val_categorical_accuracy: 0.9765\n",
      "Epoch 56/200\n",
      "1/1 [==============================] - 2s 2s/step - loss: 0.0971 - categorical_accuracy: 0.9676 - val_loss: 0.1538 - val_categorical_accuracy: 0.9647\n",
      "Epoch 57/200\n",
      "1/1 [==============================] - 2s 2s/step - loss: 0.1006 - categorical_accuracy: 0.9690 - val_loss: 0.1518 - val_categorical_accuracy: 0.9647\n",
      "Epoch 58/200\n",
      "1/1 [==============================] - 2s 2s/step - loss: 0.1023 - categorical_accuracy: 0.9705 - val_loss: 0.1646 - val_categorical_accuracy: 0.9765\n",
      "Epoch 59/200\n",
      "1/1 [==============================] - 3s 3s/step - loss: 0.0947 - categorical_accuracy: 0.9720 - val_loss: 0.1444 - val_categorical_accuracy: 0.9706\n",
      "Epoch 60/200\n",
      "1/1 [==============================] - 2s 2s/step - loss: 0.0826 - categorical_accuracy: 0.9749 - val_loss: 0.1440 - val_categorical_accuracy: 0.9765\n",
      "Epoch 61/200\n",
      "1/1 [==============================] - 2s 2s/step - loss: 0.0877 - categorical_accuracy: 0.9690 - val_loss: 0.1452 - val_categorical_accuracy: 0.9765\n",
      "Epoch 62/200\n",
      "1/1 [==============================] - 2s 2s/step - loss: 0.0956 - categorical_accuracy: 0.9720 - val_loss: 0.1471 - val_categorical_accuracy: 0.9647\n",
      "Epoch 63/200\n",
      "1/1 [==============================] - 2s 2s/step - loss: 0.1112 - categorical_accuracy: 0.9705 - val_loss: 0.1302 - val_categorical_accuracy: 0.9824\n",
      "Epoch 64/200\n",
      "1/1 [==============================] - 2s 2s/step - loss: 0.1040 - categorical_accuracy: 0.9676 - val_loss: 0.1239 - val_categorical_accuracy: 0.9824\n",
      "Epoch 65/200\n",
      "1/1 [==============================] - 2s 2s/step - loss: 0.0881 - categorical_accuracy: 0.9705 - val_loss: 0.1450 - val_categorical_accuracy: 0.9824\n",
      "Epoch 66/200\n",
      "1/1 [==============================] - 2s 2s/step - loss: 0.0773 - categorical_accuracy: 0.9690 - val_loss: 0.1279 - val_categorical_accuracy: 0.9882\n",
      "Epoch 67/200\n",
      "1/1 [==============================] - 2s 2s/step - loss: 0.0985 - categorical_accuracy: 0.9661 - val_loss: 0.1375 - val_categorical_accuracy: 0.9824\n",
      "Epoch 68/200\n",
      "1/1 [==============================] - 2s 2s/step - loss: 0.0946 - categorical_accuracy: 0.9705 - val_loss: 0.1337 - val_categorical_accuracy: 0.9647\n",
      "Epoch 69/200\n",
      "1/1 [==============================] - 2s 2s/step - loss: 0.1279 - categorical_accuracy: 0.9617 - val_loss: 0.1441 - val_categorical_accuracy: 0.9647\n",
      "Epoch 70/200\n",
      "1/1 [==============================] - 2s 2s/step - loss: 0.1192 - categorical_accuracy: 0.9558 - val_loss: 0.1354 - val_categorical_accuracy: 0.9882\n",
      "Epoch 71/200\n",
      "1/1 [==============================] - 2s 2s/step - loss: 0.0919 - categorical_accuracy: 0.9661 - val_loss: 0.1248 - val_categorical_accuracy: 0.9882\n",
      "Epoch 72/200\n",
      "1/1 [==============================] - 2s 2s/step - loss: 0.0920 - categorical_accuracy: 0.9646 - val_loss: 0.1234 - val_categorical_accuracy: 0.9765\n",
      "Epoch 73/200\n",
      "1/1 [==============================] - 2s 2s/step - loss: 0.0821 - categorical_accuracy: 0.9631 - val_loss: 0.1341 - val_categorical_accuracy: 0.9765\n",
      "Epoch 74/200\n",
      "1/1 [==============================] - 2s 2s/step - loss: 0.0966 - categorical_accuracy: 0.9631 - val_loss: 0.1447 - val_categorical_accuracy: 0.9706\n",
      "Epoch 75/200\n",
      "1/1 [==============================] - 2s 2s/step - loss: 0.0882 - categorical_accuracy: 0.9661 - val_loss: 0.1214 - val_categorical_accuracy: 0.9765\n",
      "Epoch 76/200\n",
      "1/1 [==============================] - 2s 2s/step - loss: 0.0883 - categorical_accuracy: 0.9631 - val_loss: 0.1296 - val_categorical_accuracy: 0.9706\n",
      "Epoch 77/200\n",
      "1/1 [==============================] - 2s 2s/step - loss: 0.0834 - categorical_accuracy: 0.9705 - val_loss: 0.1106 - val_categorical_accuracy: 0.9765\n",
      "Epoch 78/200\n",
      "1/1 [==============================] - 2s 2s/step - loss: 0.0912 - categorical_accuracy: 0.9690 - val_loss: 0.1203 - val_categorical_accuracy: 0.9706\n",
      "Epoch 79/200\n",
      "1/1 [==============================] - 2s 2s/step - loss: 0.0715 - categorical_accuracy: 0.9779 - val_loss: 0.1098 - val_categorical_accuracy: 0.9824\n",
      "Epoch 80/200\n",
      "1/1 [==============================] - 2s 2s/step - loss: 0.1340 - categorical_accuracy: 0.9558 - val_loss: 0.1263 - val_categorical_accuracy: 0.9765\n",
      "Epoch 81/200\n",
      "1/1 [==============================] - 2s 2s/step - loss: 0.0970 - categorical_accuracy: 0.9631 - val_loss: 0.1269 - val_categorical_accuracy: 0.9706\n",
      "Epoch 82/200\n",
      "1/1 [==============================] - 2s 2s/step - loss: 0.0979 - categorical_accuracy: 0.9720 - val_loss: 0.1003 - val_categorical_accuracy: 0.9882\n",
      "Epoch 83/200\n",
      "1/1 [==============================] - 3s 3s/step - loss: 0.0795 - categorical_accuracy: 0.9690 - val_loss: 0.1095 - val_categorical_accuracy: 0.9647\n",
      "Epoch 84/200\n",
      "1/1 [==============================] - 2s 2s/step - loss: 0.0856 - categorical_accuracy: 0.9705 - val_loss: 0.1015 - val_categorical_accuracy: 0.9882\n",
      "Epoch 85/200\n",
      "1/1 [==============================] - 2s 2s/step - loss: 0.0830 - categorical_accuracy: 0.9794 - val_loss: 0.1239 - val_categorical_accuracy: 0.9824\n",
      "Epoch 86/200\n",
      "1/1 [==============================] - 2s 2s/step - loss: 0.1060 - categorical_accuracy: 0.9661 - val_loss: 0.1206 - val_categorical_accuracy: 0.9824\n",
      "Epoch 87/200\n",
      "1/1 [==============================] - 2s 2s/step - loss: 0.1001 - categorical_accuracy: 0.9661 - val_loss: 0.1147 - val_categorical_accuracy: 0.9765\n",
      "Epoch 88/200\n",
      "1/1 [==============================] - 2s 2s/step - loss: 0.0801 - categorical_accuracy: 0.9705 - val_loss: 0.1140 - val_categorical_accuracy: 0.9882\n",
      "Epoch 89/200\n",
      "1/1 [==============================] - 2s 2s/step - loss: 0.0810 - categorical_accuracy: 0.9602 - val_loss: 0.1187 - val_categorical_accuracy: 0.9706\n",
      "Epoch 90/200\n",
      "1/1 [==============================] - 2s 2s/step - loss: 0.0804 - categorical_accuracy: 0.9779 - val_loss: 0.1152 - val_categorical_accuracy: 0.9882\n",
      "Epoch 91/200\n",
      "1/1 [==============================] - 2s 2s/step - loss: 0.0796 - categorical_accuracy: 0.9646 - val_loss: 0.1282 - val_categorical_accuracy: 0.9765\n",
      "Epoch 92/200\n",
      "1/1 [==============================] - 2s 2s/step - loss: 0.0677 - categorical_accuracy: 0.9705 - val_loss: 0.1137 - val_categorical_accuracy: 0.9882\n",
      "Epoch 93/200\n",
      "1/1 [==============================] - 2s 2s/step - loss: 0.0862 - categorical_accuracy: 0.9690 - val_loss: 0.1184 - val_categorical_accuracy: 0.9824\n",
      "Epoch 94/200\n",
      "1/1 [==============================] - 2s 2s/step - loss: 0.0986 - categorical_accuracy: 0.9676 - val_loss: 0.1202 - val_categorical_accuracy: 0.9824\n",
      "Epoch 95/200\n",
      "1/1 [==============================] - 2s 2s/step - loss: 0.0974 - categorical_accuracy: 0.9617 - val_loss: 0.1220 - val_categorical_accuracy: 0.9824\n",
      "Epoch 96/200\n",
      "1/1 [==============================] - 2s 2s/step - loss: 0.0814 - categorical_accuracy: 0.9735 - val_loss: 0.1231 - val_categorical_accuracy: 0.9882\n",
      "Epoch 97/200\n",
      "1/1 [==============================] - 2s 2s/step - loss: 0.0981 - categorical_accuracy: 0.9587 - val_loss: 0.1206 - val_categorical_accuracy: 0.9765\n",
      "Epoch 98/200\n",
      "1/1 [==============================] - 2s 2s/step - loss: 0.0983 - categorical_accuracy: 0.9735 - val_loss: 0.1202 - val_categorical_accuracy: 0.9882\n",
      "Epoch 99/200\n",
      "1/1 [==============================] - 2s 2s/step - loss: 0.0820 - categorical_accuracy: 0.9764 - val_loss: 0.1199 - val_categorical_accuracy: 0.9824\n",
      "Epoch 100/200\n",
      "1/1 [==============================] - 2s 2s/step - loss: 0.0945 - categorical_accuracy: 0.9720 - val_loss: 0.1165 - val_categorical_accuracy: 0.9824\n",
      "Epoch 101/200\n",
      "1/1 [==============================] - 2s 2s/step - loss: 0.0986 - categorical_accuracy: 0.9617 - val_loss: 0.1105 - val_categorical_accuracy: 0.9882\n"
     ]
    },
    {
     "name": "stdout",
     "output_type": "stream",
     "text": [
      "Epoch 102/200\n",
      "1/1 [==============================] - 2s 2s/step - loss: 0.0995 - categorical_accuracy: 0.9602 - val_loss: 0.1208 - val_categorical_accuracy: 0.9824\n",
      "Epoch 103/200\n",
      "1/1 [==============================] - 2s 2s/step - loss: 0.0864 - categorical_accuracy: 0.9705 - val_loss: 0.1231 - val_categorical_accuracy: 0.9824\n",
      "Epoch 104/200\n",
      "1/1 [==============================] - 2s 2s/step - loss: 0.0934 - categorical_accuracy: 0.9676 - val_loss: 0.1332 - val_categorical_accuracy: 0.9765\n",
      "Epoch 105/200\n",
      "1/1 [==============================] - 2s 2s/step - loss: 0.1014 - categorical_accuracy: 0.9676 - val_loss: 0.1204 - val_categorical_accuracy: 0.9882\n",
      "Epoch 106/200\n",
      "1/1 [==============================] - 2s 2s/step - loss: 0.0706 - categorical_accuracy: 0.9735 - val_loss: 0.1364 - val_categorical_accuracy: 0.9824\n",
      "Epoch 107/200\n",
      "1/1 [==============================] - 2s 2s/step - loss: 0.1004 - categorical_accuracy: 0.9720 - val_loss: 0.1270 - val_categorical_accuracy: 0.9765\n",
      "Epoch 108/200\n",
      "1/1 [==============================] - 2s 2s/step - loss: 0.0946 - categorical_accuracy: 0.9676 - val_loss: 0.1325 - val_categorical_accuracy: 0.9588\n",
      "Epoch 109/200\n",
      "1/1 [==============================] - 2s 2s/step - loss: 0.0929 - categorical_accuracy: 0.9720 - val_loss: 0.1295 - val_categorical_accuracy: 0.9824\n",
      "Epoch 110/200\n",
      "1/1 [==============================] - 2s 2s/step - loss: 0.1013 - categorical_accuracy: 0.9676 - val_loss: 0.1272 - val_categorical_accuracy: 0.9882\n",
      "Epoch 111/200\n",
      "1/1 [==============================] - 2s 2s/step - loss: 0.0917 - categorical_accuracy: 0.9617 - val_loss: 0.1432 - val_categorical_accuracy: 0.9647\n",
      "Epoch 112/200\n",
      "1/1 [==============================] - 3s 3s/step - loss: 0.0987 - categorical_accuracy: 0.9617 - val_loss: 0.1456 - val_categorical_accuracy: 0.9824\n",
      "Epoch 113/200\n",
      "1/1 [==============================] - 2s 2s/step - loss: 0.0819 - categorical_accuracy: 0.9676 - val_loss: 0.1453 - val_categorical_accuracy: 0.9765\n",
      "Epoch 114/200\n",
      "1/1 [==============================] - 2s 2s/step - loss: 0.0884 - categorical_accuracy: 0.9661 - val_loss: 0.1348 - val_categorical_accuracy: 0.9647\n",
      "Epoch 115/200\n",
      "1/1 [==============================] - 2s 2s/step - loss: 0.0825 - categorical_accuracy: 0.9749 - val_loss: 0.1231 - val_categorical_accuracy: 0.9765\n",
      "Epoch 116/200\n",
      "1/1 [==============================] - 2s 2s/step - loss: 0.0759 - categorical_accuracy: 0.9749 - val_loss: 0.1214 - val_categorical_accuracy: 0.9824\n",
      "Epoch 117/200\n",
      "1/1 [==============================] - 2s 2s/step - loss: 0.0928 - categorical_accuracy: 0.9749 - val_loss: 0.1197 - val_categorical_accuracy: 0.9765\n",
      "Epoch 118/200\n",
      "1/1 [==============================] - 2s 2s/step - loss: 0.1011 - categorical_accuracy: 0.9646 - val_loss: 0.1295 - val_categorical_accuracy: 0.9882\n",
      "Epoch 119/200\n",
      "1/1 [==============================] - 2s 2s/step - loss: 0.0739 - categorical_accuracy: 0.9749 - val_loss: 0.1182 - val_categorical_accuracy: 0.9765\n",
      "Epoch 120/200\n",
      "1/1 [==============================] - 2s 2s/step - loss: 0.1223 - categorical_accuracy: 0.9602 - val_loss: 0.1212 - val_categorical_accuracy: 0.9824\n",
      "Epoch 121/200\n",
      "1/1 [==============================] - 2s 2s/step - loss: 0.0946 - categorical_accuracy: 0.9646 - val_loss: 0.1169 - val_categorical_accuracy: 0.9765\n",
      "Epoch 122/200\n",
      "1/1 [==============================] - 2s 2s/step - loss: 0.0765 - categorical_accuracy: 0.9690 - val_loss: 0.1156 - val_categorical_accuracy: 0.9765\n",
      "Epoch 123/200\n",
      "1/1 [==============================] - 2s 2s/step - loss: 0.0969 - categorical_accuracy: 0.9661 - val_loss: 0.1277 - val_categorical_accuracy: 0.9765\n",
      "Epoch 124/200\n",
      "1/1 [==============================] - 2s 2s/step - loss: 0.0981 - categorical_accuracy: 0.9661 - val_loss: 0.1419 - val_categorical_accuracy: 0.9588\n",
      "Epoch 125/200\n",
      "1/1 [==============================] - 2s 2s/step - loss: 0.0929 - categorical_accuracy: 0.9661 - val_loss: 0.1195 - val_categorical_accuracy: 0.9706\n",
      "Epoch 126/200\n",
      "1/1 [==============================] - 2s 2s/step - loss: 0.0899 - categorical_accuracy: 0.9661 - val_loss: 0.1271 - val_categorical_accuracy: 0.9588\n",
      "Epoch 127/200\n",
      "1/1 [==============================] - 2s 2s/step - loss: 0.1058 - categorical_accuracy: 0.9646 - val_loss: 0.1189 - val_categorical_accuracy: 0.9647\n",
      "Epoch 128/200\n",
      "1/1 [==============================] - 2s 2s/step - loss: 0.1010 - categorical_accuracy: 0.9661 - val_loss: 0.1162 - val_categorical_accuracy: 0.9824\n",
      "Epoch 129/200\n",
      "1/1 [==============================] - 2s 2s/step - loss: 0.0861 - categorical_accuracy: 0.9720 - val_loss: 0.1242 - val_categorical_accuracy: 0.9647\n",
      "Epoch 130/200\n",
      "1/1 [==============================] - 3s 3s/step - loss: 0.0712 - categorical_accuracy: 0.9764 - val_loss: 0.1260 - val_categorical_accuracy: 0.9765\n",
      "Epoch 131/200\n",
      "1/1 [==============================] - 3s 3s/step - loss: 0.0764 - categorical_accuracy: 0.9705 - val_loss: 0.1387 - val_categorical_accuracy: 0.9706\n",
      "Epoch 132/200\n",
      "1/1 [==============================] - 3s 3s/step - loss: 0.0810 - categorical_accuracy: 0.9779 - val_loss: 0.1307 - val_categorical_accuracy: 0.9706\n",
      "Epoch 133/200\n",
      "1/1 [==============================] - 2s 2s/step - loss: 0.0912 - categorical_accuracy: 0.9735 - val_loss: 0.1240 - val_categorical_accuracy: 0.9706\n",
      "Epoch 134/200\n",
      "1/1 [==============================] - 3s 3s/step - loss: 0.0755 - categorical_accuracy: 0.9764 - val_loss: 0.1450 - val_categorical_accuracy: 0.9706\n",
      "Epoch 135/200\n",
      "1/1 [==============================] - 2s 2s/step - loss: 0.0912 - categorical_accuracy: 0.9631 - val_loss: 0.1425 - val_categorical_accuracy: 0.9824\n",
      "Epoch 136/200\n",
      "1/1 [==============================] - 2s 2s/step - loss: 0.1050 - categorical_accuracy: 0.9676 - val_loss: 0.1363 - val_categorical_accuracy: 0.9647\n",
      "Epoch 137/200\n",
      "1/1 [==============================] - 2s 2s/step - loss: 0.0746 - categorical_accuracy: 0.9735 - val_loss: 0.1285 - val_categorical_accuracy: 0.9706\n",
      "Epoch 138/200\n",
      "1/1 [==============================] - 2s 2s/step - loss: 0.0791 - categorical_accuracy: 0.9676 - val_loss: 0.1288 - val_categorical_accuracy: 0.9706\n",
      "Epoch 139/200\n",
      "1/1 [==============================] - 2s 2s/step - loss: 0.0896 - categorical_accuracy: 0.9705 - val_loss: 0.1258 - val_categorical_accuracy: 0.9706\n",
      "Epoch 140/200\n",
      "1/1 [==============================] - 2s 2s/step - loss: 0.0875 - categorical_accuracy: 0.9646 - val_loss: 0.1305 - val_categorical_accuracy: 0.9647\n",
      "Epoch 141/200\n",
      "1/1 [==============================] - 3s 3s/step - loss: 0.0974 - categorical_accuracy: 0.9676 - val_loss: 0.1349 - val_categorical_accuracy: 0.9706\n",
      "Epoch 142/200\n",
      "1/1 [==============================] - 2s 2s/step - loss: 0.0841 - categorical_accuracy: 0.9646 - val_loss: 0.1359 - val_categorical_accuracy: 0.9588\n",
      "Epoch 143/200\n",
      "1/1 [==============================] - 2s 2s/step - loss: 0.0900 - categorical_accuracy: 0.9587 - val_loss: 0.1410 - val_categorical_accuracy: 0.9647\n",
      "Epoch 144/200\n",
      "1/1 [==============================] - 2s 2s/step - loss: 0.0963 - categorical_accuracy: 0.9646 - val_loss: 0.1280 - val_categorical_accuracy: 0.9706\n",
      "Epoch 145/200\n",
      "1/1 [==============================] - 2s 2s/step - loss: 0.0998 - categorical_accuracy: 0.9735 - val_loss: 0.1308 - val_categorical_accuracy: 0.9706\n",
      "Epoch 146/200\n",
      "1/1 [==============================] - 2s 2s/step - loss: 0.0814 - categorical_accuracy: 0.9735 - val_loss: 0.1348 - val_categorical_accuracy: 0.9529\n",
      "Epoch 147/200\n",
      "1/1 [==============================] - 2s 2s/step - loss: 0.0966 - categorical_accuracy: 0.9558 - val_loss: 0.1303 - val_categorical_accuracy: 0.9706\n",
      "Epoch 148/200\n",
      "1/1 [==============================] - 2s 2s/step - loss: 0.0914 - categorical_accuracy: 0.9705 - val_loss: 0.1287 - val_categorical_accuracy: 0.9765\n",
      "Epoch 149/200\n",
      "1/1 [==============================] - 2s 2s/step - loss: 0.1068 - categorical_accuracy: 0.9646 - val_loss: 0.1176 - val_categorical_accuracy: 0.9765\n",
      "Epoch 150/200\n",
      "1/1 [==============================] - 2s 2s/step - loss: 0.1041 - categorical_accuracy: 0.9587 - val_loss: 0.1168 - val_categorical_accuracy: 0.9706\n",
      "Epoch 151/200\n",
      "1/1 [==============================] - 2s 2s/step - loss: 0.0883 - categorical_accuracy: 0.9690 - val_loss: 0.1224 - val_categorical_accuracy: 0.9765\n"
     ]
    },
    {
     "name": "stdout",
     "output_type": "stream",
     "text": [
      "Epoch 152/200\n",
      "1/1 [==============================] - 2s 2s/step - loss: 0.1227 - categorical_accuracy: 0.9587 - val_loss: 0.1310 - val_categorical_accuracy: 0.9765\n",
      "Epoch 153/200\n",
      "1/1 [==============================] - 2s 2s/step - loss: 0.0890 - categorical_accuracy: 0.9617 - val_loss: 0.1226 - val_categorical_accuracy: 0.9824\n",
      "Epoch 154/200\n",
      "1/1 [==============================] - 2s 2s/step - loss: 0.0860 - categorical_accuracy: 0.9661 - val_loss: 0.1219 - val_categorical_accuracy: 0.9765\n",
      "Epoch 155/200\n",
      "1/1 [==============================] - 2s 2s/step - loss: 0.0911 - categorical_accuracy: 0.9690 - val_loss: 0.1324 - val_categorical_accuracy: 0.9765\n",
      "Epoch 156/200\n",
      "1/1 [==============================] - 2s 2s/step - loss: 0.0912 - categorical_accuracy: 0.9676 - val_loss: 0.1337 - val_categorical_accuracy: 0.9706\n",
      "Epoch 157/200\n",
      "1/1 [==============================] - 2s 2s/step - loss: 0.0850 - categorical_accuracy: 0.9676 - val_loss: 0.1369 - val_categorical_accuracy: 0.9706\n",
      "Epoch 158/200\n",
      "1/1 [==============================] - 2s 2s/step - loss: 0.0746 - categorical_accuracy: 0.9735 - val_loss: 0.1321 - val_categorical_accuracy: 0.9765\n",
      "Epoch 159/200\n",
      "1/1 [==============================] - 2s 2s/step - loss: 0.0934 - categorical_accuracy: 0.9690 - val_loss: 0.1450 - val_categorical_accuracy: 0.9765\n",
      "Epoch 160/200\n",
      "1/1 [==============================] - 3s 3s/step - loss: 0.0963 - categorical_accuracy: 0.9631 - val_loss: 0.1536 - val_categorical_accuracy: 0.9647\n",
      "Epoch 161/200\n",
      "1/1 [==============================] - 2s 2s/step - loss: 0.0821 - categorical_accuracy: 0.9690 - val_loss: 0.1752 - val_categorical_accuracy: 0.9706\n",
      "Epoch 162/200\n",
      "1/1 [==============================] - 2s 2s/step - loss: 0.0923 - categorical_accuracy: 0.9705 - val_loss: 0.1636 - val_categorical_accuracy: 0.9706\n",
      "Epoch 163/200\n",
      "1/1 [==============================] - 2s 2s/step - loss: 0.0918 - categorical_accuracy: 0.9646 - val_loss: 0.1458 - val_categorical_accuracy: 0.9824\n",
      "Epoch 164/200\n",
      "1/1 [==============================] - 2s 2s/step - loss: 0.0905 - categorical_accuracy: 0.9661 - val_loss: 0.1476 - val_categorical_accuracy: 0.9706\n",
      "Epoch 165/200\n",
      "1/1 [==============================] - 3s 3s/step - loss: 0.0822 - categorical_accuracy: 0.9676 - val_loss: 0.1249 - val_categorical_accuracy: 0.9765\n",
      "Epoch 166/200\n",
      "1/1 [==============================] - 2s 2s/step - loss: 0.0975 - categorical_accuracy: 0.9661 - val_loss: 0.1164 - val_categorical_accuracy: 0.9765\n",
      "Epoch 167/200\n",
      "1/1 [==============================] - 3s 3s/step - loss: 0.0826 - categorical_accuracy: 0.9646 - val_loss: 0.1331 - val_categorical_accuracy: 0.9824\n",
      "Epoch 168/200\n",
      "1/1 [==============================] - 2s 2s/step - loss: 0.0833 - categorical_accuracy: 0.9735 - val_loss: 0.1330 - val_categorical_accuracy: 0.9765\n",
      "Epoch 169/200\n",
      "1/1 [==============================] - 2s 2s/step - loss: 0.0818 - categorical_accuracy: 0.9735 - val_loss: 0.1238 - val_categorical_accuracy: 0.9824\n",
      "Epoch 170/200\n",
      "1/1 [==============================] - 2s 2s/step - loss: 0.0870 - categorical_accuracy: 0.9690 - val_loss: 0.1164 - val_categorical_accuracy: 0.9882\n",
      "Epoch 171/200\n",
      "1/1 [==============================] - 2s 2s/step - loss: 0.0818 - categorical_accuracy: 0.9720 - val_loss: 0.1241 - val_categorical_accuracy: 0.9824\n",
      "Epoch 172/200\n",
      "1/1 [==============================] - 2s 2s/step - loss: 0.0870 - categorical_accuracy: 0.9646 - val_loss: 0.1329 - val_categorical_accuracy: 0.9824\n",
      "Epoch 173/200\n",
      "1/1 [==============================] - 2s 2s/step - loss: 0.0794 - categorical_accuracy: 0.9690 - val_loss: 0.1437 - val_categorical_accuracy: 0.9765\n",
      "Epoch 174/200\n",
      "1/1 [==============================] - 2s 2s/step - loss: 0.0921 - categorical_accuracy: 0.9705 - val_loss: 0.1355 - val_categorical_accuracy: 0.9765\n",
      "Epoch 175/200\n",
      "1/1 [==============================] - 2s 2s/step - loss: 0.1088 - categorical_accuracy: 0.9602 - val_loss: 0.1326 - val_categorical_accuracy: 0.9765\n",
      "Epoch 176/200\n",
      "1/1 [==============================] - 3s 3s/step - loss: 0.0902 - categorical_accuracy: 0.9631 - val_loss: 0.1365 - val_categorical_accuracy: 0.9824\n",
      "Epoch 177/200\n",
      "1/1 [==============================] - 2s 2s/step - loss: 0.0677 - categorical_accuracy: 0.9720 - val_loss: 0.1507 - val_categorical_accuracy: 0.9765\n",
      "Epoch 178/200\n",
      "1/1 [==============================] - 2s 2s/step - loss: 0.0937 - categorical_accuracy: 0.9690 - val_loss: 0.1540 - val_categorical_accuracy: 0.9765\n",
      "Epoch 179/200\n",
      "1/1 [==============================] - 2s 2s/step - loss: 0.0829 - categorical_accuracy: 0.9690 - val_loss: 0.1551 - val_categorical_accuracy: 0.9765\n",
      "Epoch 180/200\n",
      "1/1 [==============================] - 2s 2s/step - loss: 0.0938 - categorical_accuracy: 0.9617 - val_loss: 0.1424 - val_categorical_accuracy: 0.9882\n",
      "Epoch 181/200\n",
      "1/1 [==============================] - 2s 2s/step - loss: 0.0892 - categorical_accuracy: 0.9720 - val_loss: 0.1739 - val_categorical_accuracy: 0.9647\n",
      "Epoch 182/200\n",
      "1/1 [==============================] - 2s 2s/step - loss: 0.0949 - categorical_accuracy: 0.9705 - val_loss: 0.1501 - val_categorical_accuracy: 0.9765\n",
      "Epoch 183/200\n",
      "1/1 [==============================] - 2s 2s/step - loss: 0.0647 - categorical_accuracy: 0.9720 - val_loss: 0.1655 - val_categorical_accuracy: 0.9706\n",
      "Epoch 184/200\n",
      "1/1 [==============================] - 2s 2s/step - loss: 0.1119 - categorical_accuracy: 0.9631 - val_loss: 0.1463 - val_categorical_accuracy: 0.9765\n",
      "Epoch 185/200\n",
      "1/1 [==============================] - 2s 2s/step - loss: 0.0813 - categorical_accuracy: 0.9690 - val_loss: 0.1500 - val_categorical_accuracy: 0.9765\n",
      "Epoch 186/200\n",
      "1/1 [==============================] - 2s 2s/step - loss: 0.0968 - categorical_accuracy: 0.9676 - val_loss: 0.1740 - val_categorical_accuracy: 0.9706\n",
      "Epoch 187/200\n",
      "1/1 [==============================] - 2s 2s/step - loss: 0.0948 - categorical_accuracy: 0.9661 - val_loss: 0.1826 - val_categorical_accuracy: 0.9706\n",
      "Epoch 188/200\n",
      "1/1 [==============================] - 3s 3s/step - loss: 0.1015 - categorical_accuracy: 0.9705 - val_loss: 0.1678 - val_categorical_accuracy: 0.9706\n",
      "Epoch 189/200\n",
      "1/1 [==============================] - 2s 2s/step - loss: 0.0924 - categorical_accuracy: 0.9646 - val_loss: 0.1855 - val_categorical_accuracy: 0.9706\n",
      "Epoch 190/200\n",
      "1/1 [==============================] - 2s 2s/step - loss: 0.0876 - categorical_accuracy: 0.9749 - val_loss: 0.1725 - val_categorical_accuracy: 0.9765\n",
      "Epoch 191/200\n",
      "1/1 [==============================] - 2s 2s/step - loss: 0.0860 - categorical_accuracy: 0.9764 - val_loss: 0.1719 - val_categorical_accuracy: 0.9765\n",
      "Epoch 192/200\n",
      "1/1 [==============================] - 2s 2s/step - loss: 0.0877 - categorical_accuracy: 0.9661 - val_loss: 0.1656 - val_categorical_accuracy: 0.9765\n",
      "Epoch 193/200\n",
      "1/1 [==============================] - 2s 2s/step - loss: 0.0819 - categorical_accuracy: 0.9690 - val_loss: 0.1533 - val_categorical_accuracy: 0.9824\n",
      "Epoch 194/200\n",
      "1/1 [==============================] - 2s 2s/step - loss: 0.0828 - categorical_accuracy: 0.9690 - val_loss: 0.1591 - val_categorical_accuracy: 0.9824\n",
      "Epoch 195/200\n",
      "1/1 [==============================] - 2s 2s/step - loss: 0.0814 - categorical_accuracy: 0.9646 - val_loss: 0.1503 - val_categorical_accuracy: 0.9765\n",
      "Epoch 196/200\n",
      "1/1 [==============================] - 2s 2s/step - loss: 0.0894 - categorical_accuracy: 0.9690 - val_loss: 0.1442 - val_categorical_accuracy: 0.9824\n",
      "Epoch 197/200\n",
      "1/1 [==============================] - 2s 2s/step - loss: 0.0890 - categorical_accuracy: 0.9690 - val_loss: 0.1504 - val_categorical_accuracy: 0.9824\n",
      "Epoch 198/200\n",
      "1/1 [==============================] - 2s 2s/step - loss: 0.0919 - categorical_accuracy: 0.9705 - val_loss: 0.1613 - val_categorical_accuracy: 0.9765\n",
      "Epoch 199/200\n",
      "1/1 [==============================] - 2s 2s/step - loss: 0.0764 - categorical_accuracy: 0.9749 - val_loss: 0.1600 - val_categorical_accuracy: 0.9706\n",
      "Epoch 200/200\n",
      "1/1 [==============================] - 2s 2s/step - loss: 0.0848 - categorical_accuracy: 0.9661 - val_loss: 0.1588 - val_categorical_accuracy: 0.9765\n"
     ]
    }
   ],
   "source": [
    "batch_size = train_images.shape[0]\n",
    "epochs = 200\n",
    "\n",
    "history = model.fit_generator(generate_data(train_images, train_labels, batch_size=batch_size),\n",
    "                              steps_per_epoch=train_images.shape[0] / batch_size,\n",
    "                              epochs=epochs, validation_data = (valid_images, valid_labels))"
   ]
  },
  {
   "cell_type": "code",
   "execution_count": 124,
   "metadata": {
    "pycharm": {
     "is_executing": false
    }
   },
   "outputs": [],
   "source": [
    "model_json = model.to_json()\n",
    "with open(\"lattice_points_model.json\", \"w\") as json_file:\n",
    "    json_file.write(model_json)\n",
    "model.save_weights(\"lattice_points_model.h5\")"
   ]
  },
  {
   "cell_type": "code",
   "execution_count": null,
   "metadata": {
    "pycharm": {
     "is_executing": false
    }
   },
   "outputs": [],
   "source": []
  },
  {
   "cell_type": "code",
   "execution_count": null,
   "metadata": {},
   "outputs": [],
   "source": []
  }
 ],
 "metadata": {
  "kernelspec": {
   "display_name": "Python 3",
   "language": "python",
   "name": "python3"
  },
  "language_info": {
   "codemirror_mode": {
    "name": "ipython",
    "version": 3
   },
   "file_extension": ".py",
   "mimetype": "text/x-python",
   "name": "python",
   "nbconvert_exporter": "python",
   "pygments_lexer": "ipython3",
   "version": "3.7.0"
  },
  "pycharm": {
   "stem_cell": {
    "cell_type": "raw",
    "metadata": {
     "collapsed": false
    },
    "source": []
   }
  }
 },
 "nbformat": 4,
 "nbformat_minor": 1
}
