{
 "cells": [
  {
   "cell_type": "code",
   "execution_count": null,
   "metadata": {
    "pycharm": {
     "is_executing": true,
     "name": "#%%\n"
    }
   },
   "outputs": [],
   "source": [
    "import tensorflow as tf\n",
    "import os\n",
    "import cv2\n",
    "import random\n",
    "import numpy as np\n",
    "from tensorflow.keras import optimizers, layers, models\n",
    "from matplotlib import pyplot as plt"
   ]
  },
  {
   "cell_type": "markdown",
   "metadata": {},
   "source": [
    "## Data Prep"
   ]
  },
  {
   "cell_type": "code",
   "execution_count": 38,
   "metadata": {
    "pycharm": {
     "is_executing": true
    }
   },
   "outputs": [],
   "source": [
    "image_dir = \"images/lattice_points\"\n",
    "train_files = [[], []]\n",
    "\n",
    "for file in os.listdir(os.path.join(image_dir, \"no\")):\n",
    "    if file.endswith(\".jpg\"):\n",
    "        train_files[0].append(os.path.join(image_dir, \"no\", file))\n",
    "\n",
    "for file in os.listdir(os.path.join(image_dir, \"yes\")):\n",
    "    if file.endswith(\".jpg\"):\n",
    "        train_files[1].append(os.path.join(image_dir, \"yes\", file))"
   ]
  },
  {
   "cell_type": "code",
   "execution_count": 39,
   "metadata": {
    "pycharm": {
     "is_executing": true
    }
   },
   "outputs": [],
   "source": [
    "all_images = []\n",
    "all_labels = []\n",
    "\n",
    "for i in range(2):\n",
    "    for file in train_files[i]:\n",
    "        img = cv2.imread(file, cv2.IMREAD_GRAYSCALE)\n",
    "        \n",
    "        img = cv2.threshold(img, 0, 255, cv2.THRESH_OTSU)[1]\n",
    "        img = cv2.Canny(img, 0, 255)\n",
    "        \n",
    "        img = img.astype(np.float32) / 255.0\n",
    "        \n",
    "        all_images.append(img)\n",
    "        \n",
    "        label = [0, 0]\n",
    "        label[i] = 1\n",
    "        all_labels.append(label)\n",
    "\n",
    "all_images = np.array(all_images)[..., np.newaxis]\n",
    "all_labels = np.array(all_labels)"
   ]
  },
  {
   "cell_type": "code",
   "execution_count": 40,
   "metadata": {
    "pycharm": {
     "is_executing": true
    }
   },
   "outputs": [
    {
     "name": "stdout",
     "output_type": "stream",
     "text": [
      "(518, 21, 21, 1) (518, 2)\n",
      "1.0\n",
      "[1 0]\n"
     ]
    }
   ],
   "source": [
    "print(all_images.shape, all_labels.shape)\n",
    "print(all_images.max())\n",
    "print(all_labels[0])"
   ]
  },
  {
   "cell_type": "code",
   "execution_count": 41,
   "metadata": {
    "pycharm": {
     "is_executing": true
    }
   },
   "outputs": [
    {
     "data": {
      "text/plain": [
       "<matplotlib.image.AxesImage at 0x14bf3e908>"
      ]
     },
     "execution_count": 41,
     "metadata": {},
     "output_type": "execute_result"
    },
    {
     "data": {
      "image/png": "[encoded data removed]",
      "text/plain": [
       "<Figure size 432x288 with 1 Axes>"
      ]
     },
     "metadata": {
      "needs_background": "light"
     },
     "output_type": "display_data"
    }
   ],
   "source": [
    "plt.figure()\n",
    "plt.imshow(all_images[0][:, :, 0], cmap=\"gray\")"
   ]
  },
  {
   "cell_type": "code",
   "execution_count": 42,
   "metadata": {
    "pycharm": {
     "is_executing": true
    }
   },
   "outputs": [],
   "source": [
    "train_images = []\n",
    "train_labels = []\n",
    "valid_images = []\n",
    "valid_labels = []\n",
    "\n",
    "train_indices = random.sample(range(len(all_images)), int(len(all_images) * 0.8))\n",
    "\n",
    "for i in range(len(all_images)):\n",
    "    if i in train_indices:\n",
    "        train_images.append(all_images[i])\n",
    "        train_labels.append(all_labels[i])\n",
    "    else:\n",
    "        valid_images.append(all_images[i])\n",
    "        valid_labels.append(all_labels[i])\n",
    "\n",
    "train_images = np.array(train_images)\n",
    "train_labels = np.array(train_labels)\n",
    "valid_images = np.array(valid_images)\n",
    "valid_labels = np.array(valid_labels)"
   ]
  },
  {
   "cell_type": "code",
   "execution_count": null,
   "metadata": {
    "pycharm": {
     "is_executing": true
    }
   },
   "outputs": [],
   "source": [
    "datagen = tf.keras.preprocessing.image.ImageDataGenerator(\n",
    "    rotation_range=180,\n",
    "    horizontal_flip=True,\n",
    "    vertical_flip=True,\n",
    "    width_shift_range=4,\n",
    "    height_shift_range=4)"
   ]
  },
  {
   "cell_type": "markdown",
   "metadata": {},
   "source": [
    "## Initialize Network"
   ]
  },
  {
   "cell_type": "code",
   "execution_count": null,
   "metadata": {
    "pycharm": {
     "is_executing": true
    }
   },
   "outputs": [],
   "source": [
    "model = models.Sequential()\n",
    "model.add(layers.Dense(441, input_shape=(21, 21, 1)))\n",
    "\n",
    "for i in range(2):\n",
    "    for j in [3, 2, 1]:\n",
    "        model.add(layers.Conv2D(16, j, activation=\"elu\"))\n",
    "    model.add(layers.MaxPooling2D(pool_size=(2, 2)))\n",
    "    model.add(layers.BatchNormalization())\n",
    "    \n",
    "model.add(layers.Dense(128, activation=\"elu\"))\n",
    "model.add(layers.Dropout(0.5))\n",
    "model.add(layers.Flatten())\n",
    "\n",
    "model.add(layers.Dense(2, activation=\"softmax\"))\n",
    "model.compile(optimizers.RMSprop(lr=1e-3), loss=\"categorical_crossentropy\", metrics=[\"categorical_accuracy\"])"
   ]
  },
  {
   "cell_type": "code",
   "execution_count": null,
   "metadata": {
    "pycharm": {
     "is_executing": true
    }
   },
   "outputs": [],
   "source": [
    "model.summary()"
   ]
  },
  {
   "cell_type": "code",
   "execution_count": null,
   "metadata": {
    "pycharm": {
     "is_executing": true
    }
   },
   "outputs": [],
   "source": [
    "def generate_data(train_images, train_labels, batch_size):\n",
    "    gen = datagen.flow(train_images, train_labels, batch_size=batch_size)\n",
    "    while True:\n",
    "        x, y = gen.next()\n",
    "        yield x, y"
   ]
  },
  {
   "cell_type": "code",
   "execution_count": 43,
   "metadata": {
    "pycharm": {
     "is_executing": true
    }
   },
   "outputs": [
    {
     "name": "stdout",
     "output_type": "stream",
     "text": [
      "Epoch 1/100\n",
      "1/1 [==============================] - 1s 1s/step - loss: 0.2136 - categorical_accuracy: 0.9203 - val_loss: 0.1934 - val_categorical_accuracy: 0.9423\n",
      "Epoch 2/100\n",
      "1/1 [==============================] - 1s 1s/step - loss: 0.1783 - categorical_accuracy: 0.9251 - val_loss: 0.2098 - val_categorical_accuracy: 0.9423\n",
      "Epoch 3/100\n",
      "1/1 [==============================] - 1s 1s/step - loss: 0.1722 - categorical_accuracy: 0.9396 - val_loss: 0.2076 - val_categorical_accuracy: 0.9519\n",
      "Epoch 4/100\n",
      "1/1 [==============================] - 2s 2s/step - loss: 0.1771 - categorical_accuracy: 0.9396 - val_loss: 0.2976 - val_categorical_accuracy: 0.8846\n",
      "Epoch 5/100\n",
      "1/1 [==============================] - 1s 1s/step - loss: 0.1976 - categorical_accuracy: 0.9251 - val_loss: 0.4123 - val_categorical_accuracy: 0.8269\n",
      "Epoch 6/100\n",
      "1/1 [==============================] - 1s 1s/step - loss: 0.1751 - categorical_accuracy: 0.9372 - val_loss: 0.3107 - val_categorical_accuracy: 0.8942\n",
      "Epoch 7/100\n",
      "1/1 [==============================] - 1s 1s/step - loss: 0.1750 - categorical_accuracy: 0.9348 - val_loss: 0.2645 - val_categorical_accuracy: 0.9135\n",
      "Epoch 8/100\n",
      "1/1 [==============================] - 1s 1s/step - loss: 0.1625 - categorical_accuracy: 0.9372 - val_loss: 0.3356 - val_categorical_accuracy: 0.8750\n",
      "Epoch 9/100\n",
      "1/1 [==============================] - 1s 1s/step - loss: 0.1730 - categorical_accuracy: 0.9300 - val_loss: 0.3268 - val_categorical_accuracy: 0.8942\n",
      "Epoch 10/100\n",
      "1/1 [==============================] - 1s 1s/step - loss: 0.2229 - categorical_accuracy: 0.9179 - val_loss: 0.3571 - val_categorical_accuracy: 0.8750\n",
      "Epoch 11/100\n",
      "1/1 [==============================] - 1s 1s/step - loss: 0.2103 - categorical_accuracy: 0.9130 - val_loss: 0.2431 - val_categorical_accuracy: 0.9135\n",
      "Epoch 12/100\n",
      "1/1 [==============================] - 1s 1s/step - loss: 0.1902 - categorical_accuracy: 0.9348 - val_loss: 0.2137 - val_categorical_accuracy: 0.9423\n",
      "Epoch 13/100\n",
      "1/1 [==============================] - 1s 1s/step - loss: 0.1858 - categorical_accuracy: 0.9372 - val_loss: 0.2487 - val_categorical_accuracy: 0.9135\n",
      "Epoch 14/100\n",
      "1/1 [==============================] - 1s 1s/step - loss: 0.1816 - categorical_accuracy: 0.9324 - val_loss: 0.2014 - val_categorical_accuracy: 0.9231\n",
      "Epoch 15/100\n",
      "1/1 [==============================] - 1s 1s/step - loss: 0.1683 - categorical_accuracy: 0.9203 - val_loss: 0.1997 - val_categorical_accuracy: 0.9231\n",
      "Epoch 16/100\n",
      "1/1 [==============================] - 1s 1s/step - loss: 0.1921 - categorical_accuracy: 0.9324 - val_loss: 0.2257 - val_categorical_accuracy: 0.9135\n",
      "Epoch 17/100\n",
      "1/1 [==============================] - 1s 1s/step - loss: 0.1649 - categorical_accuracy: 0.9275 - val_loss: 0.2006 - val_categorical_accuracy: 0.9327\n",
      "Epoch 18/100\n",
      "1/1 [==============================] - 1s 1s/step - loss: 0.2037 - categorical_accuracy: 0.9251 - val_loss: 0.1967 - val_categorical_accuracy: 0.9423\n",
      "Epoch 19/100\n",
      "1/1 [==============================] - 1s 1s/step - loss: 0.1879 - categorical_accuracy: 0.9444 - val_loss: 0.2142 - val_categorical_accuracy: 0.9327\n",
      "Epoch 20/100\n",
      "1/1 [==============================] - 1s 1s/step - loss: 0.1742 - categorical_accuracy: 0.9493 - val_loss: 0.2093 - val_categorical_accuracy: 0.9327\n",
      "Epoch 21/100\n",
      "1/1 [==============================] - 1s 1s/step - loss: 0.1672 - categorical_accuracy: 0.9275 - val_loss: 0.2390 - val_categorical_accuracy: 0.9038\n",
      "Epoch 22/100\n",
      "1/1 [==============================] - 1s 1s/step - loss: 0.1831 - categorical_accuracy: 0.9420 - val_loss: 0.2465 - val_categorical_accuracy: 0.9231\n",
      "Epoch 23/100\n",
      "1/1 [==============================] - 1s 1s/step - loss: 0.1747 - categorical_accuracy: 0.9300 - val_loss: 0.2006 - val_categorical_accuracy: 0.9327\n",
      "Epoch 24/100\n",
      "1/1 [==============================] - 1s 1s/step - loss: 0.1589 - categorical_accuracy: 0.9469 - val_loss: 0.2063 - val_categorical_accuracy: 0.9135\n",
      "Epoch 25/100\n",
      "1/1 [==============================] - 1s 1s/step - loss: 0.1849 - categorical_accuracy: 0.9300 - val_loss: 0.1857 - val_categorical_accuracy: 0.9423\n",
      "Epoch 26/100\n",
      "1/1 [==============================] - 2s 2s/step - loss: 0.1672 - categorical_accuracy: 0.9396 - val_loss: 0.2187 - val_categorical_accuracy: 0.9231\n",
      "Epoch 27/100\n",
      "1/1 [==============================] - 2s 2s/step - loss: 0.1654 - categorical_accuracy: 0.9444 - val_loss: 0.1855 - val_categorical_accuracy: 0.9423\n",
      "Epoch 28/100\n",
      "1/1 [==============================] - 2s 2s/step - loss: 0.1827 - categorical_accuracy: 0.9348 - val_loss: 0.1627 - val_categorical_accuracy: 0.9423\n",
      "Epoch 29/100\n",
      "1/1 [==============================] - 1s 1s/step - loss: 0.1626 - categorical_accuracy: 0.9348 - val_loss: 0.1543 - val_categorical_accuracy: 0.9519\n",
      "Epoch 30/100\n",
      "1/1 [==============================] - 1s 1s/step - loss: 0.1935 - categorical_accuracy: 0.9324 - val_loss: 0.1504 - val_categorical_accuracy: 0.9423\n",
      "Epoch 31/100\n",
      "1/1 [==============================] - 1s 1s/step - loss: 0.1775 - categorical_accuracy: 0.9372 - val_loss: 0.1530 - val_categorical_accuracy: 0.9327\n",
      "Epoch 32/100\n",
      "1/1 [==============================] - 1s 1s/step - loss: 0.1804 - categorical_accuracy: 0.9275 - val_loss: 0.1688 - val_categorical_accuracy: 0.9327\n",
      "Epoch 33/100\n",
      "1/1 [==============================] - 1s 1s/step - loss: 0.1928 - categorical_accuracy: 0.9300 - val_loss: 0.1949 - val_categorical_accuracy: 0.9327\n",
      "Epoch 34/100\n",
      "1/1 [==============================] - 1s 1s/step - loss: 0.2125 - categorical_accuracy: 0.9155 - val_loss: 0.1821 - val_categorical_accuracy: 0.9231\n",
      "Epoch 35/100\n",
      "1/1 [==============================] - 1s 1s/step - loss: 0.1704 - categorical_accuracy: 0.9348 - val_loss: 0.2065 - val_categorical_accuracy: 0.9135\n",
      "Epoch 36/100\n",
      "1/1 [==============================] - 1s 1s/step - loss: 0.1794 - categorical_accuracy: 0.9372 - val_loss: 0.1932 - val_categorical_accuracy: 0.9423\n",
      "Epoch 37/100\n",
      "1/1 [==============================] - 1s 1s/step - loss: 0.1927 - categorical_accuracy: 0.9372 - val_loss: 0.3922 - val_categorical_accuracy: 0.8462\n",
      "Epoch 38/100\n",
      "1/1 [==============================] - 1s 1s/step - loss: 0.2111 - categorical_accuracy: 0.9155 - val_loss: 0.2155 - val_categorical_accuracy: 0.9135\n",
      "Epoch 39/100\n",
      "1/1 [==============================] - 1s 1s/step - loss: 0.2083 - categorical_accuracy: 0.9203 - val_loss: 0.3977 - val_categorical_accuracy: 0.8462\n",
      "Epoch 40/100\n",
      "1/1 [==============================] - 1s 1s/step - loss: 0.1925 - categorical_accuracy: 0.9130 - val_loss: 0.3247 - val_categorical_accuracy: 0.8462\n",
      "Epoch 41/100\n",
      "1/1 [==============================] - 1s 1s/step - loss: 0.2141 - categorical_accuracy: 0.9130 - val_loss: 0.1984 - val_categorical_accuracy: 0.9231\n",
      "Epoch 42/100\n",
      "1/1 [==============================] - 1s 1s/step - loss: 0.2331 - categorical_accuracy: 0.9034 - val_loss: 0.3263 - val_categorical_accuracy: 0.8750\n",
      "Epoch 43/100\n",
      "1/1 [==============================] - 1s 1s/step - loss: 0.1927 - categorical_accuracy: 0.9203 - val_loss: 0.2152 - val_categorical_accuracy: 0.9135\n",
      "Epoch 44/100\n",
      "1/1 [==============================] - 1s 1s/step - loss: 0.2063 - categorical_accuracy: 0.9348 - val_loss: 0.2127 - val_categorical_accuracy: 0.9038\n",
      "Epoch 45/100\n",
      "1/1 [==============================] - 1s 1s/step - loss: 0.1802 - categorical_accuracy: 0.9227 - val_loss: 0.2068 - val_categorical_accuracy: 0.9231\n",
      "Epoch 46/100\n",
      "1/1 [==============================] - 1s 1s/step - loss: 0.1600 - categorical_accuracy: 0.9444 - val_loss: 0.3063 - val_categorical_accuracy: 0.8846\n",
      "Epoch 47/100\n",
      "1/1 [==============================] - 1s 1s/step - loss: 0.1541 - categorical_accuracy: 0.9396 - val_loss: 0.1891 - val_categorical_accuracy: 0.9423\n",
      "Epoch 48/100\n",
      "1/1 [==============================] - 1s 1s/step - loss: 0.1786 - categorical_accuracy: 0.9275 - val_loss: 0.2653 - val_categorical_accuracy: 0.9135\n",
      "Epoch 49/100\n",
      "1/1 [==============================] - 1s 1s/step - loss: 0.1528 - categorical_accuracy: 0.9275 - val_loss: 0.2243 - val_categorical_accuracy: 0.9135\n",
      "Epoch 50/100\n",
      "1/1 [==============================] - 1s 1s/step - loss: 0.1404 - categorical_accuracy: 0.9517 - val_loss: 0.4524 - val_categorical_accuracy: 0.8462\n",
      "Epoch 51/100\n",
      "1/1 [==============================] - 1s 1s/step - loss: 0.1841 - categorical_accuracy: 0.9300 - val_loss: 0.1795 - val_categorical_accuracy: 0.9135\n"
     ]
    },
    {
     "name": "stdout",
     "output_type": "stream",
     "text": [
      "Epoch 52/100\n",
      "1/1 [==============================] - 1s 1s/step - loss: 0.1959 - categorical_accuracy: 0.9348 - val_loss: 0.1840 - val_categorical_accuracy: 0.9231\n",
      "Epoch 53/100\n",
      "1/1 [==============================] - 1s 1s/step - loss: 0.2145 - categorical_accuracy: 0.9251 - val_loss: 0.1776 - val_categorical_accuracy: 0.9231\n",
      "Epoch 54/100\n",
      "1/1 [==============================] - 1s 1s/step - loss: 0.1947 - categorical_accuracy: 0.9227 - val_loss: 0.2234 - val_categorical_accuracy: 0.9231\n",
      "Epoch 55/100\n",
      "1/1 [==============================] - 1s 1s/step - loss: 0.2022 - categorical_accuracy: 0.9300 - val_loss: 0.2678 - val_categorical_accuracy: 0.8942\n",
      "Epoch 56/100\n",
      "1/1 [==============================] - 1s 1s/step - loss: 0.2032 - categorical_accuracy: 0.9275 - val_loss: 0.3125 - val_categorical_accuracy: 0.8654\n",
      "Epoch 57/100\n",
      "1/1 [==============================] - 1s 1s/step - loss: 0.1661 - categorical_accuracy: 0.9444 - val_loss: 0.2509 - val_categorical_accuracy: 0.9038\n",
      "Epoch 58/100\n",
      "1/1 [==============================] - 1s 1s/step - loss: 0.1844 - categorical_accuracy: 0.9203 - val_loss: 0.2857 - val_categorical_accuracy: 0.8846\n",
      "Epoch 59/100\n",
      "1/1 [==============================] - 1s 1s/step - loss: 0.1711 - categorical_accuracy: 0.9396 - val_loss: 0.3126 - val_categorical_accuracy: 0.8654\n",
      "Epoch 60/100\n",
      "1/1 [==============================] - 1s 1s/step - loss: 0.1698 - categorical_accuracy: 0.9324 - val_loss: 0.2600 - val_categorical_accuracy: 0.9038\n",
      "Epoch 61/100\n",
      "1/1 [==============================] - 1s 1s/step - loss: 0.1758 - categorical_accuracy: 0.9469 - val_loss: 0.2700 - val_categorical_accuracy: 0.8846\n",
      "Epoch 62/100\n",
      "1/1 [==============================] - 1s 1s/step - loss: 0.1792 - categorical_accuracy: 0.9444 - val_loss: 0.2712 - val_categorical_accuracy: 0.8750\n",
      "Epoch 63/100\n",
      "1/1 [==============================] - 1s 1s/step - loss: 0.1786 - categorical_accuracy: 0.9275 - val_loss: 0.3943 - val_categorical_accuracy: 0.8269\n",
      "Epoch 64/100\n",
      "1/1 [==============================] - 1s 1s/step - loss: 0.1992 - categorical_accuracy: 0.9300 - val_loss: 0.5131 - val_categorical_accuracy: 0.7981\n",
      "Epoch 65/100\n",
      "1/1 [==============================] - 1s 1s/step - loss: 0.2228 - categorical_accuracy: 0.9179 - val_loss: 0.2730 - val_categorical_accuracy: 0.8846\n",
      "Epoch 66/100\n",
      "1/1 [==============================] - 1s 1s/step - loss: 0.1723 - categorical_accuracy: 0.9300 - val_loss: 0.4318 - val_categorical_accuracy: 0.8558\n",
      "Epoch 67/100\n",
      "1/1 [==============================] - 1s 1s/step - loss: 0.1690 - categorical_accuracy: 0.9396 - val_loss: 0.3755 - val_categorical_accuracy: 0.8269\n",
      "Epoch 68/100\n",
      "1/1 [==============================] - 1s 1s/step - loss: 0.1702 - categorical_accuracy: 0.9203 - val_loss: 0.3336 - val_categorical_accuracy: 0.8846\n",
      "Epoch 69/100\n",
      "1/1 [==============================] - 1s 1s/step - loss: 0.1800 - categorical_accuracy: 0.9420 - val_loss: 0.4381 - val_categorical_accuracy: 0.8558\n",
      "Epoch 70/100\n",
      "1/1 [==============================] - 1s 1s/step - loss: 0.1773 - categorical_accuracy: 0.9251 - val_loss: 0.4783 - val_categorical_accuracy: 0.8365\n",
      "Epoch 71/100\n",
      "1/1 [==============================] - 1s 1s/step - loss: 0.1756 - categorical_accuracy: 0.9324 - val_loss: 0.3948 - val_categorical_accuracy: 0.8462\n",
      "Epoch 72/100\n",
      "1/1 [==============================] - 1s 1s/step - loss: 0.1684 - categorical_accuracy: 0.9420 - val_loss: 0.4214 - val_categorical_accuracy: 0.8654\n",
      "Epoch 73/100\n",
      "1/1 [==============================] - 1s 1s/step - loss: 0.2369 - categorical_accuracy: 0.9179 - val_loss: 0.3323 - val_categorical_accuracy: 0.8462\n",
      "Epoch 74/100\n",
      "1/1 [==============================] - 1s 1s/step - loss: 0.1836 - categorical_accuracy: 0.9227 - val_loss: 0.4227 - val_categorical_accuracy: 0.8462\n",
      "Epoch 75/100\n",
      "1/1 [==============================] - 1s 1s/step - loss: 0.1971 - categorical_accuracy: 0.9396 - val_loss: 0.4941 - val_categorical_accuracy: 0.8077\n",
      "Epoch 76/100\n",
      "1/1 [==============================] - 1s 1s/step - loss: 0.1778 - categorical_accuracy: 0.9300 - val_loss: 0.3099 - val_categorical_accuracy: 0.8654\n",
      "Epoch 77/100\n",
      "1/1 [==============================] - 1s 1s/step - loss: 0.1794 - categorical_accuracy: 0.9275 - val_loss: 0.3021 - val_categorical_accuracy: 0.8750\n",
      "Epoch 78/100\n",
      "1/1 [==============================] - 1s 1s/step - loss: 0.1722 - categorical_accuracy: 0.9300 - val_loss: 0.3652 - val_categorical_accuracy: 0.8462\n",
      "Epoch 79/100\n",
      "1/1 [==============================] - 1s 1s/step - loss: 0.1958 - categorical_accuracy: 0.9203 - val_loss: 0.1942 - val_categorical_accuracy: 0.9327\n",
      "Epoch 80/100\n",
      "1/1 [==============================] - 1s 1s/step - loss: 0.1793 - categorical_accuracy: 0.9348 - val_loss: 0.2418 - val_categorical_accuracy: 0.9135\n",
      "Epoch 81/100\n",
      "1/1 [==============================] - 1s 1s/step - loss: 0.1576 - categorical_accuracy: 0.9372 - val_loss: 0.3146 - val_categorical_accuracy: 0.8654\n",
      "Epoch 82/100\n",
      "1/1 [==============================] - 1s 1s/step - loss: 0.2151 - categorical_accuracy: 0.9372 - val_loss: 0.2150 - val_categorical_accuracy: 0.9135\n",
      "Epoch 83/100\n",
      "1/1 [==============================] - 1s 1s/step - loss: 0.1522 - categorical_accuracy: 0.9396 - val_loss: 0.2273 - val_categorical_accuracy: 0.9038\n",
      "Epoch 84/100\n",
      "1/1 [==============================] - 1s 1s/step - loss: 0.1735 - categorical_accuracy: 0.9493 - val_loss: 0.2462 - val_categorical_accuracy: 0.8942\n",
      "Epoch 85/100\n",
      "1/1 [==============================] - 1s 1s/step - loss: 0.1940 - categorical_accuracy: 0.9227 - val_loss: 0.2309 - val_categorical_accuracy: 0.9038\n",
      "Epoch 86/100\n",
      "1/1 [==============================] - 1s 1s/step - loss: 0.1595 - categorical_accuracy: 0.9372 - val_loss: 0.1809 - val_categorical_accuracy: 0.9135\n",
      "Epoch 87/100\n",
      "1/1 [==============================] - 1s 1s/step - loss: 0.1891 - categorical_accuracy: 0.9300 - val_loss: 0.1802 - val_categorical_accuracy: 0.9135\n",
      "Epoch 88/100\n",
      "1/1 [==============================] - 1s 1s/step - loss: 0.1574 - categorical_accuracy: 0.9396 - val_loss: 0.1681 - val_categorical_accuracy: 0.9327\n",
      "Epoch 89/100\n",
      "1/1 [==============================] - 1s 1s/step - loss: 0.1681 - categorical_accuracy: 0.9493 - val_loss: 0.1791 - val_categorical_accuracy: 0.9135\n",
      "Epoch 90/100\n",
      "1/1 [==============================] - 1s 1s/step - loss: 0.1726 - categorical_accuracy: 0.9324 - val_loss: 0.1934 - val_categorical_accuracy: 0.9231\n",
      "Epoch 91/100\n",
      "1/1 [==============================] - 1s 1s/step - loss: 0.1959 - categorical_accuracy: 0.9420 - val_loss: 0.2449 - val_categorical_accuracy: 0.9135\n",
      "Epoch 92/100\n",
      "1/1 [==============================] - 1s 1s/step - loss: 0.1786 - categorical_accuracy: 0.9324 - val_loss: 0.1907 - val_categorical_accuracy: 0.9135\n",
      "Epoch 93/100\n",
      "1/1 [==============================] - 1s 1s/step - loss: 0.2075 - categorical_accuracy: 0.9300 - val_loss: 0.1688 - val_categorical_accuracy: 0.9327\n",
      "Epoch 94/100\n",
      "1/1 [==============================] - 1s 1s/step - loss: 0.1931 - categorical_accuracy: 0.9251 - val_loss: 0.1810 - val_categorical_accuracy: 0.9231\n",
      "Epoch 95/100\n",
      "1/1 [==============================] - 1s 1s/step - loss: 0.1439 - categorical_accuracy: 0.9396 - val_loss: 0.1926 - val_categorical_accuracy: 0.9423\n",
      "Epoch 96/100\n",
      "1/1 [==============================] - 2s 2s/step - loss: 0.1912 - categorical_accuracy: 0.9300 - val_loss: 0.1603 - val_categorical_accuracy: 0.9519\n",
      "Epoch 97/100\n",
      "1/1 [==============================] - 1s 1s/step - loss: 0.1552 - categorical_accuracy: 0.9324 - val_loss: 0.3192 - val_categorical_accuracy: 0.9135\n",
      "Epoch 98/100\n",
      "1/1 [==============================] - 1s 1s/step - loss: 0.2074 - categorical_accuracy: 0.9251 - val_loss: 0.1885 - val_categorical_accuracy: 0.9135\n",
      "Epoch 99/100\n",
      "1/1 [==============================] - 1s 1s/step - loss: 0.1728 - categorical_accuracy: 0.9372 - val_loss: 0.1804 - val_categorical_accuracy: 0.9231\n",
      "Epoch 100/100\n",
      "1/1 [==============================] - 1s 1s/step - loss: 0.1680 - categorical_accuracy: 0.9469 - val_loss: 0.2021 - val_categorical_accuracy: 0.9231\n"
     ]
    }
   ],
   "source": [
    "batch_size = train_images.shape[0]\n",
    "epochs = 100\n",
    "\n",
    "history = model.fit_generator(generate_data(train_images, train_labels, batch_size=batch_size),\n",
    "                              steps_per_epoch=train_images.shape[0] / batch_size,\n",
    "                              epochs=epochs, validation_data = (valid_images, valid_labels))"
   ]
  },
  {
   "cell_type": "code",
   "execution_count": 44,
   "metadata": {
    "pycharm": {
     "is_executing": true
    }
   },
   "outputs": [],
   "source": [
    "model_json = model.to_json()\n",
    "with open(\"lattice_points_model.json\", \"w\") as json_file:\n",
    "    json_file.write(model_json)\n",
    "model.save_weights(\"lattice_points_model.h5\")"
   ]
  },
  {
   "cell_type": "code",
   "execution_count": null,
   "metadata": {
    "pycharm": {
     "is_executing": true
    }
   },
   "outputs": [],
   "source": []
  }
 ],
 "metadata": {
  "kernelspec": {
   "display_name": "Python 3",
   "language": "python",
   "name": "python3"
  },
  "pycharm": {
   "stem_cell": {
    "cell_type": "raw",
    "metadata": {
     "collapsed": false
    },
    "source": []
   }
  }
 },
 "nbformat": 4,
 "nbformat_minor": 1
}
