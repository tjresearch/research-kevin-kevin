{
 "cells": [
  {
   "cell_type": "code",
   "execution_count": 2,
   "metadata": {
    "pycharm": {
     "is_executing": true,
     "name": "#%%\n"
    }
   },
   "outputs": [],
   "source": [
    "import tensorflow as tf\n",
    "import os\n",
    "import cv2\n",
    "import random\n",
    "import numpy as np\n",
    "from tensorflow.keras import optimizers, layers, models\n",
    "from matplotlib import pyplot as plt"
   ]
  },
  {
   "cell_type": "markdown",
   "metadata": {},
   "source": [
    "## Data Prep"
   ]
  },
  {
   "cell_type": "code",
   "execution_count": 32,
   "metadata": {
    "pycharm": {
     "is_executing": false
    }
   },
   "outputs": [],
   "source": [
    "image_dir = \"images/lattice_points\"\n",
    "train_files = [[], []]\n",
    "\n",
    "for file in os.listdir(os.path.join(image_dir, \"no\")):\n",
    "    if file.endswith(\".jpg\"):\n",
    "        train_files[0].append(os.path.join(image_dir, \"no\", file))\n",
    "\n",
    "for file in os.listdir(os.path.join(image_dir, \"yes\")):\n",
    "    if file.endswith(\".jpg\"):\n",
    "        train_files[1].append(os.path.join(image_dir, \"yes\", file))"
   ]
  },
  {
   "cell_type": "code",
   "execution_count": 33,
   "metadata": {
    "pycharm": {
     "is_executing": false
    }
   },
   "outputs": [],
   "source": [
    "all_images = []\n",
    "all_labels = []\n",
    "\n",
    "for i in range(2):\n",
    "    for file in train_files[i]:\n",
    "        img = cv2.imread(file, cv2.IMREAD_GRAYSCALE)\n",
    "        \n",
    "        img = cv2.threshold(img, 0, 255, cv2.THRESH_OTSU)[1]\n",
    "        img = cv2.Canny(img, 0, 255)\n",
    "        \n",
    "        img = img.astype(np.float32) / 255.0\n",
    "        \n",
    "        all_images.append(img)\n",
    "        \n",
    "        label = [0, 0]\n",
    "        label[i] = 1\n",
    "        all_labels.append(label)\n",
    "\n",
    "all_images = np.array(all_images)[..., np.newaxis]\n",
    "all_labels = np.array(all_labels)"
   ]
  },
  {
   "cell_type": "code",
   "execution_count": 34,
   "metadata": {
    "pycharm": {
     "is_executing": false
    }
   },
   "outputs": [
    {
     "name": "stdout",
     "output_type": "stream",
     "text": [
      "(1705, 21, 21, 1) (1705, 2)\n",
      "1.0\n",
      "[1 0]\n"
     ]
    }
   ],
   "source": [
    "print(all_images.shape, all_labels.shape)\n",
    "print(all_images.max())\n",
    "print(all_labels[0])"
   ]
  },
  {
   "cell_type": "code",
   "execution_count": 35,
   "metadata": {
    "pycharm": {
     "is_executing": false
    }
   },
   "outputs": [
    {
     "name": "stdout",
     "output_type": "stream",
     "text": [
      "[0 1]\n"
     ]
    },
    {
     "data": {
      "image/png": "[encoded data removed]",
      "text/plain": [
       "<Figure size 432x288 with 1 Axes>"
      ]
     },
     "metadata": {
      "needs_background": "light"
     },
     "output_type": "display_data"
    }
   ],
   "source": [
    "plt.figure()\n",
    "plt.imshow(all_images[-1][:, :, 0], cmap=\"gray\")\n",
    "print(all_labels[-1])"
   ]
  },
  {
   "cell_type": "code",
   "execution_count": 36,
   "metadata": {
    "pycharm": {
     "is_executing": false
    }
   },
   "outputs": [],
   "source": [
    "train_images = []\n",
    "train_labels = []\n",
    "valid_images = []\n",
    "valid_labels = []\n",
    "\n",
    "train_indices = random.sample(range(len(all_images)), int(len(all_images) * 0.8))\n",
    "\n",
    "for i in range(len(all_images)):\n",
    "    if i in train_indices:\n",
    "        train_images.append(all_images[i])\n",
    "        train_labels.append(all_labels[i])\n",
    "    else:\n",
    "        valid_images.append(all_images[i])\n",
    "        valid_labels.append(all_labels[i])\n",
    "\n",
    "train_images = np.array(train_images)\n",
    "train_labels = np.array(train_labels)\n",
    "valid_images = np.array(valid_images)\n",
    "valid_labels = np.array(valid_labels)"
   ]
  },
  {
   "cell_type": "code",
   "execution_count": 29,
   "metadata": {
    "pycharm": {
     "is_executing": false
    }
   },
   "outputs": [],
   "source": [
    "datagen = tf.keras.preprocessing.image.ImageDataGenerator(\n",
    "    rotation_range=180,\n",
    "    horizontal_flip=True,\n",
    "    vertical_flip=True,\n",
    "    width_shift_range=4,\n",
    "    height_shift_range=4)"
   ]
  },
  {
   "cell_type": "markdown",
   "metadata": {},
   "source": [
    "## Initialize Network"
   ]
  },
  {
   "cell_type": "code",
   "execution_count": 9,
   "metadata": {
    "pycharm": {
     "is_executing": false
    }
   },
   "outputs": [],
   "source": [
    "model = models.Sequential()\n",
    "model.add(layers.Dense(441, input_shape=(21, 21, 1)))\n",
    "\n",
    "for i in range(2):\n",
    "    for j in [3, 2, 1]:\n",
    "        model.add(layers.Conv2D(16, j, activation=\"elu\"))\n",
    "    model.add(layers.MaxPooling2D(pool_size=(2, 2)))\n",
    "    model.add(layers.BatchNormalization())\n",
    "    \n",
    "model.add(layers.Dense(128, activation=\"elu\"))\n",
    "model.add(layers.Dropout(0.5))\n",
    "model.add(layers.Flatten())\n",
    "\n",
    "model.add(layers.Dense(2, activation=\"softmax\"))\n",
    "model.compile(optimizers.RMSprop(lr=1e-3), loss=\"categorical_crossentropy\", metrics=[\"categorical_accuracy\"])"
   ]
  },
  {
   "cell_type": "code",
   "execution_count": 10,
   "metadata": {
    "pycharm": {
     "is_executing": false
    }
   },
   "outputs": [
    {
     "name": "stdout",
     "output_type": "stream",
     "text": [
      "Model: \"sequential\"\n",
      "_________________________________________________________________\n",
      "Layer (type)                 Output Shape              Param #   \n",
      "=================================================================\n",
      "dense (Dense)                (None, 21, 21, 441)       882       \n",
      "_________________________________________________________________\n",
      "conv2d (Conv2D)              (None, 19, 19, 16)        63520     \n",
      "_________________________________________________________________\n",
      "conv2d_1 (Conv2D)            (None, 18, 18, 16)        1040      \n",
      "_________________________________________________________________\n",
      "conv2d_2 (Conv2D)            (None, 18, 18, 16)        272       \n",
      "_________________________________________________________________\n",
      "max_pooling2d (MaxPooling2D) (None, 9, 9, 16)          0         \n",
      "_________________________________________________________________\n",
      "batch_normalization (BatchNo (None, 9, 9, 16)          64        \n",
      "_________________________________________________________________\n",
      "conv2d_3 (Conv2D)            (None, 7, 7, 16)          2320      \n",
      "_________________________________________________________________\n",
      "conv2d_4 (Conv2D)            (None, 6, 6, 16)          1040      \n",
      "_________________________________________________________________\n",
      "conv2d_5 (Conv2D)            (None, 6, 6, 16)          272       \n",
      "_________________________________________________________________\n",
      "max_pooling2d_1 (MaxPooling2 (None, 3, 3, 16)          0         \n",
      "_________________________________________________________________\n",
      "batch_normalization_1 (Batch (None, 3, 3, 16)          64        \n",
      "_________________________________________________________________\n",
      "dense_1 (Dense)              (None, 3, 3, 128)         2176      \n",
      "_________________________________________________________________\n",
      "dropout (Dropout)            (None, 3, 3, 128)         0         \n",
      "_________________________________________________________________\n",
      "flatten (Flatten)            (None, 1152)              0         \n",
      "_________________________________________________________________\n",
      "dense_2 (Dense)              (None, 2)                 2306      \n",
      "=================================================================\n",
      "Total params: 73,956\n",
      "Trainable params: 73,892\n",
      "Non-trainable params: 64\n",
      "_________________________________________________________________\n"
     ]
    }
   ],
   "source": [
    "model.summary()"
   ]
  },
  {
   "cell_type": "code",
   "execution_count": 11,
   "metadata": {
    "pycharm": {
     "is_executing": false
    }
   },
   "outputs": [],
   "source": [
    "def generate_data(train_images, train_labels, batch_size):\n",
    "    gen = datagen.flow(train_images, train_labels, batch_size=batch_size)\n",
    "    while True:\n",
    "        x, y = gen.next()\n",
    "        yield x, y"
   ]
  },
  {
   "cell_type": "code",
   "execution_count": 37,
   "metadata": {
    "pycharm": {
     "is_executing": false
    }
   },
   "outputs": [
    {
     "name": "stderr",
     "output_type": "stream",
     "text": [
      "W0221 10:05:03.084436 4522188224 data_adapter.py:1091] sample_weight modes were coerced from\n",
      "  ...\n",
      "    to  \n",
      "  ['...']\n"
     ]
    },
    {
     "name": "stdout",
     "output_type": "stream",
     "text": [
      "Train for 27 steps, validate on 341 samples\n",
      "Epoch 1/100\n",
      "27/27 [==============================] - 5s 190ms/step - loss: 0.1191 - categorical_accuracy: 0.9652 - val_loss: 0.0373 - val_categorical_accuracy: 0.9941\n",
      "Epoch 2/100\n",
      "27/27 [==============================] - 5s 170ms/step - loss: 0.1077 - categorical_accuracy: 0.9673 - val_loss: 0.0551 - val_categorical_accuracy: 0.9795\n",
      "Epoch 3/100\n",
      "27/27 [==============================] - 4s 161ms/step - loss: 0.1407 - categorical_accuracy: 0.9673 - val_loss: 0.0376 - val_categorical_accuracy: 0.9883\n",
      "Epoch 4/100\n",
      "27/27 [==============================] - 4s 160ms/step - loss: 0.1175 - categorical_accuracy: 0.9696 - val_loss: 0.0329 - val_categorical_accuracy: 0.9941\n",
      "Epoch 5/100\n",
      "27/27 [==============================] - 4s 159ms/step - loss: 0.1162 - categorical_accuracy: 0.9658 - val_loss: 0.0375 - val_categorical_accuracy: 0.9912\n",
      "Epoch 6/100\n",
      "27/27 [==============================] - 4s 159ms/step - loss: 0.1216 - categorical_accuracy: 0.9635 - val_loss: 0.0394 - val_categorical_accuracy: 0.9883\n",
      "Epoch 7/100\n",
      "27/27 [==============================] - 4s 165ms/step - loss: 0.1143 - categorical_accuracy: 0.9627 - val_loss: 0.0520 - val_categorical_accuracy: 0.9883\n",
      "Epoch 8/100\n",
      "27/27 [==============================] - 4s 154ms/step - loss: 0.1239 - categorical_accuracy: 0.9635 - val_loss: 0.0493 - val_categorical_accuracy: 0.9853\n",
      "Epoch 9/100\n",
      "27/27 [==============================] - 4s 159ms/step - loss: 0.1237 - categorical_accuracy: 0.9658 - val_loss: 0.0350 - val_categorical_accuracy: 0.9912\n",
      "Epoch 10/100\n",
      "27/27 [==============================] - 4s 164ms/step - loss: 0.1371 - categorical_accuracy: 0.9642 - val_loss: 0.0313 - val_categorical_accuracy: 0.9912\n",
      "Epoch 11/100\n",
      "27/27 [==============================] - 4s 163ms/step - loss: 0.1392 - categorical_accuracy: 0.9551 - val_loss: 0.0323 - val_categorical_accuracy: 0.9883\n",
      "Epoch 12/100\n",
      "27/27 [==============================] - 4s 163ms/step - loss: 0.1059 - categorical_accuracy: 0.9665 - val_loss: 0.0300 - val_categorical_accuracy: 0.9941\n",
      "Epoch 13/100\n",
      "27/27 [==============================] - 5s 173ms/step - loss: 0.1206 - categorical_accuracy: 0.9680 - val_loss: 0.0449 - val_categorical_accuracy: 0.9853\n",
      "Epoch 14/100\n",
      "27/27 [==============================] - 5s 179ms/step - loss: 0.1205 - categorical_accuracy: 0.9619 - val_loss: 0.0379 - val_categorical_accuracy: 0.9912\n",
      "Epoch 15/100\n",
      "27/27 [==============================] - 4s 155ms/step - loss: 0.1198 - categorical_accuracy: 0.9680 - val_loss: 0.0323 - val_categorical_accuracy: 0.9941\n",
      "Epoch 16/100\n",
      "27/27 [==============================] - 4s 157ms/step - loss: 0.1041 - categorical_accuracy: 0.9658 - val_loss: 0.0393 - val_categorical_accuracy: 0.9941\n",
      "Epoch 17/100\n",
      "27/27 [==============================] - 4s 160ms/step - loss: 0.1072 - categorical_accuracy: 0.9665 - val_loss: 0.0312 - val_categorical_accuracy: 0.9883\n",
      "Epoch 18/100\n",
      "27/27 [==============================] - 4s 156ms/step - loss: 0.1210 - categorical_accuracy: 0.9658 - val_loss: 0.0367 - val_categorical_accuracy: 0.9941\n",
      "Epoch 19/100\n",
      "27/27 [==============================] - 4s 157ms/step - loss: 0.1359 - categorical_accuracy: 0.9696 - val_loss: 0.0374 - val_categorical_accuracy: 0.9853\n",
      "Epoch 20/100\n",
      "27/27 [==============================] - 4s 157ms/step - loss: 0.1269 - categorical_accuracy: 0.9619 - val_loss: 0.0377 - val_categorical_accuracy: 0.9883\n",
      "Epoch 21/100\n",
      "27/27 [==============================] - 4s 158ms/step - loss: 0.1211 - categorical_accuracy: 0.9696 - val_loss: 0.0371 - val_categorical_accuracy: 0.9912\n",
      "Epoch 22/100\n",
      "27/27 [==============================] - 4s 158ms/step - loss: 0.1381 - categorical_accuracy: 0.9604 - val_loss: 0.0374 - val_categorical_accuracy: 0.9941\n",
      "Epoch 23/100\n",
      "27/27 [==============================] - 4s 160ms/step - loss: 0.1114 - categorical_accuracy: 0.9688 - val_loss: 0.0404 - val_categorical_accuracy: 0.9912\n",
      "Epoch 24/100\n",
      "27/27 [==============================] - 4s 159ms/step - loss: 0.1198 - categorical_accuracy: 0.9642 - val_loss: 0.0226 - val_categorical_accuracy: 0.9941\n",
      "Epoch 25/100\n",
      "27/27 [==============================] - 4s 159ms/step - loss: 0.1096 - categorical_accuracy: 0.9688 - val_loss: 0.0290 - val_categorical_accuracy: 0.9941\n",
      "Epoch 26/100\n",
      "27/27 [==============================] - 4s 159ms/step - loss: 0.1171 - categorical_accuracy: 0.9658 - val_loss: 0.0357 - val_categorical_accuracy: 0.9912\n",
      "Epoch 27/100\n",
      "27/27 [==============================] - 4s 158ms/step - loss: 0.1130 - categorical_accuracy: 0.9642 - val_loss: 0.0310 - val_categorical_accuracy: 0.9883\n",
      "Epoch 28/100\n",
      "27/27 [==============================] - 4s 159ms/step - loss: 0.1132 - categorical_accuracy: 0.9665 - val_loss: 0.0388 - val_categorical_accuracy: 0.9853\n",
      "Epoch 29/100\n",
      "27/27 [==============================] - 4s 161ms/step - loss: 0.1148 - categorical_accuracy: 0.9630 - val_loss: 0.0394 - val_categorical_accuracy: 0.9912\n",
      "Epoch 30/100\n",
      "27/27 [==============================] - 4s 158ms/step - loss: 0.1253 - categorical_accuracy: 0.9658 - val_loss: 0.0407 - val_categorical_accuracy: 0.9912\n",
      "Epoch 31/100\n",
      "27/27 [==============================] - 4s 159ms/step - loss: 0.1096 - categorical_accuracy: 0.9665 - val_loss: 0.0460 - val_categorical_accuracy: 0.9912\n",
      "Epoch 32/100\n",
      "27/27 [==============================] - 4s 158ms/step - loss: 0.1427 - categorical_accuracy: 0.9642 - val_loss: 0.0356 - val_categorical_accuracy: 0.9912\n",
      "Epoch 33/100\n",
      "27/27 [==============================] - 4s 158ms/step - loss: 0.1281 - categorical_accuracy: 0.9635 - val_loss: 0.0412 - val_categorical_accuracy: 0.9883\n",
      "Epoch 34/100\n",
      "27/27 [==============================] - 4s 158ms/step - loss: 0.1074 - categorical_accuracy: 0.9711 - val_loss: 0.0422 - val_categorical_accuracy: 0.9883\n",
      "Epoch 35/100\n",
      "27/27 [==============================] - 4s 157ms/step - loss: 0.1257 - categorical_accuracy: 0.9665 - val_loss: 0.0482 - val_categorical_accuracy: 0.9883\n",
      "Epoch 36/100\n",
      "27/27 [==============================] - 4s 157ms/step - loss: 0.1125 - categorical_accuracy: 0.9665 - val_loss: 0.0506 - val_categorical_accuracy: 0.9883\n",
      "Epoch 37/100\n",
      "27/27 [==============================] - 4s 158ms/step - loss: 0.1221 - categorical_accuracy: 0.9665 - val_loss: 0.0450 - val_categorical_accuracy: 0.9883\n",
      "Epoch 38/100\n",
      "27/27 [==============================] - 4s 158ms/step - loss: 0.1194 - categorical_accuracy: 0.9665 - val_loss: 0.0280 - val_categorical_accuracy: 0.9912\n",
      "Epoch 39/100\n",
      "27/27 [==============================] - 4s 157ms/step - loss: 0.1651 - categorical_accuracy: 0.9543 - val_loss: 0.0369 - val_categorical_accuracy: 0.9883\n",
      "Epoch 40/100\n",
      "27/27 [==============================] - 4s 157ms/step - loss: 0.1099 - categorical_accuracy: 0.9627 - val_loss: 0.0431 - val_categorical_accuracy: 0.9883\n",
      "Epoch 41/100\n",
      "27/27 [==============================] - 4s 157ms/step - loss: 0.1154 - categorical_accuracy: 0.9680 - val_loss: 0.0334 - val_categorical_accuracy: 0.9883\n",
      "Epoch 42/100\n",
      "27/27 [==============================] - 4s 157ms/step - loss: 0.1284 - categorical_accuracy: 0.9589 - val_loss: 0.0309 - val_categorical_accuracy: 0.9883\n",
      "Epoch 43/100\n",
      "27/27 [==============================] - 4s 157ms/step - loss: 0.1216 - categorical_accuracy: 0.9650 - val_loss: 0.0373 - val_categorical_accuracy: 0.9883\n",
      "Epoch 44/100\n",
      "27/27 [==============================] - 4s 157ms/step - loss: 0.1190 - categorical_accuracy: 0.9650 - val_loss: 0.0324 - val_categorical_accuracy: 0.9883\n",
      "Epoch 45/100\n",
      "27/27 [==============================] - 4s 157ms/step - loss: 0.1190 - categorical_accuracy: 0.9658 - val_loss: 0.0322 - val_categorical_accuracy: 0.9883\n",
      "Epoch 46/100\n",
      "27/27 [==============================] - 4s 158ms/step - loss: 0.1220 - categorical_accuracy: 0.9627 - val_loss: 0.0322 - val_categorical_accuracy: 0.9912\n",
      "Epoch 47/100\n",
      "27/27 [==============================] - 4s 157ms/step - loss: 0.1301 - categorical_accuracy: 0.9650 - val_loss: 0.0298 - val_categorical_accuracy: 0.9912\n",
      "Epoch 48/100\n",
      "27/27 [==============================] - 4s 158ms/step - loss: 0.1333 - categorical_accuracy: 0.9627 - val_loss: 0.0341 - val_categorical_accuracy: 0.9912\n",
      "Epoch 49/100\n"
     ]
    },
    {
     "name": "stdout",
     "output_type": "stream",
     "text": [
      "27/27 [==============================] - 4s 154ms/step - loss: 0.1138 - categorical_accuracy: 0.9673 - val_loss: 0.0326 - val_categorical_accuracy: 0.9912\n",
      "Epoch 50/100\n",
      "27/27 [==============================] - 4s 154ms/step - loss: 0.1205 - categorical_accuracy: 0.9612 - val_loss: 0.0317 - val_categorical_accuracy: 0.9941\n",
      "Epoch 51/100\n",
      "27/27 [==============================] - 4s 154ms/step - loss: 0.0845 - categorical_accuracy: 0.9741 - val_loss: 0.0979 - val_categorical_accuracy: 0.9795\n",
      "Epoch 52/100\n",
      "27/27 [==============================] - 4s 155ms/step - loss: 0.1229 - categorical_accuracy: 0.9589 - val_loss: 0.0495 - val_categorical_accuracy: 0.9883\n",
      "Epoch 53/100\n",
      "27/27 [==============================] - 4s 153ms/step - loss: 0.1164 - categorical_accuracy: 0.9642 - val_loss: 0.0467 - val_categorical_accuracy: 0.9941\n",
      "Epoch 54/100\n",
      "27/27 [==============================] - 4s 153ms/step - loss: 0.1185 - categorical_accuracy: 0.9703 - val_loss: 0.0387 - val_categorical_accuracy: 0.9883\n",
      "Epoch 55/100\n",
      "27/27 [==============================] - 4s 153ms/step - loss: 0.1258 - categorical_accuracy: 0.9665 - val_loss: 0.0649 - val_categorical_accuracy: 0.9824\n",
      "Epoch 56/100\n",
      "27/27 [==============================] - 4s 153ms/step - loss: 0.1386 - categorical_accuracy: 0.9650 - val_loss: 0.0568 - val_categorical_accuracy: 0.9853\n",
      "Epoch 57/100\n",
      "27/27 [==============================] - 4s 156ms/step - loss: 0.1195 - categorical_accuracy: 0.9674 - val_loss: 0.0460 - val_categorical_accuracy: 0.9883\n",
      "Epoch 58/100\n",
      "27/27 [==============================] - 4s 153ms/step - loss: 0.1394 - categorical_accuracy: 0.9658 - val_loss: 0.0465 - val_categorical_accuracy: 0.9912\n",
      "Epoch 59/100\n",
      "27/27 [==============================] - 4s 153ms/step - loss: 0.1193 - categorical_accuracy: 0.9627 - val_loss: 0.0429 - val_categorical_accuracy: 0.9853\n",
      "Epoch 60/100\n",
      "27/27 [==============================] - 4s 153ms/step - loss: 0.1179 - categorical_accuracy: 0.9612 - val_loss: 0.0745 - val_categorical_accuracy: 0.9824\n",
      "Epoch 61/100\n",
      "27/27 [==============================] - 4s 153ms/step - loss: 0.0983 - categorical_accuracy: 0.9696 - val_loss: 0.0383 - val_categorical_accuracy: 0.9912\n",
      "Epoch 62/100\n",
      "27/27 [==============================] - 4s 153ms/step - loss: 0.1341 - categorical_accuracy: 0.9696 - val_loss: 0.0305 - val_categorical_accuracy: 0.9941\n",
      "Epoch 63/100\n",
      "27/27 [==============================] - 4s 153ms/step - loss: 0.1382 - categorical_accuracy: 0.9658 - val_loss: 0.0499 - val_categorical_accuracy: 0.9824\n",
      "Epoch 64/100\n",
      "27/27 [==============================] - 4s 154ms/step - loss: 0.1354 - categorical_accuracy: 0.9619 - val_loss: 0.0331 - val_categorical_accuracy: 0.9912\n",
      "Epoch 65/100\n",
      "27/27 [==============================] - 4s 154ms/step - loss: 0.1244 - categorical_accuracy: 0.9673 - val_loss: 0.0296 - val_categorical_accuracy: 0.9912\n",
      "Epoch 66/100\n",
      "27/27 [==============================] - 4s 153ms/step - loss: 0.1229 - categorical_accuracy: 0.9619 - val_loss: 0.0422 - val_categorical_accuracy: 0.9971\n",
      "Epoch 67/100\n",
      "27/27 [==============================] - 4s 153ms/step - loss: 0.1169 - categorical_accuracy: 0.9604 - val_loss: 0.0603 - val_categorical_accuracy: 0.9883\n",
      "Epoch 68/100\n",
      "27/27 [==============================] - 4s 154ms/step - loss: 0.1243 - categorical_accuracy: 0.9718 - val_loss: 0.0412 - val_categorical_accuracy: 0.9912\n",
      "Epoch 69/100\n",
      "27/27 [==============================] - 4s 153ms/step - loss: 0.1056 - categorical_accuracy: 0.9680 - val_loss: 0.0443 - val_categorical_accuracy: 0.9912\n",
      "Epoch 70/100\n",
      "27/27 [==============================] - 4s 154ms/step - loss: 0.1088 - categorical_accuracy: 0.9642 - val_loss: 0.0380 - val_categorical_accuracy: 0.9912\n",
      "Epoch 71/100\n",
      "27/27 [==============================] - 4s 154ms/step - loss: 0.1132 - categorical_accuracy: 0.9680 - val_loss: 0.0250 - val_categorical_accuracy: 0.9941\n",
      "Epoch 72/100\n",
      "27/27 [==============================] - 4s 154ms/step - loss: 0.1080 - categorical_accuracy: 0.9696 - val_loss: 0.0235 - val_categorical_accuracy: 0.9971\n",
      "Epoch 73/100\n",
      "27/27 [==============================] - 4s 154ms/step - loss: 0.1226 - categorical_accuracy: 0.9642 - val_loss: 0.0267 - val_categorical_accuracy: 0.9912\n",
      "Epoch 74/100\n",
      "27/27 [==============================] - 4s 153ms/step - loss: 0.1057 - categorical_accuracy: 0.9658 - val_loss: 0.0393 - val_categorical_accuracy: 0.9853\n",
      "Epoch 75/100\n",
      "27/27 [==============================] - 4s 154ms/step - loss: 0.0934 - categorical_accuracy: 0.9726 - val_loss: 0.0292 - val_categorical_accuracy: 0.9941\n",
      "Epoch 76/100\n",
      "27/27 [==============================] - 4s 154ms/step - loss: 0.1011 - categorical_accuracy: 0.9688 - val_loss: 0.0251 - val_categorical_accuracy: 0.9912\n",
      "Epoch 77/100\n",
      "27/27 [==============================] - 4s 154ms/step - loss: 0.1371 - categorical_accuracy: 0.9597 - val_loss: 0.0426 - val_categorical_accuracy: 0.9912\n",
      "Epoch 78/100\n",
      "27/27 [==============================] - 4s 154ms/step - loss: 0.1291 - categorical_accuracy: 0.9627 - val_loss: 0.0369 - val_categorical_accuracy: 0.9941\n",
      "Epoch 79/100\n",
      "27/27 [==============================] - 4s 154ms/step - loss: 0.1207 - categorical_accuracy: 0.9665 - val_loss: 0.0433 - val_categorical_accuracy: 0.9824\n",
      "Epoch 80/100\n",
      "27/27 [==============================] - 4s 155ms/step - loss: 0.0938 - categorical_accuracy: 0.9718 - val_loss: 0.0479 - val_categorical_accuracy: 0.9824\n",
      "Epoch 81/100\n",
      "27/27 [==============================] - 4s 154ms/step - loss: 0.0910 - categorical_accuracy: 0.9703 - val_loss: 0.0282 - val_categorical_accuracy: 0.9883\n",
      "Epoch 82/100\n",
      "27/27 [==============================] - 4s 154ms/step - loss: 0.1108 - categorical_accuracy: 0.9665 - val_loss: 0.0268 - val_categorical_accuracy: 0.9912\n",
      "Epoch 83/100\n",
      "27/27 [==============================] - 4s 155ms/step - loss: 0.1045 - categorical_accuracy: 0.9726 - val_loss: 0.0426 - val_categorical_accuracy: 0.9824\n",
      "Epoch 84/100\n",
      "27/27 [==============================] - 4s 163ms/step - loss: 0.1188 - categorical_accuracy: 0.9658 - val_loss: 0.0321 - val_categorical_accuracy: 0.9912\n",
      "Epoch 85/100\n",
      "27/27 [==============================] - 4s 164ms/step - loss: 0.1244 - categorical_accuracy: 0.9644 - val_loss: 0.0419 - val_categorical_accuracy: 0.9853\n",
      "Epoch 86/100\n",
      "27/27 [==============================] - 4s 161ms/step - loss: 0.1192 - categorical_accuracy: 0.9619 - val_loss: 0.0323 - val_categorical_accuracy: 0.9883\n",
      "Epoch 87/100\n",
      "27/27 [==============================] - 4s 158ms/step - loss: 0.1188 - categorical_accuracy: 0.9635 - val_loss: 0.0277 - val_categorical_accuracy: 0.9941\n",
      "Epoch 88/100\n",
      "27/27 [==============================] - 4s 158ms/step - loss: 0.1169 - categorical_accuracy: 0.9658 - val_loss: 0.0315 - val_categorical_accuracy: 0.9941\n",
      "Epoch 89/100\n",
      "27/27 [==============================] - 4s 158ms/step - loss: 0.1000 - categorical_accuracy: 0.9703 - val_loss: 0.0346 - val_categorical_accuracy: 0.9912\n",
      "Epoch 90/100\n",
      "27/27 [==============================] - 4s 166ms/step - loss: 0.1180 - categorical_accuracy: 0.9642 - val_loss: 0.0273 - val_categorical_accuracy: 0.9941\n",
      "Epoch 91/100\n",
      "27/27 [==============================] - 4s 159ms/step - loss: 0.0992 - categorical_accuracy: 0.9711 - val_loss: 0.0268 - val_categorical_accuracy: 0.9941\n",
      "Epoch 92/100\n",
      "27/27 [==============================] - 4s 158ms/step - loss: 0.1011 - categorical_accuracy: 0.9711 - val_loss: 0.0243 - val_categorical_accuracy: 0.9941\n",
      "Epoch 93/100\n",
      "27/27 [==============================] - 4s 157ms/step - loss: 0.1176 - categorical_accuracy: 0.9650 - val_loss: 0.0401 - val_categorical_accuracy: 0.9912\n",
      "Epoch 94/100\n",
      "27/27 [==============================] - 4s 157ms/step - loss: 0.1055 - categorical_accuracy: 0.9718 - val_loss: 0.0322 - val_categorical_accuracy: 0.9883\n",
      "Epoch 95/100\n",
      "27/27 [==============================] - 4s 156ms/step - loss: 0.1147 - categorical_accuracy: 0.9703 - val_loss: 0.0326 - val_categorical_accuracy: 0.9912\n",
      "Epoch 96/100\n",
      "27/27 [==============================] - 4s 157ms/step - loss: 0.1368 - categorical_accuracy: 0.9635 - val_loss: 0.0331 - val_categorical_accuracy: 0.9971\n",
      "Epoch 97/100\n",
      "27/27 [==============================] - 4s 158ms/step - loss: 0.1128 - categorical_accuracy: 0.9665 - val_loss: 0.0422 - val_categorical_accuracy: 0.9941\n"
     ]
    },
    {
     "name": "stdout",
     "output_type": "stream",
     "text": [
      "Epoch 98/100\n",
      "27/27 [==============================] - 4s 154ms/step - loss: 0.1175 - categorical_accuracy: 0.9650 - val_loss: 0.0356 - val_categorical_accuracy: 0.9883\n",
      "Epoch 99/100\n",
      "27/27 [==============================] - 4s 153ms/step - loss: 0.1331 - categorical_accuracy: 0.9619 - val_loss: 0.0404 - val_categorical_accuracy: 0.9941\n",
      "Epoch 100/100\n",
      "27/27 [==============================] - 4s 153ms/step - loss: 0.1306 - categorical_accuracy: 0.9604 - val_loss: 0.0514 - val_categorical_accuracy: 0.9912\n"
     ]
    }
   ],
   "source": [
    "batch_size = 50\n",
    "epochs = 100\n",
    "\n",
    "history = model.fit_generator(generate_data(train_images, train_labels, batch_size=batch_size),\n",
    "                              steps_per_epoch=train_images.shape[0] // batch_size,\n",
    "                              epochs=epochs, validation_data = (valid_images, valid_labels))"
   ]
  },
  {
   "cell_type": "code",
   "execution_count": 38,
   "metadata": {
    "pycharm": {
     "is_executing": false
    }
   },
   "outputs": [],
   "source": [
    "model_json = model.to_json()\n",
    "with open(\"lattice_points_model.json\", \"w\") as json_file:\n",
    "    json_file.write(model_json)\n",
    "model.save_weights(\"lattice_points_model.h5\")"
   ]
  },
  {
   "cell_type": "code",
   "execution_count": 12,
   "metadata": {
    "pycharm": {
     "is_executing": false
    }
   },
   "outputs": [],
   "source": []
  },
  {
   "cell_type": "code",
   "execution_count": 12,
   "metadata": {
    "pycharm": {
     "is_executing": false
    }
   },
   "outputs": [],
   "source": []
  }
 ],
 "metadata": {
  "kernelspec": {
   "display_name": "Python 3",
   "language": "python",
   "name": "python3"
  },
  "language_info": {
   "codemirror_mode": {
    "name": "ipython",
    "version": 3
   },
   "file_extension": ".py",
   "mimetype": "text/x-python",
   "name": "python",
   "nbconvert_exporter": "python",
   "pygments_lexer": "ipython3",
   "version": "3.7.0"
  },
  "pycharm": {
   "stem_cell": {
    "cell_type": "raw",
    "metadata": {
     "collapsed": false
    },
    "source": []
   }
  }
 },
 "nbformat": 4,
 "nbformat_minor": 1
}
