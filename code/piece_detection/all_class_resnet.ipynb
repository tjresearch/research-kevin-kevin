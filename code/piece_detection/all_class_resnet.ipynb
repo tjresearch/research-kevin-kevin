{
 "cells": [
  {
   "cell_type": "code",
   "execution_count": 1,
   "metadata": {},
   "outputs": [
    {
     "name": "stdout",
     "output_type": "stream",
     "text": [
      "Num GPUs Available:  3\n"
     ]
    }
   ],
   "source": [
    "import tensorflow as tf\n",
    "print(\"Num GPUs Available: \", len(tf.config.experimental.list_physical_devices('GPU')))\n",
    "\n",
    "#needed for jupyter notebook\n",
    "#https://github.com/tensorflow/tensorflow/issues/24828\n",
    "from tensorflow.compat.v1 import ConfigProto\n",
    "from tensorflow.compat.v1 import InteractiveSession\n",
    "\n",
    "config = ConfigProto()\n",
    "config.gpu_options.allow_growth = True\n",
    "session = InteractiveSession(config=config)"
   ]
  },
  {
   "cell_type": "code",
   "execution_count": 2,
   "metadata": {},
   "outputs": [],
   "source": [
    "# https://github.com/jkjung-avt/keras-cats-dogs-tutorial/blob/master/train_resnet50.py\n",
    "from tensorflow.keras import backend as K\n",
    "from tensorflow.keras.models import Model\n",
    "from tensorflow.keras.layers import Flatten, Dense, Dropout\n",
    "from tensorflow.keras.optimizers import Adam\n",
    "from tensorflow.keras.preprocessing.image import ImageDataGenerator\n",
    "\n",
    "# resnet versions\n",
    "# from tensorflow.keras.applications.resnet import ResNet50, ResNet101, ResNet152\n",
    "from tensorflow.keras.applications.resnet_v2 import ResNet50V2, ResNet101V2, ResNet152V2, preprocess_input\n",
    "\n",
    "# graph\n",
    "import matplotlib.pyplot as plt"
   ]
  },
  {
   "cell_type": "code",
   "execution_count": 3,
   "metadata": {},
   "outputs": [
    {
     "name": "stdout",
     "output_type": "stream",
     "text": [
      "BATCH_SIZE:  16\n",
      "FREEZE_LAYERS:  101\n",
      "NUM_EPOCHS:  2\n",
      "DATASET_PATH:  3_15_split_2\n"
     ]
    }
   ],
   "source": [
    "\"\"\"\n",
    "hyperparameters + filenames\n",
    "\"\"\"\n",
    "DATASET_PATH = \"may_split\"\n",
    "# DATASET_PATH = \"exp_data\"\n",
    "\n",
    "# height = 2*width\n",
    "# TARGET_SIZE = height, width \n",
    "# try reducing batch size or freeze more layers if your GPU runs out of memory\n",
    "\n",
    "TARGET_SIZE = (224,112) \n",
    "BATCH_SIZE = 16\n",
    "# BATCH_SIZE = 32  \n",
    "# NUM_EPOCHS = 20\n",
    "NUM_EPOCHS = 15\n",
    "FREEZE_LAYERS = 101 # 2 + 3*33\n",
    "# FREEZE_LAYERS = 35 # 2 + 3*11\n",
    "# NUM_CLASSES defined later\n",
    "\n",
    "print(\"BATCH_SIZE: \", BATCH_SIZE)\n",
    "print(\"FREEZE_LAYERS: \", FREEZE_LAYERS)\n",
    "print(\"NUM_EPOCHS: \", NUM_EPOCHS)\n",
    "print(\"DATASET_PATH: \", DATASET_PATH)"
   ]
  },
  {
   "cell_type": "code",
   "execution_count": 4,
   "metadata": {},
   "outputs": [
    {
     "name": "stdout",
     "output_type": "stream",
     "text": [
      "Found 17406 images belonging to 13 classes.\n",
      "Found 4345 images belonging to 13 classes.\n"
     ]
    }
   ],
   "source": [
    "\"\"\"\n",
    "augmenting data\n",
    "\"\"\"\n",
    "train_datagen = ImageDataGenerator(\n",
    "    preprocessing_function=preprocess_input,\n",
    "    rotation_range=0,\n",
    "    shear_range=10,\n",
    "\n",
    "    width_shift_range=0.1,\n",
    "    height_shift_range=0.1,\n",
    "    zoom_range=0.3,\n",
    "\n",
    "    brightness_range=(0.8, 1.0),\n",
    "    channel_shift_range=50.0,\n",
    "\n",
    "    horizontal_flip=True,\n",
    ")\n",
    "\n",
    "# train_datagen.reset()\n",
    "\n",
    "train_batches = train_datagen.flow_from_directory(\n",
    "    DATASET_PATH + \"/train\",\n",
    "    target_size=TARGET_SIZE,\n",
    "    batch_size=BATCH_SIZE,\n",
    "#     interpolation='bicubic',\n",
    "    class_mode='categorical',\n",
    "    shuffle=True)\n",
    "\n",
    "valid_datagen = ImageDataGenerator(preprocessing_function=preprocess_input)\n",
    "\n",
    "# valid_datagen.reset()\n",
    "\n",
    "valid_batches = valid_datagen.flow_from_directory(\n",
    "    DATASET_PATH + \"/valid\",\n",
    "    target_size=TARGET_SIZE, \n",
    "    batch_size=BATCH_SIZE,\n",
    "#     interpolation='bicubic',\n",
    "    class_mode='categorical',\n",
    "    shuffle=True)\n",
    "\n",
    "NUM_CLASSES = len(train_batches.class_indices.items())"
   ]
  },
  {
   "cell_type": "code",
   "execution_count": 5,
   "metadata": {
    "scrolled": false
   },
   "outputs": [
    {
     "name": "stdout",
     "output_type": "stream",
     "text": [
      "WARNING:tensorflow:sample_weight modes were coerced from\n",
      "  ...\n",
      "    to  \n",
      "  ['...']\n",
      "WARNING:tensorflow:sample_weight modes were coerced from\n",
      "  ...\n",
      "    to  \n",
      "  ['...']\n",
      "Train for 1087 steps, validate for 271 steps\n",
      "Epoch 1/2\n",
      "1087/1087 [==============================] - 162s 149ms/step - loss: 1.2293 - accuracy: 0.6796 - val_loss: 0.2974 - val_accuracy: 0.9008\n",
      "Epoch 2/2\n",
      "1087/1087 [==============================] - 147s 135ms/step - loss: 0.3002 - accuracy: 0.9083 - val_loss: 0.1136 - val_accuracy: 0.9670\n"
     ]
    }
   ],
   "source": [
    "\"\"\"\n",
    "training nnet\n",
    "\"\"\"\n",
    "\n",
    "\n",
    "# https://github.com/jkjung-avt/keras-cats-dogs-tutorial/blob/master/train_resnet50.py\n",
    "\n",
    "#train net\n",
    "# build our classifier model based on pre-trained ResNet50:\n",
    "# 1. we don't include the top (fully connected) layers of ResNet50\n",
    "# 2. we add a DropOut layer followed by a Dense (fully connected)\n",
    "#    layer which generates softmax class score for each class\n",
    "# 3. we compile the final model using an Adam optimizer, with a\n",
    "#    low learning rate (since we are 'fine-tuning')\n",
    "net = ResNet152V2(include_top=False, weights='imagenet', input_tensor=None,\n",
    "               input_shape=(TARGET_SIZE[0],TARGET_SIZE[1],3))\n",
    "x = net.output\n",
    "x = Flatten()(x)\n",
    "x = Dropout(0.5)(x)\n",
    "output_layer = Dense(NUM_CLASSES, activation='softmax', name='softmax')(x)\n",
    "net_final = Model(inputs=net.input, outputs=output_layer)\n",
    "\n",
    "\n",
    "\"\"\"\n",
    "#continue training old model\n",
    "import os\n",
    "from tensorflow.keras.models import load_model\n",
    "\n",
    "MODEL_PATH = \"saved_models\"\n",
    "net_file = \"new_allclass_9801_1583419590_highangle_RES152V2.h5\"\n",
    "net_path = os.path.join(MODEL_PATH, net_file)\n",
    "net_final = load_model(net_path)\n",
    "print(\"Loaded:\", net_path)\n",
    "\"\"\"\n",
    "\n",
    "#freeze layers\n",
    "for layer in net_final.layers[:FREEZE_LAYERS]:\n",
    "    layer.trainable = False\n",
    "for layer in net_final.layers[FREEZE_LAYERS:]:\n",
    "    layer.trainable = True\n",
    "\n",
    "net_final.compile(optimizer=Adam(lr=1e-5, beta_1=0.99),\n",
    "                  loss='categorical_crossentropy', metrics=['accuracy'])\n",
    "\n",
    "# print(net_final.summary())\n",
    "\n",
    "# train the model\n",
    "history = net_final.fit(train_batches,\n",
    "                        steps_per_epoch = train_batches.samples // BATCH_SIZE,\n",
    "                        validation_data = valid_batches,\n",
    "                        validation_steps = valid_batches.samples // BATCH_SIZE,\n",
    "                        epochs = NUM_EPOCHS)"
   ]
  },
  {
   "cell_type": "code",
   "execution_count": 10,
   "metadata": {},
   "outputs": [
    {
     "data": {
      "image/png": "[encoded data removed]",
      "text/plain": [
       "<Figure size 432x288 with 1 Axes>"
      ]
     },
     "metadata": {
      "needs_background": "light"
     },
     "output_type": "display_data"
    },
    {
     "data": {
      "image/png": "[encoded data removed]",
      "text/plain": [
       "<Figure size 432x288 with 1 Axes>"
      ]
     },
     "metadata": {
      "needs_background": "light"
     },
     "output_type": "display_data"
    }
   ],
   "source": [
    "# plot acc\n",
    "plt.plot(history.history['accuracy'])\n",
    "plt.plot(history.history['val_accuracy'])\n",
    "plt.title('Model accuracy')\n",
    "plt.ylabel('Accuracy')\n",
    "plt.xlabel('Epoch')\n",
    "plt.legend(['Train', 'Test'], loc='upper left')\n",
    "plt.show()\n",
    "\n",
    "# plot loss\n",
    "plt.plot(history.history['loss'])\n",
    "plt.plot(history.history['val_loss'])\n",
    "plt.title('Model loss')\n",
    "plt.ylabel('Loss')\n",
    "plt.xlabel('Epoch')\n",
    "plt.legend(['Train', 'Test'], loc='upper left')\n",
    "plt.show()"
   ]
  },
  {
   "cell_type": "code",
   "execution_count": 9,
   "metadata": {},
   "outputs": [
    {
     "name": "stdout",
     "output_type": "stream",
     "text": [
      "----- black_bishop ----- \n",
      "\n",
      "----- black_king ----- \n",
      "\n",
      "----- black_knight ----- \n",
      "\n",
      "----- black_pawn ----- \n",
      "\n",
      "----- black_queen ----- \n",
      "\n",
      "----- black_rook ----- \n",
      "\n",
      "----- empty ----- \n",
      "\n",
      "----- white_bishop ----- \n",
      "\n",
      "----- white_king ----- \n",
      "\n",
      "----- white_knight ----- \n",
      "\n",
      "----- white_pawn ----- \n",
      "\n",
      "----- white_queen ----- \n",
      "\n",
      "----- white_rook ----- \n",
      "\n",
      "(4345, 224, 112, 3)\n",
      "(4345,)\n",
      "[ 0  0  0 ... 12 12 12]\n",
      "Confusion Matrix\n",
      "[[ 129    0    8    8    4    1    2    0    0    0    0    0    0]\n",
      " [   3  136    0    1    0    0    3    1    0    0    0    1    0]\n",
      " [   5    1   99    8    0    2    1    0    0    0    0    0    0]\n",
      " [   0    0    3  732    1    0    2    0    0    0    2    0    0]\n",
      " [   2    3    2    0   90    6    0    0    0    0    0    1    0]\n",
      " [   0    1    0    1    1  162    2    0    0    0    0    0    0]\n",
      " [   0    0    1    5    0    0 1466    2    0    1    4    0    0]\n",
      " [   0    0    0    0    0    0    0  138    2    0    6    0    0]\n",
      " [   0    1    0    0    0    0    1    1  143    0    0    2    0]\n",
      " [   0    0    0    0    0    0    0    7    1  105    3    1    0]\n",
      " [   0    0    0    0    0    0    6    4    0    0  727    1    0]\n",
      " [   0    0    0    0    0    0    0    0    8    0    0  102    1]\n",
      " [   0    0    0    0    0    0    6    0    2    0    0    2  172]]\n"
     ]
    }
   ],
   "source": [
    "from sklearn.metrics import classification_report, confusion_matrix\n",
    "import numpy as np\n",
    "import time, os\n",
    "from tensorflow.keras.preprocessing import image\n",
    "\n",
    "IMG_DIR = os.path.join(DATASET_PATH,\"valid\")\n",
    "ALL_CLASSES = sorted(os.listdir(os.path.join(DATASET_PATH,\"valid\")))\n",
    "\n",
    "imgs = []\n",
    "classes = []\n",
    "for cls in ALL_CLASSES: #class is Python keyword\n",
    "    print(\"-\"*5,cls,\"-\"*5,\"\\n\")\n",
    "    CLASS_DIR = os.path.join(IMG_DIR, cls)\n",
    "    for filename in os.listdir(CLASS_DIR):\n",
    "        img_path = os.path.join(CLASS_DIR, filename)\n",
    "\n",
    "        img = image.load_img(img_path, target_size=TARGET_SIZE)\n",
    "        if not img: continue\n",
    "        x = image.img_to_array(img)\n",
    "        x = preprocess_input(x)\n",
    "#         x = np.expand_dims(x, axis=0) #need to add dim to put into resnet\n",
    "\n",
    "        imgs.append(x)\n",
    "        classes.append(ALL_CLASSES.index(cls))\n",
    "#         print(len(imgs))\n",
    "\n",
    "imgs = np.asarray(imgs)\n",
    "classes = np.asarray(classes)\n",
    "\n",
    "print(imgs.shape)\n",
    "print(classes.shape)\n",
    "# print(classes)\n",
    "Y_pred = net_final.predict(imgs)\n",
    "y_pred = np.argmax(Y_pred, axis=1)\n",
    "print(y_pred)\n",
    "print('Confusion Matrix')\n",
    "print(confusion_matrix(classes, y_pred))"
   ]
  },
  {
   "cell_type": "code",
   "execution_count": 9,
   "metadata": {},
   "outputs": [
    {
     "name": "stdout",
     "output_type": "stream",
     "text": [
      "Timestamp: 03.20-15:29:04\n",
      "Model saved at: saved_models/50cs_3_15_split_2_03.20-15:29:04_RES152V2.h5\n"
     ]
    }
   ],
   "source": [
    "\"\"\"\n",
    "fill this in\n",
    "\"\"\"\n",
    "\n",
    "import os\n",
    "MODELS_PATH = \"saved_models\"\n",
    "if not os.path.exists(MODELS_PATH):\n",
    "    os.mkdir(MODELS_PATH)\n",
    "\n",
    "# get current date and time\n",
    "from datetime import datetime\n",
    "now = datetime.now()\n",
    "dt_string = now.strftime(\"%m.%d-%H:%M:%S\") #month.day-hr:min:sec\n",
    "print(\"Timestamp:\", dt_string)\n",
    "    \n",
    "model_filename = \"50cs_{}_{}_RES152V2.h5\".format(DATASET_PATH, dt_string)\n",
    "filepath = os.path.join(MODELS_PATH, model_filename)\n",
    "net_final.save(filepath)\n",
    "print(\"Model saved at:\", filepath)"
   ]
  },
  {
   "cell_type": "code",
   "execution_count": null,
   "metadata": {},
   "outputs": [],
   "source": [
    "\"\"\"\n",
    "separate weights and model saving\n",
    "\"\"\"\n",
    "net_final.save_weights(\"123weights.h5\")\n",
    "model_json = net_final.to_json()\n",
    "with open('123model.json', 'w') as json_file:\n",
    "    json_file.write(model_json)\n",
    "json_file.close()"
   ]
  },
  {
   "cell_type": "code",
   "execution_count": null,
   "metadata": {},
   "outputs": [],
   "source": []
  }
 ],
 "metadata": {
  "kernelspec": {
   "display_name": "Python 3",
   "language": "python",
   "name": "python3"
  },
  "language_info": {
   "codemirror_mode": {
    "name": "ipython",
    "version": 3
   },
   "file_extension": ".py",
   "mimetype": "text/x-python",
   "name": "python",
   "nbconvert_exporter": "python",
   "pygments_lexer": "ipython3",
   "version": "3.7.5"
  }
 },
 "nbformat": 4,
 "nbformat_minor": 2
}
