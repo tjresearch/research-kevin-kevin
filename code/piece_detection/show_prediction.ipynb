{
 "cells": [
  {
   "cell_type": "code",
   "execution_count": 1,
   "metadata": {},
   "outputs": [
    {
     "name": "stdout",
     "output_type": "stream",
     "text": [
      "Num GPUs Available:  3\n"
     ]
    }
   ],
   "source": [
    "import tensorflow as tf\n",
    "print(\"Num GPUs Available: \", len(tf.config.experimental.list_physical_devices('GPU')))\n",
    "\n",
    "#needed for jupyter notebook\n",
    "#https://github.com/tensorflow/tensorflow/issues/24828\n",
    "from tensorflow.compat.v1 import ConfigProto\n",
    "from tensorflow.compat.v1 import InteractiveSession\n",
    "\n",
    "config = ConfigProto()\n",
    "config.gpu_options.allow_growth = True\n",
    "session = InteractiveSession(config=config)"
   ]
  },
  {
   "cell_type": "code",
   "execution_count": 2,
   "metadata": {},
   "outputs": [
    {
     "name": "stdout",
     "output_type": "stream",
     "text": [
      "Loaded: saved_models/120cs_3_15_split_9947_1584571828_RES152V2.h5\n"
     ]
    }
   ],
   "source": [
    "import os\n",
    "\n",
    "import numpy as np\n",
    "from tensorflow.keras import backend as K\n",
    "from tensorflow.keras.models import load_model\n",
    "from tensorflow.keras.applications.resnet_v2 import preprocess_input\n",
    "from tensorflow.keras.preprocessing import image\n",
    "\n",
    "MODEL_PATH = \"saved_models\"\n",
    "net_file = \"120cs_3_15_split_9947_1584571828_RES152V2.h5\"\n",
    "\n",
    "net_path = os.path.join(MODEL_PATH, net_file)\n",
    "net = load_model(net_path)\n",
    "print(\"Loaded:\", net_path)"
   ]
  },
  {
   "cell_type": "code",
   "execution_count": 11,
   "metadata": {},
   "outputs": [],
   "source": [
    "TARGET_SIZE = (224,112) #make sure this matches\n",
    "DATASET = \"3_15_split\"\n",
    "IMG_DIR = os.path.join(DATASET,\"train\")\n",
    "ALL_CLASSES = sorted(os.listdir(os.path.join(DATASET,\"train\")))\n",
    "if \".DS_Store\" in ALL_CLASSES:\n",
    "    ALL_CLASSES.remove(\".DS_Store\")"
   ]
  },
  {
   "cell_type": "code",
   "execution_count": 12,
   "metadata": {
    "scrolled": true
   },
   "outputs": [
    {
     "name": "stdout",
     "output_type": "stream",
     "text": [
      "----- black_bishop ----- \n",
      "\n",
      "----- black_king ----- \n",
      "\n",
      "----- black_knight ----- \n",
      "\n",
      "----- black_pawn ----- \n",
      "\n",
      "----- black_queen ----- \n",
      "\n",
      "----- black_rook ----- \n",
      "\n",
      "----- empty ----- \n",
      "\n",
      "----- white_bishop ----- \n",
      "\n",
      "----- white_king ----- \n",
      "\n",
      "----- white_knight ----- \n",
      "\n",
      "----- white_pawn ----- \n",
      "\n",
      "----- white_queen ----- \n",
      "\n",
      "----- white_rook ----- \n",
      "\n",
      "(17406, 224, 112, 3)\n",
      "(17406,)\n",
      "[ 0  0  0 ... 12 12 12]\n",
      "[ 0  0  0 ... 12 12 12]\n",
      "Confusion Matrix\n",
      "[[ 605    0    1    1    1    1    0    0    0    0    0    0    0]\n",
      " [   0  574    0    0    4    2    0    0    0    0    0    0    0]\n",
      " [   0    1  464    0    1    0    1    0    0    0    0    0    0]\n",
      " [   1    0    0 2953    2    0    3    0    0    0    3    0    0]\n",
      " [   0    5    0    0  413    0    0    0    0    0    0    0    0]\n",
      " [   0    0    0    3    0  668    0    0    0    0    0    0    0]\n",
      " [   0    0    0    1    0    3 5913    0    0    1    1    0    0]\n",
      " [   0    0    0    0    0    0    2  584    0    0    2    0    0]\n",
      " [   0    0    0    0    0    0    0    0  592    0    0    0    0]\n",
      " [   0    0    0    0    0    0    0    0    1  469    1    0    0]\n",
      " [   0    0    0    0    0    0    0    0    0    0 2954    0    0]\n",
      " [   0    0    0    0    0    0    0    0    0    1    0  443    0]\n",
      " [   0    1    0    0    0    0    0    0    1    0    1    0  728]]\n"
     ]
    }
   ],
   "source": [
    "from sklearn.metrics import classification_report, confusion_matrix\n",
    "import numpy as np\n",
    "\n",
    "imgs = []\n",
    "classes = []\n",
    "for cls in ALL_CLASSES: #class is Python keyword\n",
    "    print(\"-\"*5,cls,\"-\"*5,\"\\n\")\n",
    "    CLASS_DIR = os.path.join(IMG_DIR, cls)\n",
    "    for filename in os.listdir(CLASS_DIR):\n",
    "        img_path = os.path.join(CLASS_DIR, filename)\n",
    "\n",
    "        img = image.load_img(img_path, target_size=TARGET_SIZE)\n",
    "        if not img: continue\n",
    "        x = image.img_to_array(img)\n",
    "        x = preprocess_input(x)\n",
    "#         x = np.expand_dims(x, axis=0) #need to add dim to put into resnet\n",
    "\n",
    "        imgs.append(x)\n",
    "        classes.append(ALL_CLASSES.index(cls))\n",
    "#         print(len(imgs))\n",
    "\n",
    "imgs = np.asarray(imgs)\n",
    "classes = np.asarray(classes)\n",
    "\n",
    "print(imgs.shape)\n",
    "print(classes.shape)\n",
    "print(classes)\n",
    "Y_pred = net.predict(imgs)\n",
    "y_pred = np.argmax(Y_pred, axis=1)\n",
    "print(y_pred)\n",
    "print('Confusion Matrix')\n",
    "print(confusion_matrix(classes, y_pred))"
   ]
  },
  {
   "cell_type": "code",
   "execution_count": 13,
   "metadata": {},
   "outputs": [
    {
     "name": "stdout",
     "output_type": "stream",
     "text": [
      "----- white_queen ----- \n",
      "\n",
      "3_15_split/train/white_queen/41_high_angle_8.55.26.jpg\n",
      "white_queen: 0.2997586131095886\n",
      "white_pawn: 0.1756194531917572\n",
      "white_bishop: 0.17295777797698975\n",
      "black_king: 0.1332138180732727\n",
      "empty: 0.06903279572725296\n",
      "\n",
      "3_15_split/train/white_queen/48_IMG_9333.jpg\n",
      "white_knight: 0.9999964237213135\n",
      "white_queen: 3.399677552806679e-06\n",
      "white_rook: 4.792164887135186e-08\n",
      "white_bishop: 4.523374030895866e-08\n",
      "black_bishop: 4.189865521198044e-08\n",
      "\n"
     ]
    }
   ],
   "source": [
    "# https://github.com/jkjung-avt/keras-cats-dogs-tutorial/blob/master/predict_resnet50.py\n",
    "\n",
    "\"\"\"\n",
    "loops through every class of a dir like data/valid or data/train\n",
    "\"\"\"\n",
    "for cls in ALL_CLASSES: #class is Python keyword\n",
    "    \n",
    "    if cls != \"white_queen\": continue\n",
    "    \n",
    "    print(\"-\"*5,cls,\"-\"*5,\"\\n\")\n",
    "    CLASS_DIR = os.path.join(IMG_DIR, cls)\n",
    "    for filename in os.listdir(CLASS_DIR):\n",
    "        img_path = os.path.join(CLASS_DIR, filename)\n",
    "\n",
    "        img = image.load_img(img_path, target_size=TARGET_SIZE)\n",
    "        if not img: continue\n",
    "        x = image.img_to_array(img)\n",
    "        x = preprocess_input(x)\n",
    "        x = np.expand_dims(x, axis=0) #need to add dim to put into resnet\n",
    "\n",
    "        pred = net.predict(x)[0]\n",
    "        top_inds = pred.argsort()[::-1]\n",
    " \n",
    "        # show if prediction less than 50% sure OR class is wrong\n",
    "        if pred[top_inds[0]] < 0.5 or ALL_CLASSES[top_inds[0]] != cls:     \n",
    "            print(img_path)\n",
    "            for i in top_inds[:5]: #only show top five\n",
    "                print('{}: {}'.format(ALL_CLASSES[i], pred[i]))\n",
    "            print()\n",
    "    \n"
   ]
  },
  {
   "cell_type": "code",
   "execution_count": null,
   "metadata": {},
   "outputs": [],
   "source": []
  }
 ],
 "metadata": {
  "kernelspec": {
   "display_name": "Python 3",
   "language": "python",
   "name": "python3"
  },
  "language_info": {
   "codemirror_mode": {
    "name": "ipython",
    "version": 3
   },
   "file_extension": ".py",
   "mimetype": "text/x-python",
   "name": "python",
   "nbconvert_exporter": "python",
   "pygments_lexer": "ipython3",
   "version": "3.7.5"
  }
 },
 "nbformat": 4,
 "nbformat_minor": 2
}
